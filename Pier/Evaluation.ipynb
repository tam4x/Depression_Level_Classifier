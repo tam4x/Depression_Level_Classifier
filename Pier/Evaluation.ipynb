{
 "cells": [
  {
   "cell_type": "code",
   "execution_count": null,
   "metadata": {},
   "outputs": [],
   "source": [
    "import sys\n",
    "import os\n",
    "\n",
    "# Add the path to the directory where your module is located\n",
    "module_path = os.path.abspath(os.path.join('..', 'C:\\\\Users\\\\pier1\\\\OneDrive\\\\Desktop\\\\uni\\\\Master\\\\2.Semester\\\\Machine Learning (WIWI)\\\\Project\\\\Data for depression\\\\'))\n",
    "if module_path not in sys.path:\n",
    "    sys.path.append(module_path)\n",
    "\n",
    "# Now you can import your module\n",
    "from helpers import *"
   ]
  },
  {
   "cell_type": "code",
   "execution_count": null,
   "metadata": {},
   "outputs": [],
   "source": [
    "import pandas as pd\n",
    "import numpy as np\n",
    "from itertools import combinations\n",
    "import itertools\n",
    "import matplotlib.pyplot as plt\n",
    "import seaborn as sns\n",
    "import torch\n",
    "from sklearn.model_selection import train_test_split\n",
    "from torch.utils.data import Dataset, DataLoader\n",
    "import torch.nn as nn\n",
    "import torch.nn.functional as F\n",
    "import torch.optim as optim\n",
    "from torch.utils.data import DataLoader, TensorDataset\n",
    "from NN import *"
   ]
  },
  {
   "cell_type": "markdown",
   "metadata": {},
   "source": [
    "Use the models to predict the test data and use the confusion matrix and their metrices (accuracy, precision, recall and f1-score)"
   ]
  },
  {
   "cell_type": "code",
   "execution_count": null,
   "metadata": {},
   "outputs": [],
   "source": [
    "input_size = 56\n",
    "hidden_size = 128\n",
    "device = torch.device('cuda' if torch.cuda.is_available() else 'cpu')\n",
    "\n",
    "model_phq_9 = Depression_Classifier_v_2(input_size, hidden_size).to(device)\n",
    "model_phq_9.load_state_dict(torch.load('BP_PHQ_9.pth'))\n",
    "model_phq_9.eval()\n",
    "true_labels_all, predicted_labels_all, TN, FP, FN, TP = evaluate(model_phq_9, device, 'BP_PHQ_9')\n",
    "\n",
    "\n",
    "accuracy, precision, recall, f1 = compute_metrics(TN, FP, FN, TP)\n",
    "print('Accuracy: ', accuracy)\n",
    "print('Precision: ', precision)\n",
    "print('Recall: ', recall)\n",
    "print('F1: ', f1)\n"
   ]
  },
  {
   "cell_type": "code",
   "execution_count": null,
   "metadata": {},
   "outputs": [],
   "source": [
    "model_mh_phq_s = Depression_Classifier_v_2(input_size, hidden_size).to(device)\n",
    "model_mh_phq_s.load_state_dict(torch.load('MH_PHQ_S.pth'))\n",
    "model_mh_phq_s.eval()\n",
    "true_labels_all, predicted_labels_all, TN, FP, FN, TP = evaluate(model_mh_phq_s, device, 'MH_PHQ_S')\n",
    "\n",
    "\n",
    "accuracy, precision, recall, f1 = compute_metrics(TN, FP, FN, TP)\n",
    "print('Accuracy: ', accuracy)\n",
    "print('Precision: ', precision)\n",
    "print('Recall: ', recall)\n",
    "print('F1: ', f1)"
   ]
  },
  {
   "cell_type": "markdown",
   "metadata": {},
   "source": [
    "- The recall is really important here, because we want to detect as many people with depression as possible (TP+FN)\n",
    "- The F1 Score is important aswell, because of the imbalanced dataset"
   ]
  }
 ],
 "metadata": {
  "kernelspec": {
   "display_name": "ML",
   "language": "python",
   "name": "python3"
  },
  "language_info": {
   "codemirror_mode": {
    "name": "ipython",
    "version": 3
   },
   "file_extension": ".py",
   "mimetype": "text/x-python",
   "name": "python",
   "nbconvert_exporter": "python",
   "pygments_lexer": "ipython3",
   "version": "3.8.18"
  }
 },
 "nbformat": 4,
 "nbformat_minor": 2
}
