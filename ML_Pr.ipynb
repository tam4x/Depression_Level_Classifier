{
 "cells": [
  {
   "cell_type": "code",
   "execution_count": null,
   "id": "349bb8e3",
   "metadata": {},
   "outputs": [],
   "source": [
    "import pandas as pd\n",
    "import numpy as np\n",
    "from helpers import *"
   ]
  },
  {
   "cell_type": "code",
   "execution_count": null,
   "id": "4a38a857",
   "metadata": {},
   "outputs": [],
   "source": [
    "pam16_df=pd.read_sas(\"PAM/hn16_pam.sas7bdat\")\n",
    "all16_df=pd.read_sas(\"ALL/hn16_all.sas7bdat\")\n",
    "pam14_df=pd.read_sas(\"PAM/hn14_pam.sas7bdat\")\n",
    "all14_df=pd.read_sas(\"ALL/hn14_all.sas7bdat\")"
   ]
  },
  {
   "cell_type": "markdown",
   "id": "7e20814a",
   "metadata": {},
   "source": [
    "This can be used for EDA"
   ]
  },
  {
   "cell_type": "code",
   "execution_count": null,
   "id": "40f6c2bf",
   "metadata": {},
   "outputs": [],
   "source": [
    "all16_df = all16_df[[\"ID\", \"year\", \"sex\", \"age\", \"BP_PHQ_9\",\n",
    "                  \"mh_PHQ_S\", \"HE_BMI\", \"mh_stress\", \"EQ5D\"]]\n",
    "all14_df = all14_df[[\"id\", \"year\", \"sex\", \"age\", \"BP_PHQ_9\",\n",
    "                  \"mh_PHQ_S\", \"HE_BMI\", \"mh_stress\", \"EQ5D\"]]"
   ]
  },
  {
   "cell_type": "markdown",
   "id": "4de31364",
   "metadata": {},
   "source": [
    "process_data converts all nan Values into the mean values except the Sex Column that is processed in a different way"
   ]
  },
  {
   "cell_type": "code",
   "execution_count": null,
   "id": "30915031",
   "metadata": {},
   "outputs": [],
   "source": [
    "all14_df, all16_df = process_data(all14_df), process_data(all16_df)\n",
    "all14_df.shape, all16_df.shape, pam14_df.shape, pam16_df.shape"
   ]
  },
  {
   "cell_type": "markdown",
   "id": "5fc5a421",
   "metadata": {},
   "source": [
    "turning features into meaningful values"
   ]
  },
  {
   "cell_type": "code",
   "execution_count": null,
   "id": "805df666",
   "metadata": {},
   "outputs": [],
   "source": [
    "#all14_df['BP_PHQ_9'], all16_df['BP_PHQ_9'] = all14_df['BP_PHQ_9'].apply(Depression_Severity_), all16_df['BP_PHQ_9'].apply(Depression_Severity_)\n",
    "#all14_df['mh_PHQ_S'], all16_df['mh_PHQ_S'] = all14_df['mh_PHQ_S'].apply(Depression_Severity), all16_df['mh_PHQ_S'].apply(Depression_Severity)\n",
    "all14_df['HE_BMI'], all16_df['HE_BMI'] = all14_df['HE_BMI'].apply(BMI_range), all16_df['HE_BMI'].apply(BMI_range)\n",
    "pam14_df['sex'], pam16_df['sex'], all14_df['sex'], all16_df['sex'] = pam14_df['sex'].apply(Sex_name), pam16_df['sex'].apply(Sex_name), all14_df['sex'].apply(Sex_name), all16_df['sex'].apply(Sex_name)\n",
    "pam14_df['age'], pam16_df['age'], all14_df['age'], all16_df['age'] = pam14_df['age'].apply(Age_range), pam16_df['age'].apply(Age_range), all14_df['age'].apply(Age_range), all16_df['age'].apply(Age_range)"
   ]
  },
  {
   "cell_type": "code",
   "execution_count": null,
   "id": "f5a1f33c",
   "metadata": {},
   "outputs": [],
   "source": [
    "print(all14_df.head())"
   ]
  },
  {
   "cell_type": "code",
   "execution_count": null,
   "id": "80bdac5f",
   "metadata": {},
   "outputs": [],
   "source": [
    "print(all16_df.head())"
   ]
  },
  {
   "cell_type": "markdown",
   "id": "272b28a6",
   "metadata": {},
   "source": [
    "Turn all columns to uppercase and concatenate the two dataframes from 2014 and 2016 together"
   ]
  },
  {
   "cell_type": "code",
   "execution_count": null,
   "id": "09f2eb45",
   "metadata": {},
   "outputs": [],
   "source": [
    "func = lambda df: df.rename(columns=str.upper)\n",
    "pam14_df, pam16_df, all14_df, all16_df = map(func, [pam14_df, pam16_df, all14_df, all16_df])\n",
    "pam_combined = pd.concat([pam14_df, pam16_df], ignore_index=True)\n",
    "all_combined = pd.concat([all14_df, all16_df], ignore_index=True)\n",
    "pam_combined.drop('MOD_D', axis=1, inplace=True)"
   ]
  },
  {
   "cell_type": "code",
   "execution_count": null,
   "id": "8a7a3892",
   "metadata": {},
   "outputs": [],
   "source": [
    "print(pam_combined.head(), pam_combined.shape, pam_combined.isna().sum().sum())"
   ]
  },
  {
   "cell_type": "code",
   "execution_count": null,
   "id": "120d43e3",
   "metadata": {},
   "outputs": [],
   "source": [
    "print(all_combined['AGE'].unique())\n",
    "print(all_combined['AGE'].isna().sum())\n",
    "print(all_combined.head(), all_combined.shape, all_combined.isna().sum().sum())"
   ]
  },
  {
   "cell_type": "code",
   "execution_count": null,
   "id": "08a5caed",
   "metadata": {},
   "outputs": [],
   "source": [
    "import matplotlib.pyplot as plt\n",
    "import seaborn as sns\n",
    "\n",
    "pam_combined_grouped = pam_combined.groupby('ID')\n",
    "# Initialize the plot\n",
    "plt.figure(figsize=(10, 6))\n",
    "# Iterate over each group\n",
    "for name, group in pam_combined_grouped:\n",
    "    plt.plot(group.index, group['PAXINTEN'], label=name)\n",
    "    break\n",
    "# Adding titles and labels\n",
    "plt.title('PAXINTEN by ID')\n",
    "plt.xlabel('Timestamp')\n",
    "plt.ylabel('PAXINTEN')\n",
    "#plt.legend(title='ID')\n",
    "plt.show()"
   ]
  },
  {
   "cell_type": "markdown",
   "id": "9e7723cf",
   "metadata": {},
   "source": [
    "Create a kombination of IDs based of group blocks contained of SEX -> AGE -> HE_BMI"
   ]
  },
  {
   "cell_type": "code",
   "execution_count": null,
   "id": "df070f8a",
   "metadata": {},
   "outputs": [],
   "source": [
    "from itertools import combinations\n",
    "\n",
    "# Assuming grouped_df is your DataFrame containing the grouped data\n",
    "all_combined_to_group = all_combined[['ID', 'SEX', 'AGE', 'HE_BMI']].iloc[1:100]\n",
    "# Create an empty list to store pairs of IDs\n",
    "id_pairs = []\n",
    "group_names = []\n",
    "sex_names = []\n",
    "age_names = []\n",
    "bmi_names = []\n",
    "PHQ9_value = np.array([])\n",
    "# Iterate over each group\n",
    "for name, group in all_combined_to_group.groupby(['SEX', 'AGE', 'HE_BMI']):\n",
    "    # Get IDs in the group\n",
    "    ids = group['ID'].tolist()\n",
    "    for id_1 in ids:\n",
    "        for id_2 in ids:\n",
    "            if id_1 == id_2 or (id_2,id_1) in id_pairs:\n",
    "                pass\n",
    "            else:\n",
    "                id_pairs.append((id_1,id_2))\n",
    "                group_names.append(name[0] + '_' + name[1] + '_' + name[2])\n",
    "                sex_names.append(name[0])\n",
    "                age_names.append(name[1])\n",
    "                bmi_names.append(name[2])\n",
    "                PHQ9P1 = all_combined.loc[all_combined['ID'] == id_1, 'BP_PHQ_9'].iloc[0]\n",
    "                PHQ9P2 = all_combined.loc[all_combined['ID'] == id_2, 'BP_PHQ_9'].iloc[0]\n",
    "                value = round(abs(PHQ9P1 - PHQ9P2))\n",
    "                PHQ9_value = np.append(PHQ9_value, value)\n",
    "        \n",
    "# Convert the list of ID pairs to a DataFrame\n",
    "threshold = 4\n",
    "id_pairs_df = pd.DataFrame(id_pairs, columns=['ID_1', 'ID_2'])\n",
    "id_pairs_df['group_id'] = group_names\n",
    "id_pairs_df['SEX'] = sex_names\n",
    "id_pairs_df['AGE'] = age_names\n",
    "id_pairs_df['HE_BMI'] = bmi_names\n",
    "id_pairs_df['ID_COMBINED'] = id_pairs_df['ID_1'] + id_pairs_df['ID_2']\n",
    "id_pairs_df['PHQ9_abs'] = PHQ9_value\n",
    "id_pairs_df['Depression'] = (id_pairs_df['PHQ9_abs'] >= threshold).astype(int)\n",
    "# Print the DataFrame containing pairs of IDs\n",
    "print(id_pairs_df.head(100), id_pairs_df.shape)"
   ]
  },
  {
   "cell_type": "markdown",
   "id": "776f5109",
   "metadata": {},
   "source": [
    "Match ID1 and ID2 with the respectively actigraphy data and create a synthetic dataset with abs(PHQ9P2 - PHQ9P1) as the target variable."
   ]
  },
  {
   "cell_type": "code",
   "execution_count": null,
   "id": "dd6f3bde",
   "metadata": {},
   "outputs": [],
   "source": [
    "pam_synthetic = pd.DataFrame()\n",
    "for synthetic_patient in id_pairs_df:\n",
    "    for name, group in pam_combined.groupby(['ID']):\n",
    "        if name == synthetic_patient['ID_1']:\n",
    "            data_patient_1 = group['PAXINTEN']\n",
    "        elif name == synthetic_patient['ID_2']:\n",
    "            data_patient_2 = group['PAXINTEN']\n",
    "\n",
    "    # pam_synthetic = data_patient_1 - data_patient_2"
   ]
  },
  {
   "cell_type": "code",
   "execution_count": null,
   "id": "49a030ab",
   "metadata": {},
   "outputs": [],
   "source": []
  }
 ],
 "metadata": {
  "kernelspec": {
   "display_name": "Python 3 (ipykernel)",
   "language": "python",
   "name": "python3"
  },
  "language_info": {
   "codemirror_mode": {
    "name": "ipython",
    "version": 3
   },
   "file_extension": ".py",
   "mimetype": "text/x-python",
   "name": "python",
   "nbconvert_exporter": "python",
   "pygments_lexer": "ipython3",
   "version": "3.8.18"
  }
 },
 "nbformat": 4,
 "nbformat_minor": 5
}
