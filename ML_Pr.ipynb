{
 "cells": [
  {
   "cell_type": "code",
   "execution_count": null,
   "id": "349bb8e3",
   "metadata": {},
   "outputs": [],
   "source": [
    "import pandas as pd\n",
    "import numpy as np\n",
    "from helpers import *"
   ]
  },
  {
   "cell_type": "code",
   "execution_count": null,
   "id": "4a38a857",
   "metadata": {},
   "outputs": [],
   "source": [
    "pam16_df=pd.read_sas(\"PAM/hn16_pam.sas7bdat\")\n",
    "all16_df=pd.read_sas(\"ALL/hn16_all.sas7bdat\")\n",
    "pam14_df=pd.read_sas(\"PAM/hn14_pam.sas7bdat\")\n",
    "all14_df=pd.read_sas(\"ALL/hn14_all.sas7bdat\")"
   ]
  },
  {
   "cell_type": "markdown",
   "id": "7e20814a",
   "metadata": {},
   "source": [
    "This can be used for EDA"
   ]
  },
  {
   "cell_type": "code",
   "execution_count": null,
   "id": "40f6c2bf",
   "metadata": {},
   "outputs": [],
   "source": [
    "all16_df = all16_df[[\"mod_d\", \"ID\", \"year\", \"sex\", \"age\", \"BP_PHQ_9\",\n",
    "                  \"mh_PHQ_S\", \"HE_BMI\", \"mh_stress\", \"EQ5D\"]]\n",
    "all14_df = all14_df[[\"mod_d\", \"id\", \"year\", \"sex\", \"age\", \"BP_PHQ_9\",\n",
    "                  \"mh_PHQ_S\", \"HE_BMI\", \"mh_stress\", \"EQ5D\"]]"
   ]
  },
  {
   "cell_type": "markdown",
   "id": "4de31364",
   "metadata": {},
   "source": [
    "process_data converts all nan Values into the mean values except the Sex Column that is processed in a different way"
   ]
  },
  {
   "cell_type": "code",
   "execution_count": null,
   "id": "30915031",
   "metadata": {},
   "outputs": [],
   "source": [
    "all14_df, all16_df = process_data(all14_df), process_data(all16_df)"
   ]
  },
  {
   "cell_type": "markdown",
   "id": "5fc5a421",
   "metadata": {},
   "source": [
    "turning features into meaningful values"
   ]
  },
  {
   "cell_type": "code",
   "execution_count": null,
   "id": "805df666",
   "metadata": {},
   "outputs": [],
   "source": [
    "all14_df['BP_PHQ_9'], all16_df['BP_PHQ_9'] = all14_df['BP_PHQ_9'].apply(Depression_Severity_), all16_df['BP_PHQ_9'].apply(Depression_Severity_)\n",
    "all14_df['mh_PHQ_S'], all16_df['mh_PHQ_S'] = all14_df['mh_PHQ_S'].apply(Depression_Severity), all16_df['mh_PHQ_S'].apply(Depression_Severity)\n",
    "all14_df['HE_BMI'], all16_df['HE_BMI'] = all14_df['HE_BMI'].apply(BMI_range), all16_df['HE_BMI'].apply(BMI_range)\n",
    "pam14_df['sex'], pam16_df['sex'], all14_df['sex'], all16_df['sex'] = pam14_df['sex'].apply(Sex_name), pam16_df['sex'].apply(Sex_name), all14_df['sex'].apply(Sex_name), all16_df['sex'].apply(Sex_name)\n",
    "pam14_df['age'], pam16_df['age'], all14_df['age'], all16_df['age'] = pam14_df['age'].apply(Age_range), pam16_df['age'].apply(Age_range), all14_df['age'].apply(Age_range), all16_df['age'].apply(Age_range)"
   ]
  },
  {
   "cell_type": "code",
   "execution_count": null,
   "id": "09f2eb45",
   "metadata": {},
   "outputs": [],
   "source": [
    "print(\"-----PAM14------\")\n",
    "print(pam14_df.describe())\n",
    "print(pam14_df.isnull().sum().sum())\n",
    "print(\"-----PAM16------\")\n",
    "print(pam16_df.describe())\n",
    "print(pam16_df.isnull().sum().sum())\n",
    "print(\"-----ALL14------\")\n",
    "print(all14_df.describe())\n",
    "print(all14_df.isnull().sum().sum())\n",
    "print(\"-----ALL16------\")\n",
    "print(all16_df.describe())\n",
    "print(all16_df.isnull().sum().sum())"
   ]
  },
  {
   "cell_type": "code",
   "execution_count": null,
   "id": "8a7a3892",
   "metadata": {},
   "outputs": [],
   "source": [
    "all14_df.head(5)"
   ]
  },
  {
   "cell_type": "code",
   "execution_count": null,
   "id": "21fcc098",
   "metadata": {},
   "outputs": [],
   "source": []
  }
 ],
 "metadata": {
  "kernelspec": {
   "display_name": "Python 3 (ipykernel)",
   "language": "python",
   "name": "python3"
  },
  "language_info": {
   "codemirror_mode": {
    "name": "ipython",
    "version": 3
   },
   "file_extension": ".py",
   "mimetype": "text/x-python",
   "name": "python",
   "nbconvert_exporter": "python",
   "pygments_lexer": "ipython3",
   "version": "3.11.9"
  }
 },
 "nbformat": 4,
 "nbformat_minor": 5
}
