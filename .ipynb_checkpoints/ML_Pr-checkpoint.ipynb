{
 "cells": [
  {
   "cell_type": "code",
   "execution_count": 1,
   "id": "349bb8e3",
   "metadata": {},
   "outputs": [],
   "source": [
    "import pandas as pd"
   ]
  },
  {
   "cell_type": "code",
   "execution_count": 12,
   "id": "4a38a857",
   "metadata": {},
   "outputs": [
    {
     "name": "stderr",
     "output_type": "stream",
     "text": [
      "C:\\Users\\Chris Toumping\\.conda\\envs\\sspe\\lib\\site-packages\\pandas\\io\\sas\\sas7bdat.py:800: PerformanceWarning: DataFrame is highly fragmented.  This is usually the result of calling `frame.insert` many times, which has poor performance.  Consider joining all columns at once using pd.concat(axis=1) instead.  To get a de-fragmented frame, use `newframe = frame.copy()`\n",
      "  rslt[name] = self._byte_chunk[jb, :].view(dtype=self.byte_order + \"d\")\n",
      "C:\\Users\\Chris Toumping\\.conda\\envs\\sspe\\lib\\site-packages\\pandas\\io\\sas\\sas7bdat.py:809: PerformanceWarning: DataFrame is highly fragmented.  This is usually the result of calling `frame.insert` many times, which has poor performance.  Consider joining all columns at once using pd.concat(axis=1) instead.  To get a de-fragmented frame, use `newframe = frame.copy()`\n",
      "  rslt[name] = self._string_chunk[js, :]\n"
     ]
    }
   ],
   "source": [
    "df10=pd.read_sas(\"hn16_pam.sas7bdat\")\n",
    "df11=pd.read_sas(\"hn16_all.sas7bdat\")\n",
    "df20=pd.read_sas(\"hn14_pam.sas7bdat\")\n",
    "df21=pd.read_sas(\"hn14_all.sas7bdat\")"
   ]
  },
  {
   "cell_type": "markdown",
   "id": "7e20814a",
   "metadata": {},
   "source": [
    "This can be used for EDA"
   ]
  },
  {
   "cell_type": "code",
   "execution_count": null,
   "id": "de018c21",
   "metadata": {},
   "outputs": [],
   "source": [
    "def Depression_Severity_(value): #for BP_PHQ_9\n",
    "    if 0 <= value <= 4:\n",
    "        return \"None_disorder\"\n",
    "    elif value >= 5:\n",
    "        return \"Disorder\"\n",
    "def Depression_Severity(value):#for mh_PHQ_S\n",
    "    if 0 <= value <= 4:\n",
    "        return \"None-minimal\"\n",
    "    elif 5 <= value < 10:\n",
    "        return \"Mild\"\n",
    "    elif 10 <= value < 15:\n",
    "        return \"Moderate\"\n",
    "    elif 15 <= value < 20:\n",
    "        return \"Moderately Severe\"\n",
    "    elif 20 <= value <= 27:\n",
    "        return \"Severe\"\n",
    "    \n",
    "def BMI_range(value):\n",
    "    if value < 18.5:\n",
    "        return \"underweight\"\n",
    "    elif 18.5 <= value < 25:\n",
    "        return \"Healthy Weight\"\n",
    "    elif 25 <= value < 30:\n",
    "        return \"overweight\"\n",
    "    elif value >= 30:\n",
    "        return \"obese\"\n",
    "    \n",
    "def Sex_name(value):\n",
    "    if value == 1:\n",
    "        return \"Male\"\n",
    "    elif value == 2:\n",
    "        return \"Female\"\n",
    "\n",
    "def Age_range(value):\n",
    "    if 19 <= value < 24:\n",
    "        return \"[19-23]\"\n",
    "    elif 24 <= value < 29:\n",
    "        return \"[24-28]\"\n",
    "    elif 29 <= value < 34:\n",
    "        return \"[29-33]\"\n",
    "    elif 34 <= value < 39:\n",
    "        return \"[34-38]\"\n",
    "    elif 39 <= value < 44:\n",
    "        return \"[39-43]\"\n",
    "    elif 44 <= value < 49:\n",
    "        return \"[44-48]\"\n",
    "    elif 49 <= value < 54:\n",
    "        return \"[49-53]\"\n",
    "    elif 54 <= value < 59:\n",
    "        return \"[54-58]\"\n",
    "    elif 59 <= value <= 65:\n",
    "        return \"[59-65]\""
   ]
  },
  {
   "cell_type": "code",
   "execution_count": null,
   "id": "805df666",
   "metadata": {},
   "outputs": [],
   "source": []
  },
  {
   "cell_type": "code",
   "execution_count": null,
   "id": "09f2eb45",
   "metadata": {},
   "outputs": [],
   "source": []
  },
  {
   "cell_type": "code",
   "execution_count": null,
   "id": "8a7a3892",
   "metadata": {},
   "outputs": [],
   "source": []
  },
  {
   "cell_type": "code",
   "execution_count": null,
   "id": "21fcc098",
   "metadata": {},
   "outputs": [],
   "source": []
  }
 ],
 "metadata": {
  "kernelspec": {
   "display_name": "Python 3 (ipykernel)",
   "language": "python",
   "name": "python3"
  },
  "language_info": {
   "codemirror_mode": {
    "name": "ipython",
    "version": 3
   },
   "file_extension": ".py",
   "mimetype": "text/x-python",
   "name": "python",
   "nbconvert_exporter": "python",
   "pygments_lexer": "ipython3",
   "version": "3.7.16"
  }
 },
 "nbformat": 4,
 "nbformat_minor": 5
}
