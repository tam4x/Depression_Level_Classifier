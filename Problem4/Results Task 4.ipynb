{
  "cells": [
    {
      "cell_type": "markdown",
      "id": "d037a6f6-8f80-4bf5-99bc-2efd4f6e8d29",
      "metadata": {
        "id": "d037a6f6-8f80-4bf5-99bc-2efd4f6e8d29"
      },
      "source": [
        "# Task 3: Feature importance"
      ]
    },
    {
      "cell_type": "code",
      "execution_count": null,
      "id": "539e8ff4",
      "metadata": {
        "id": "539e8ff4"
      },
      "outputs": [],
      "source": [
        "# pip install -U scikit-learn # if necessary"
      ]
    },
    {
      "cell_type": "code",
      "execution_count": 4,
      "id": "ecd7073c-4e04-4219-b1f4-f1b6c88a5707",
      "metadata": {
        "tags": [],
        "id": "ecd7073c-4e04-4219-b1f4-f1b6c88a5707"
      },
      "outputs": [],
      "source": [
        "import pickle\n",
        "import numpy as np\n",
        "import pandas as pd\n",
        "from sklearn.datasets import make_regression\n",
        "from sklearn.linear_model import RidgeCV\n",
        "from scipy.stats import pearsonr"
      ]
    },
    {
      "cell_type": "code",
      "execution_count": null,
      "id": "76219bd6",
      "metadata": {
        "id": "76219bd6"
      },
      "outputs": [],
      "source": [
        "## Load data"
      ]
    },
    {
      "cell_type": "code",
      "execution_count": 5,
      "id": "39648f19-a15c-491f-99d8-82f4fb16ff33",
      "metadata": {
        "tags": [],
        "id": "39648f19-a15c-491f-99d8-82f4fb16ff33"
      },
      "outputs": [],
      "source": [
        "with open(\"task3_feature-importance_data.pickle\", \"rb\") as f:\n",
        "    X, y = pickle.load(f)"
      ]
    },
    {
      "cell_type": "markdown",
      "id": "908439a8-7034-4858-bd22-3c4d1778ce99",
      "metadata": {
        "id": "908439a8-7034-4858-bd22-3c4d1778ce99"
      },
      "source": [
        "## Fit model"
      ]
    },
    {
      "cell_type": "code",
      "execution_count": 6,
      "id": "09747f84",
      "metadata": {
        "colab": {
          "base_uri": "https://localhost:8080/",
          "height": 332
        },
        "id": "09747f84",
        "outputId": "1c626ad2-fd98-458e-8d4f-aaf94d626a02"
      },
      "outputs": [
        {
          "output_type": "execute_result",
          "data": {
            "text/plain": [
              "                coef  correlation r  correlation p\n",
              "feature 0   7.549104       0.188073   6.095162e-02\n",
              "feature 1   0.113974       0.092541   3.598008e-01\n",
              "feature 2  38.197013       0.138256   1.701322e-01\n",
              "feature 3  84.491373       0.569326   6.374702e-10\n",
              "feature 4  88.326266       0.523729   2.252291e-08\n",
              "feature 5  -2.902458      -0.105416   2.965699e-01\n",
              "feature 6  -2.562496      -0.129693   1.984219e-01\n",
              "feature 7  11.661303       0.141958   1.588725e-01\n",
              "feature 8  -2.899107      -0.020712   8.379320e-01"
            ],
            "text/html": [
              "\n",
              "  <div id=\"df-27530116-056c-41e5-91de-ad1d2f059370\" class=\"colab-df-container\">\n",
              "    <div>\n",
              "<style scoped>\n",
              "    .dataframe tbody tr th:only-of-type {\n",
              "        vertical-align: middle;\n",
              "    }\n",
              "\n",
              "    .dataframe tbody tr th {\n",
              "        vertical-align: top;\n",
              "    }\n",
              "\n",
              "    .dataframe thead th {\n",
              "        text-align: right;\n",
              "    }\n",
              "</style>\n",
              "<table border=\"1\" class=\"dataframe\">\n",
              "  <thead>\n",
              "    <tr style=\"text-align: right;\">\n",
              "      <th></th>\n",
              "      <th>coef</th>\n",
              "      <th>correlation r</th>\n",
              "      <th>correlation p</th>\n",
              "    </tr>\n",
              "  </thead>\n",
              "  <tbody>\n",
              "    <tr>\n",
              "      <th>feature 0</th>\n",
              "      <td>7.549104</td>\n",
              "      <td>0.188073</td>\n",
              "      <td>6.095162e-02</td>\n",
              "    </tr>\n",
              "    <tr>\n",
              "      <th>feature 1</th>\n",
              "      <td>0.113974</td>\n",
              "      <td>0.092541</td>\n",
              "      <td>3.598008e-01</td>\n",
              "    </tr>\n",
              "    <tr>\n",
              "      <th>feature 2</th>\n",
              "      <td>38.197013</td>\n",
              "      <td>0.138256</td>\n",
              "      <td>1.701322e-01</td>\n",
              "    </tr>\n",
              "    <tr>\n",
              "      <th>feature 3</th>\n",
              "      <td>84.491373</td>\n",
              "      <td>0.569326</td>\n",
              "      <td>6.374702e-10</td>\n",
              "    </tr>\n",
              "    <tr>\n",
              "      <th>feature 4</th>\n",
              "      <td>88.326266</td>\n",
              "      <td>0.523729</td>\n",
              "      <td>2.252291e-08</td>\n",
              "    </tr>\n",
              "    <tr>\n",
              "      <th>feature 5</th>\n",
              "      <td>-2.902458</td>\n",
              "      <td>-0.105416</td>\n",
              "      <td>2.965699e-01</td>\n",
              "    </tr>\n",
              "    <tr>\n",
              "      <th>feature 6</th>\n",
              "      <td>-2.562496</td>\n",
              "      <td>-0.129693</td>\n",
              "      <td>1.984219e-01</td>\n",
              "    </tr>\n",
              "    <tr>\n",
              "      <th>feature 7</th>\n",
              "      <td>11.661303</td>\n",
              "      <td>0.141958</td>\n",
              "      <td>1.588725e-01</td>\n",
              "    </tr>\n",
              "    <tr>\n",
              "      <th>feature 8</th>\n",
              "      <td>-2.899107</td>\n",
              "      <td>-0.020712</td>\n",
              "      <td>8.379320e-01</td>\n",
              "    </tr>\n",
              "  </tbody>\n",
              "</table>\n",
              "</div>\n",
              "    <div class=\"colab-df-buttons\">\n",
              "\n",
              "  <div class=\"colab-df-container\">\n",
              "    <button class=\"colab-df-convert\" onclick=\"convertToInteractive('df-27530116-056c-41e5-91de-ad1d2f059370')\"\n",
              "            title=\"Convert this dataframe to an interactive table.\"\n",
              "            style=\"display:none;\">\n",
              "\n",
              "  <svg xmlns=\"http://www.w3.org/2000/svg\" height=\"24px\" viewBox=\"0 -960 960 960\">\n",
              "    <path d=\"M120-120v-720h720v720H120Zm60-500h600v-160H180v160Zm220 220h160v-160H400v160Zm0 220h160v-160H400v160ZM180-400h160v-160H180v160Zm440 0h160v-160H620v160ZM180-180h160v-160H180v160Zm440 0h160v-160H620v160Z\"/>\n",
              "  </svg>\n",
              "    </button>\n",
              "\n",
              "  <style>\n",
              "    .colab-df-container {\n",
              "      display:flex;\n",
              "      gap: 12px;\n",
              "    }\n",
              "\n",
              "    .colab-df-convert {\n",
              "      background-color: #E8F0FE;\n",
              "      border: none;\n",
              "      border-radius: 50%;\n",
              "      cursor: pointer;\n",
              "      display: none;\n",
              "      fill: #1967D2;\n",
              "      height: 32px;\n",
              "      padding: 0 0 0 0;\n",
              "      width: 32px;\n",
              "    }\n",
              "\n",
              "    .colab-df-convert:hover {\n",
              "      background-color: #E2EBFA;\n",
              "      box-shadow: 0px 1px 2px rgba(60, 64, 67, 0.3), 0px 1px 3px 1px rgba(60, 64, 67, 0.15);\n",
              "      fill: #174EA6;\n",
              "    }\n",
              "\n",
              "    .colab-df-buttons div {\n",
              "      margin-bottom: 4px;\n",
              "    }\n",
              "\n",
              "    [theme=dark] .colab-df-convert {\n",
              "      background-color: #3B4455;\n",
              "      fill: #D2E3FC;\n",
              "    }\n",
              "\n",
              "    [theme=dark] .colab-df-convert:hover {\n",
              "      background-color: #434B5C;\n",
              "      box-shadow: 0px 1px 3px 1px rgba(0, 0, 0, 0.15);\n",
              "      filter: drop-shadow(0px 1px 2px rgba(0, 0, 0, 0.3));\n",
              "      fill: #FFFFFF;\n",
              "    }\n",
              "  </style>\n",
              "\n",
              "    <script>\n",
              "      const buttonEl =\n",
              "        document.querySelector('#df-27530116-056c-41e5-91de-ad1d2f059370 button.colab-df-convert');\n",
              "      buttonEl.style.display =\n",
              "        google.colab.kernel.accessAllowed ? 'block' : 'none';\n",
              "\n",
              "      async function convertToInteractive(key) {\n",
              "        const element = document.querySelector('#df-27530116-056c-41e5-91de-ad1d2f059370');\n",
              "        const dataTable =\n",
              "          await google.colab.kernel.invokeFunction('convertToInteractive',\n",
              "                                                    [key], {});\n",
              "        if (!dataTable) return;\n",
              "\n",
              "        const docLinkHtml = 'Like what you see? Visit the ' +\n",
              "          '<a target=\"_blank\" href=https://colab.research.google.com/notebooks/data_table.ipynb>data table notebook</a>'\n",
              "          + ' to learn more about interactive tables.';\n",
              "        element.innerHTML = '';\n",
              "        dataTable['output_type'] = 'display_data';\n",
              "        await google.colab.output.renderOutput(dataTable, element);\n",
              "        const docLink = document.createElement('div');\n",
              "        docLink.innerHTML = docLinkHtml;\n",
              "        element.appendChild(docLink);\n",
              "      }\n",
              "    </script>\n",
              "  </div>\n",
              "\n",
              "\n",
              "<div id=\"df-53754feb-b9d9-44a2-9717-113d9736aa14\">\n",
              "  <button class=\"colab-df-quickchart\" onclick=\"quickchart('df-53754feb-b9d9-44a2-9717-113d9736aa14')\"\n",
              "            title=\"Suggest charts\"\n",
              "            style=\"display:none;\">\n",
              "\n",
              "<svg xmlns=\"http://www.w3.org/2000/svg\" height=\"24px\"viewBox=\"0 0 24 24\"\n",
              "     width=\"24px\">\n",
              "    <g>\n",
              "        <path d=\"M19 3H5c-1.1 0-2 .9-2 2v14c0 1.1.9 2 2 2h14c1.1 0 2-.9 2-2V5c0-1.1-.9-2-2-2zM9 17H7v-7h2v7zm4 0h-2V7h2v10zm4 0h-2v-4h2v4z\"/>\n",
              "    </g>\n",
              "</svg>\n",
              "  </button>\n",
              "\n",
              "<style>\n",
              "  .colab-df-quickchart {\n",
              "      --bg-color: #E8F0FE;\n",
              "      --fill-color: #1967D2;\n",
              "      --hover-bg-color: #E2EBFA;\n",
              "      --hover-fill-color: #174EA6;\n",
              "      --disabled-fill-color: #AAA;\n",
              "      --disabled-bg-color: #DDD;\n",
              "  }\n",
              "\n",
              "  [theme=dark] .colab-df-quickchart {\n",
              "      --bg-color: #3B4455;\n",
              "      --fill-color: #D2E3FC;\n",
              "      --hover-bg-color: #434B5C;\n",
              "      --hover-fill-color: #FFFFFF;\n",
              "      --disabled-bg-color: #3B4455;\n",
              "      --disabled-fill-color: #666;\n",
              "  }\n",
              "\n",
              "  .colab-df-quickchart {\n",
              "    background-color: var(--bg-color);\n",
              "    border: none;\n",
              "    border-radius: 50%;\n",
              "    cursor: pointer;\n",
              "    display: none;\n",
              "    fill: var(--fill-color);\n",
              "    height: 32px;\n",
              "    padding: 0;\n",
              "    width: 32px;\n",
              "  }\n",
              "\n",
              "  .colab-df-quickchart:hover {\n",
              "    background-color: var(--hover-bg-color);\n",
              "    box-shadow: 0 1px 2px rgba(60, 64, 67, 0.3), 0 1px 3px 1px rgba(60, 64, 67, 0.15);\n",
              "    fill: var(--button-hover-fill-color);\n",
              "  }\n",
              "\n",
              "  .colab-df-quickchart-complete:disabled,\n",
              "  .colab-df-quickchart-complete:disabled:hover {\n",
              "    background-color: var(--disabled-bg-color);\n",
              "    fill: var(--disabled-fill-color);\n",
              "    box-shadow: none;\n",
              "  }\n",
              "\n",
              "  .colab-df-spinner {\n",
              "    border: 2px solid var(--fill-color);\n",
              "    border-color: transparent;\n",
              "    border-bottom-color: var(--fill-color);\n",
              "    animation:\n",
              "      spin 1s steps(1) infinite;\n",
              "  }\n",
              "\n",
              "  @keyframes spin {\n",
              "    0% {\n",
              "      border-color: transparent;\n",
              "      border-bottom-color: var(--fill-color);\n",
              "      border-left-color: var(--fill-color);\n",
              "    }\n",
              "    20% {\n",
              "      border-color: transparent;\n",
              "      border-left-color: var(--fill-color);\n",
              "      border-top-color: var(--fill-color);\n",
              "    }\n",
              "    30% {\n",
              "      border-color: transparent;\n",
              "      border-left-color: var(--fill-color);\n",
              "      border-top-color: var(--fill-color);\n",
              "      border-right-color: var(--fill-color);\n",
              "    }\n",
              "    40% {\n",
              "      border-color: transparent;\n",
              "      border-right-color: var(--fill-color);\n",
              "      border-top-color: var(--fill-color);\n",
              "    }\n",
              "    60% {\n",
              "      border-color: transparent;\n",
              "      border-right-color: var(--fill-color);\n",
              "    }\n",
              "    80% {\n",
              "      border-color: transparent;\n",
              "      border-right-color: var(--fill-color);\n",
              "      border-bottom-color: var(--fill-color);\n",
              "    }\n",
              "    90% {\n",
              "      border-color: transparent;\n",
              "      border-bottom-color: var(--fill-color);\n",
              "    }\n",
              "  }\n",
              "</style>\n",
              "\n",
              "  <script>\n",
              "    async function quickchart(key) {\n",
              "      const quickchartButtonEl =\n",
              "        document.querySelector('#' + key + ' button');\n",
              "      quickchartButtonEl.disabled = true;  // To prevent multiple clicks.\n",
              "      quickchartButtonEl.classList.add('colab-df-spinner');\n",
              "      try {\n",
              "        const charts = await google.colab.kernel.invokeFunction(\n",
              "            'suggestCharts', [key], {});\n",
              "      } catch (error) {\n",
              "        console.error('Error during call to suggestCharts:', error);\n",
              "      }\n",
              "      quickchartButtonEl.classList.remove('colab-df-spinner');\n",
              "      quickchartButtonEl.classList.add('colab-df-quickchart-complete');\n",
              "    }\n",
              "    (() => {\n",
              "      let quickchartButtonEl =\n",
              "        document.querySelector('#df-53754feb-b9d9-44a2-9717-113d9736aa14 button');\n",
              "      quickchartButtonEl.style.display =\n",
              "        google.colab.kernel.accessAllowed ? 'block' : 'none';\n",
              "    })();\n",
              "  </script>\n",
              "</div>\n",
              "\n",
              "  <div id=\"id_6344f2ca-cb51-490c-9517-84313e91cfcf\">\n",
              "    <style>\n",
              "      .colab-df-generate {\n",
              "        background-color: #E8F0FE;\n",
              "        border: none;\n",
              "        border-radius: 50%;\n",
              "        cursor: pointer;\n",
              "        display: none;\n",
              "        fill: #1967D2;\n",
              "        height: 32px;\n",
              "        padding: 0 0 0 0;\n",
              "        width: 32px;\n",
              "      }\n",
              "\n",
              "      .colab-df-generate:hover {\n",
              "        background-color: #E2EBFA;\n",
              "        box-shadow: 0px 1px 2px rgba(60, 64, 67, 0.3), 0px 1px 3px 1px rgba(60, 64, 67, 0.15);\n",
              "        fill: #174EA6;\n",
              "      }\n",
              "\n",
              "      [theme=dark] .colab-df-generate {\n",
              "        background-color: #3B4455;\n",
              "        fill: #D2E3FC;\n",
              "      }\n",
              "\n",
              "      [theme=dark] .colab-df-generate:hover {\n",
              "        background-color: #434B5C;\n",
              "        box-shadow: 0px 1px 3px 1px rgba(0, 0, 0, 0.15);\n",
              "        filter: drop-shadow(0px 1px 2px rgba(0, 0, 0, 0.3));\n",
              "        fill: #FFFFFF;\n",
              "      }\n",
              "    </style>\n",
              "    <button class=\"colab-df-generate\" onclick=\"generateWithVariable('df')\"\n",
              "            title=\"Generate code using this dataframe.\"\n",
              "            style=\"display:none;\">\n",
              "\n",
              "  <svg xmlns=\"http://www.w3.org/2000/svg\" height=\"24px\"viewBox=\"0 0 24 24\"\n",
              "       width=\"24px\">\n",
              "    <path d=\"M7,19H8.4L18.45,9,17,7.55,7,17.6ZM5,21V16.75L18.45,3.32a2,2,0,0,1,2.83,0l1.4,1.43a1.91,1.91,0,0,1,.58,1.4,1.91,1.91,0,0,1-.58,1.4L9.25,21ZM18.45,9,17,7.55Zm-12,3A5.31,5.31,0,0,0,4.9,8.1,5.31,5.31,0,0,0,1,6.5,5.31,5.31,0,0,0,4.9,4.9,5.31,5.31,0,0,0,6.5,1,5.31,5.31,0,0,0,8.1,4.9,5.31,5.31,0,0,0,12,6.5,5.46,5.46,0,0,0,6.5,12Z\"/>\n",
              "  </svg>\n",
              "    </button>\n",
              "    <script>\n",
              "      (() => {\n",
              "      const buttonEl =\n",
              "        document.querySelector('#id_6344f2ca-cb51-490c-9517-84313e91cfcf button.colab-df-generate');\n",
              "      buttonEl.style.display =\n",
              "        google.colab.kernel.accessAllowed ? 'block' : 'none';\n",
              "\n",
              "      buttonEl.onclick = () => {\n",
              "        google.colab.notebook.generateWithVariable('df');\n",
              "      }\n",
              "      })();\n",
              "    </script>\n",
              "  </div>\n",
              "\n",
              "    </div>\n",
              "  </div>\n"
            ],
            "application/vnd.google.colaboratory.intrinsic+json": {
              "type": "dataframe",
              "variable_name": "df",
              "summary": "{\n  \"name\": \"df\",\n  \"rows\": 9,\n  \"fields\": [\n    {\n      \"column\": \"coef\",\n      \"properties\": {\n        \"dtype\": \"number\",\n        \"std\": 37.3178096245389,\n        \"min\": -2.9024582620363972,\n        \"max\": 88.32626625238068,\n        \"num_unique_values\": 9,\n        \"samples\": [\n          11.66130349277758,\n          0.11397363803443028,\n          -2.9024582620363972\n        ],\n        \"semantic_type\": \"\",\n        \"description\": \"\"\n      }\n    },\n    {\n      \"column\": \"correlation r\",\n      \"properties\": {\n        \"dtype\": \"number\",\n        \"std\": 0.24819656000249246,\n        \"min\": -0.12969269636380326,\n        \"max\": 0.5693258051375459,\n        \"num_unique_values\": 9,\n        \"samples\": [\n          0.14195753104276704,\n          0.09254125050001286,\n          -0.10541590811149888\n        ],\n        \"semantic_type\": \"\",\n        \"description\": \"\"\n      }\n    },\n    {\n      \"column\": \"correlation p\",\n      \"properties\": {\n        \"dtype\": \"number\",\n        \"std\": 0.2585684065467705,\n        \"min\": 6.374701818223303e-10,\n        \"max\": 0.8379319538286691,\n        \"num_unique_values\": 9,\n        \"samples\": [\n          0.15887252389766965,\n          0.359800750191949,\n          0.29656991079679235\n        ],\n        \"semantic_type\": \"\",\n        \"description\": \"\"\n      }\n    }\n  ]\n}"
            }
          },
          "metadata": {},
          "execution_count": 6
        }
      ],
      "source": [
        "X2 = np.delete(X, 8, axis=1)\n",
        "model = RidgeCV()\n",
        "model.fit(X2, y)\n",
        "correlations_r = [pearsonr(X2[:, i], y)[0] for i in range(X2.shape[1])]\n",
        "correlations_p = [pearsonr(X2[:, i], y)[1] for i in range(X2.shape[1])]\n",
        "df = pd.DataFrame({\n",
        "        \"coef\": model.coef_.flatten(),\n",
        "        \"correlation r\": correlations_r,\n",
        "        \"correlation p\": correlations_p},\n",
        "    index=[f\"feature {i}\" for i in range(X2.shape[1])])\n",
        "df"
      ]
    },
    {
      "cell_type": "code",
      "execution_count": null,
      "id": "89d87e21",
      "metadata": {
        "collapsed": true,
        "id": "89d87e21",
        "outputId": "566f6dba-e6c7-4c90-d29f-79d27f0fb988"
      },
      "outputs": [
        {
          "data": {
            "text/plain": [
              "array([[-1.89692831e+00,  1.23101785e+00, -8.10444201e-01,\n",
              "         1.15767193e+00,  3.90553333e-01, -5.33551498e-01,\n",
              "        -5.71974963e-02,  1.00000000e+00,  3.17631167e-02],\n",
              "       [-1.92107945e+00,  8.90946359e-03,  2.53760291e-01,\n",
              "        -1.67768380e-01, -1.13403470e+00, -2.35852270e-01,\n",
              "         1.97919175e+00,  1.00000000e+00,  1.57766709e-01],\n",
              "       [ 3.41980156e-01, -5.28121837e-01,  3.98201731e-02,\n",
              "         1.07510718e-01,  3.85936084e-01, -9.10642768e-01,\n",
              "         1.44934311e+00,  1.00000000e+00, -1.28453573e+00],\n",
              "       [ 1.32515718e+00, -1.75385427e+00, -1.03580749e+00,\n",
              "        -7.19374022e-01, -5.46500028e-01, -3.83988035e-01,\n",
              "        -1.04587789e+00,  1.00000000e+00,  4.22197412e-01],\n",
              "       [ 8.78682151e-01,  1.83198098e-01, -6.65877114e-01,\n",
              "         6.44077934e-01,  3.88353719e-01, -2.58774417e-01,\n",
              "         4.71133099e-01,  1.00000000e+00, -1.13250941e+00],\n",
              "       [ 4.51972551e-01, -1.47141197e-01, -1.26487553e-01,\n",
              "         9.84829805e-01,  5.06263584e-01, -1.23375871e+00,\n",
              "        -2.85201443e+00,  1.00000000e+00, -4.08630421e-01],\n",
              "       [-3.19234650e-01, -4.97405991e-01,  2.27807249e-01,\n",
              "        -1.01006813e+00, -2.70767414e-01, -1.62699041e+00,\n",
              "         1.01566724e+00,  1.00000000e+00, -4.12365188e-01],\n",
              "       [-1.49935943e+00, -8.51711796e-01,  6.01181637e-02,\n",
              "         2.72347380e+00, -1.02488881e+00, -6.88172779e-01,\n",
              "        -9.02038663e-01,  1.00000000e+00, -4.54912415e-01],\n",
              "       [ 2.91054390e+00, -1.11957757e+00,  1.63926769e+00,\n",
              "         1.01271514e+00,  1.92495856e+00,  2.79463272e-01,\n",
              "        -1.74479763e-03,  1.00000000e+00, -4.04679219e-01],\n",
              "       [ 1.88396702e+00, -6.60771266e-01, -9.23033177e-01,\n",
              "         2.73696690e+00, -1.66870108e-02,  1.88106339e-01,\n",
              "         4.90914139e-01,  1.00000000e+00, -2.97538443e-01],\n",
              "       [ 9.82369509e-01,  9.89684252e-01,  1.48910798e+00,\n",
              "        -1.67259090e-01, -1.13408416e+00,  2.01002794e+00,\n",
              "         8.47502141e-01,  1.00000000e+00,  1.05472039e+00],\n",
              "       [-1.07880916e+00, -4.56294107e-01, -5.00293793e-01,\n",
              "         1.78572082e+00, -1.85641805e+00, -8.10443481e-01,\n",
              "        -1.00178328e+00,  1.00000000e+00, -1.63732653e+00],\n",
              "       [-3.29227773e-01, -8.41381115e-01,  1.15511775e+00,\n",
              "        -7.69089267e-01, -7.14203807e-01, -1.32018968e+00,\n",
              "        -3.38214882e-02,  1.00000000e+00, -2.08298273e+00],\n",
              "       [ 2.76684719e-01,  3.18485719e-01,  3.16222125e-01,\n",
              "        -6.29815554e-01, -2.10749839e-02, -7.87196880e-02,\n",
              "         5.73334638e-01,  1.00000000e+00, -1.97968150e+00],\n",
              "       [-4.80256813e-01, -1.93150462e-02,  1.44533756e+00,\n",
              "         4.88232904e-02,  1.05859789e+00, -8.07598399e-04,\n",
              "         1.11297983e+00,  1.00000000e+00,  9.03295203e-02],\n",
              "       [-6.17438759e-01,  5.68964323e-01, -2.23548013e-01,\n",
              "         1.45838114e+00,  6.00247937e-01,  3.57866527e-01,\n",
              "        -8.43911868e-01,  1.00000000e+00, -7.59270544e-01],\n",
              "       [-1.37797720e+00,  1.00234500e+00, -6.63941390e-01,\n",
              "         1.32031623e-02,  9.37186165e-01,  4.66387302e-01,\n",
              "         1.10884825e+00,  1.00000000e+00, -1.81633901e+00],\n",
              "       [ 1.65911828e+00, -9.46341726e-01,  1.64926356e+00,\n",
              "         2.25252589e+00, -9.20188520e-01,  6.10594960e-01,\n",
              "         1.10112722e-01,  1.00000000e+00,  3.82449383e-01],\n",
              "       [ 1.36714073e-01,  6.48099140e-01,  7.02706124e-01,\n",
              "         2.83900109e+00,  1.06693641e+00, -7.91466882e-01,\n",
              "        -1.87311552e+00,  1.00000000e+00,  7.67112035e-01],\n",
              "       [ 8.89993466e-02, -6.94927162e-03,  6.25802600e-01,\n",
              "         1.98282768e-01,  9.31612267e-01, -9.18761350e-01,\n",
              "         1.05468469e+00,  1.00000000e+00, -2.62523807e-02],\n",
              "       [ 8.18238627e-01, -6.14740292e-01, -1.55756723e+00,\n",
              "        -1.23040779e+00,  4.00063867e-01,  9.85176529e-01,\n",
              "         6.57947573e-01,  1.00000000e+00,  1.19930052e+00],\n",
              "       [-7.88006447e-01,  7.38095363e-01,  7.98932754e-01,\n",
              "         2.10258116e-01,  1.04937563e+00,  9.18000926e-01,\n",
              "        -6.04428874e-02,  1.00000000e+00,  1.60189948e+00],\n",
              "       [ 1.87633711e+00,  5.69523197e-01,  2.16461877e+00,\n",
              "         2.27601205e-02, -9.73844941e-01,  3.07416112e-01,\n",
              "        -3.69942814e-01,  1.00000000e+00, -4.48569659e-01],\n",
              "       [ 4.18510984e-01,  8.70291930e-01, -1.73739268e+00,\n",
              "         7.50808258e-01, -7.03201512e-01,  2.00862219e+00,\n",
              "         4.32107174e-01,  1.00000000e+00, -1.86395314e+00],\n",
              "       [ 1.11584979e+00, -7.72667652e-01, -1.13862309e+00,\n",
              "         1.32836768e-01, -4.87003448e-03,  3.46435884e-01,\n",
              "        -3.67192336e-01,  1.00000000e+00,  4.84776353e-01],\n",
              "       [ 3.83116319e-02,  3.84785474e-01, -1.36787137e-01,\n",
              "        -7.77654562e-01,  1.63481318e-02, -1.02671931e+00,\n",
              "         7.48799734e-03,  1.00000000e+00,  7.96829721e-01],\n",
              "       [ 4.63207552e-01, -6.17079638e-01,  1.86129868e-02,\n",
              "         5.61408670e-01,  1.59468337e+00,  1.30817950e+00,\n",
              "         1.32924819e-01,  1.00000000e+00, -1.98476822e-01],\n",
              "       [ 2.84408832e-01,  6.53422060e-01, -2.07995414e-01,\n",
              "         6.70945496e-01,  8.10377371e-01, -5.08816763e-01,\n",
              "         8.01656626e-01,  1.00000000e+00, -3.21730404e-01],\n",
              "       [ 2.02447351e-01,  6.94797952e-01, -7.15680190e-01,\n",
              "        -6.97327643e-02,  1.70612558e+00, -1.29671281e-01,\n",
              "        -2.65991901e+00,  1.00000000e+00, -4.26111955e-01],\n",
              "       [ 3.60184571e-01, -2.42976608e-01,  4.79722441e-01,\n",
              "         6.34217423e-01,  6.91272580e-01, -2.72370911e-01,\n",
              "        -1.56478893e+00,  1.00000000e+00, -1.75590442e-02],\n",
              "       [-9.65632552e-01,  6.13109096e-01, -9.75295677e-02,\n",
              "         6.36820391e-02,  7.75335759e-01,  1.71595977e+00,\n",
              "        -4.28610486e-01,  1.00000000e+00,  2.25784308e+00],\n",
              "       [ 1.06746646e+00,  2.03857776e+00,  7.99869524e-01,\n",
              "        -1.56502605e+00,  5.10860473e-01, -7.27742771e-01,\n",
              "        -2.10190794e+00,  1.00000000e+00,  6.36056821e-01],\n",
              "       [ 8.12183139e-01,  2.43517088e-01,  1.20814142e-01,\n",
              "        -4.01824210e-01,  1.19183004e+00,  7.02375522e-01,\n",
              "         8.18564218e-01,  1.00000000e+00,  3.41034975e-01],\n",
              "       [-6.64443324e-01,  7.93158268e-01,  5.96996353e-01,\n",
              "        -6.42988399e-01, -2.62151788e-02,  1.80720850e+00,\n",
              "        -1.46611154e-01,  1.00000000e+00, -1.07218578e+00],\n",
              "       [ 8.12218242e-01,  6.85511194e-01,  3.23610890e-01,\n",
              "         9.85756193e-01, -8.09795558e-01, -8.30462674e-03,\n",
              "         4.59359649e-01,  1.00000000e+00, -3.20776160e-01],\n",
              "       [-1.30274358e+00, -1.98472375e+00,  8.59305974e-01,\n",
              "        -5.91027212e-01, -1.29292124e-01,  1.32763749e-01,\n",
              "        -3.39904741e-01,  1.00000000e+00, -1.39751275e+00],\n",
              "       [-4.40086405e-01,  9.43319816e-01,  1.65156034e-01,\n",
              "        -2.46203690e-01, -7.84137232e-01, -2.95344414e-01,\n",
              "         2.50550925e+00,  1.00000000e+00,  4.99333286e-01],\n",
              "       [-1.38062672e+00, -5.93263821e-01, -4.44788843e-01,\n",
              "        -1.39087700e+00,  4.07370100e-01,  7.55447995e-01,\n",
              "        -7.76060462e-01,  1.00000000e+00,  1.67561130e+00],\n",
              "       [-6.92792641e-01, -6.61151557e-01, -7.23937713e-01,\n",
              "        -9.43310039e-01, -2.80170397e-01, -1.01089971e+00,\n",
              "        -1.05172261e+00,  1.00000000e+00,  5.61686243e-01],\n",
              "       [-9.83781467e-02,  1.35852198e+00,  1.79553873e+00,\n",
              "        -2.90566540e-02,  1.86249040e-01,  3.24393104e-01,\n",
              "        -1.89708026e+00,  1.00000000e+00,  2.34647636e-01],\n",
              "       [ 4.31049903e-01,  1.41863973e+00, -9.74928677e-01,\n",
              "         9.28319305e-04, -1.71582960e+00, -7.79521588e-01,\n",
              "         4.30176928e-01,  1.00000000e+00,  2.02671024e+00],\n",
              "       [ 7.93614880e-01, -1.12531090e+00, -1.19235545e+00,\n",
              "         4.20415519e-01, -1.42748446e-01, -1.09798290e+00,\n",
              "        -9.24122449e-01,  1.00000000e+00,  2.10562840e-01],\n",
              "       [ 1.43401272e-01,  5.66818791e-01, -6.76945305e-01,\n",
              "        -8.95973333e-01,  1.54744064e+00,  1.49616209e+00,\n",
              "        -6.43727505e-01,  1.00000000e+00,  2.14673608e-01],\n",
              "       [ 1.87922629e+00, -8.99011999e-01, -1.67758747e-01,\n",
              "        -7.88243491e-01, -3.36967368e-01, -7.91522844e-01,\n",
              "        -8.13877479e-01,  1.00000000e+00,  5.28467722e-01],\n",
              "       [-2.87435385e-03, -6.02024474e-01,  3.30637075e-01,\n",
              "        -1.18980736e+00, -2.43974328e-01,  1.16977573e+00,\n",
              "        -8.63947857e-01,  1.00000000e+00, -4.42183976e-01],\n",
              "       [-1.80947045e+00, -1.57230739e+00, -3.71978906e-01,\n",
              "        -9.06881833e-01, -4.40809544e-01,  4.26329599e-01,\n",
              "         1.22522138e+00,  0.00000000e+00, -1.22311048e+00],\n",
              "       [-2.40220390e-01,  4.15503044e-01, -8.79129427e-01,\n",
              "         2.74736788e-01,  3.61083725e-01, -7.64923639e-01,\n",
              "         9.11363096e-01,  0.00000000e+00, -6.78710945e-01],\n",
              "       [ 4.38313502e-01,  1.01161492e+00, -5.94983387e-01,\n",
              "         3.63771666e-01,  1.03645871e+00,  9.66350460e-01,\n",
              "         2.16981453e-01,  0.00000000e+00,  1.05483071e+00],\n",
              "       [ 9.70269066e-01,  4.08361552e-01, -1.44214619e+00,\n",
              "         3.31792617e-02, -6.88601716e-01,  1.68591350e+00,\n",
              "         1.15043976e+00,  0.00000000e+00, -2.08384655e-01],\n",
              "       [-2.63298711e-01,  1.40705843e+00, -4.98270750e-01,\n",
              "         1.17821127e+00, -9.56004972e-01,  1.03895189e+00,\n",
              "        -7.51057550e-01,  0.00000000e+00, -2.26567836e+00],\n",
              "       [-1.07686397e+00,  7.60252531e-02,  7.52401456e-01,\n",
              "        -7.02580839e-01, -1.77813538e+00,  2.18090366e-01,\n",
              "         6.85077326e-01,  0.00000000e+00, -2.94140023e-01],\n",
              "       [-1.07558520e+00, -2.19966866e+00,  3.10557496e-01,\n",
              "        -4.50975629e-01,  1.02567622e+00, -9.32364861e-01,\n",
              "        -1.60471903e+00,  0.00000000e+00, -5.44182949e-01],\n",
              "       [-8.07387480e-01,  1.46408084e-01, -6.09496523e-01,\n",
              "        -5.10264862e-01, -8.08601180e-01, -1.57101325e+00,\n",
              "         3.50662094e-01,  0.00000000e+00,  3.45279496e-01],\n",
              "       [-3.58959244e-01,  8.71893307e-01,  1.66212814e+00,\n",
              "        -9.06959271e-01, -8.07751728e-02,  6.17894610e-01,\n",
              "         2.95208870e-01,  0.00000000e+00, -1.99925885e+00],\n",
              "       [-1.46814368e+00,  8.75879763e-02,  1.31635732e+00,\n",
              "         1.24614003e+00, -7.50614717e-01, -5.23221964e-02,\n",
              "         1.85878369e+00,  0.00000000e+00, -1.60491574e+00],\n",
              "       [ 4.84282671e-01, -8.41436775e-01, -3.10710084e-01,\n",
              "        -3.80384221e-01, -4.56709410e-01,  6.87767549e-02,\n",
              "         1.02611107e+00,  0.00000000e+00,  3.58601368e-01],\n",
              "       [ 2.24091373e+00, -1.01005284e+00, -1.08470932e+00,\n",
              "        -1.85112688e+00,  1.12812904e+00, -7.17658005e-01,\n",
              "         2.43543790e-01,  0.00000000e+00,  1.33313831e+00],\n",
              "       [ 2.32749538e+00,  8.16731776e-01,  8.36437878e-01,\n",
              "         4.38321524e-01,  4.48532263e-01, -3.95341584e-01,\n",
              "        -1.76831307e+00,  0.00000000e+00, -5.49413910e-01],\n",
              "       [ 1.12836245e+00,  3.41955628e-01,  7.00063691e-01,\n",
              "         1.10866609e+00,  1.16721146e+00,  8.63236269e-01,\n",
              "         4.49668795e-01,  0.00000000e+00,  1.76651022e+00],\n",
              "       [-9.51650553e-01, -1.17152178e-01, -1.80321465e-01,\n",
              "        -1.18340916e+00, -9.63403694e-01,  8.25664851e-01,\n",
              "         1.06061026e+00,  0.00000000e+00,  6.05445921e-01],\n",
              "       [ 4.26203507e-01, -3.07368882e+00,  5.91188382e-01,\n",
              "         5.20409870e-01,  3.49290932e-01, -3.95159070e-01,\n",
              "        -5.14112178e-01,  0.00000000e+00,  8.25222389e-01],\n",
              "       [ 1.06044037e-01, -2.52425273e+00,  1.23631014e+00,\n",
              "        -4.49305043e-01,  4.88928312e-01,  4.25499770e-01,\n",
              "         1.12227626e+00,  0.00000000e+00, -3.53928170e-01],\n",
              "       [-6.67299482e-01, -1.21586544e-01, -8.44278010e-01,\n",
              "         1.96329995e-01, -1.40945166e+00, -2.86542607e-01,\n",
              "        -8.63846787e-01,  0.00000000e+00, -6.48973366e-01],\n",
              "       [-4.37399978e-02, -6.70121784e-01,  3.04598286e-01,\n",
              "         1.89247752e+00, -2.57441123e+00,  3.19785559e-01,\n",
              "        -3.95646716e-01,  0.00000000e+00,  1.01624908e+00],\n",
              "       [-6.17578606e-01,  1.04416757e+00,  1.13140691e-01,\n",
              "         8.95815073e-01,  8.14644899e-01,  1.07092309e+00,\n",
              "         1.84722287e+00,  0.00000000e+00,  3.94524214e-01],\n",
              "       [ 2.14712074e-01,  2.79546780e+00,  4.75999803e-01,\n",
              "         2.20415805e+00, -4.93165930e-01,  1.51680792e+00,\n",
              "        -9.03900217e-01,  0.00000000e+00,  3.66666582e-01],\n",
              "       [-4.82981016e-01,  2.51813547e-02,  2.19871821e-01,\n",
              "        -2.12919130e-01, -1.19050362e+00, -3.91128155e-01,\n",
              "        -7.05803033e-01,  0.00000000e+00, -1.41149914e+00],\n",
              "       [ 1.88769485e-01,  1.04015809e+00,  9.25156849e-01,\n",
              "         1.69685131e+00, -1.41633276e-01, -6.41170986e-01,\n",
              "        -1.02717511e+00,  0.00000000e+00,  1.40866681e-01],\n",
              "       [-5.22234404e-01,  9.07007571e-01, -6.94326611e-01,\n",
              "         2.02178018e+00,  1.54938839e-02, -1.47405508e+00,\n",
              "         2.19036586e+00,  0.00000000e+00,  1.58382685e-01],\n",
              "       [-6.76618657e-01,  4.47715218e-01,  1.24638970e+00,\n",
              "         2.28885685e-01, -8.47114536e-01, -9.27194852e-01,\n",
              "        -1.05085774e+00,  0.00000000e+00,  6.27498134e-01],\n",
              "       [ 1.09251477e-01, -8.01016779e-01, -1.29793184e+00,\n",
              "         1.24432706e+00,  5.04198366e-01, -7.88684748e-01,\n",
              "        -6.56623502e-01,  0.00000000e+00,  2.08945113e-01],\n",
              "       [ 3.11077311e-01, -1.42852860e-01, -5.59813415e-01,\n",
              "        -3.12038041e-01,  1.65478314e+00,  4.93955345e-01,\n",
              "        -1.94173144e-01,  0.00000000e+00,  1.23045032e+00],\n",
              "       [ 1.65619370e+00,  4.13244828e-01,  6.19227953e-01,\n",
              "        -1.04571829e+00, -1.42069645e+00,  2.07956895e-01,\n",
              "         3.28953291e-01,  0.00000000e+00, -1.43182566e+00],\n",
              "       [-3.69008803e-01,  5.67192735e-01, -6.26954042e-01,\n",
              "        -9.87087817e-01, -1.30205858e+00, -4.04165353e-01,\n",
              "        -1.24537847e+00,  0.00000000e+00,  1.11804879e+00],\n",
              "       [-1.35838920e+00, -1.68496373e+00, -6.55788475e-02,\n",
              "         1.02739437e-01, -3.62265858e-01, -3.15856113e-01,\n",
              "         7.39198315e-01,  0.00000000e+00, -7.21686038e-01],\n",
              "       [ 3.09427374e-01, -1.35485654e+00, -1.96928246e+00,\n",
              "        -6.00462513e-01,  4.96413855e-01,  1.23631233e+00,\n",
              "         5.64630006e-01,  0.00000000e+00, -1.20497627e+00],\n",
              "       [-4.40215986e-01, -5.03741571e-01,  1.75358542e-01,\n",
              "        -2.05630286e-01, -1.30372447e-02,  9.11519720e-01,\n",
              "        -9.55018986e-01,  0.00000000e+00, -4.81954056e-01],\n",
              "       [ 4.18777312e-01, -1.19685385e+00, -3.90413867e-01,\n",
              "        -1.52486309e+00,  2.82745894e-01, -2.63833768e-01,\n",
              "        -1.04103844e+00,  0.00000000e+00,  1.14199507e+00],\n",
              "       [-9.41303082e-01, -1.06485848e+00,  1.25542851e+00,\n",
              "         9.78878562e-01, -1.05465520e+00,  1.33225199e+00,\n",
              "        -7.70682370e-01,  0.00000000e+00,  1.45686737e+00],\n",
              "       [-1.14475225e+00, -1.22355359e+00,  4.84381886e-01,\n",
              "        -1.56274270e+00,  7.41336889e-01,  1.38596309e-01,\n",
              "        -1.47098055e-01,  0.00000000e+00, -3.48978315e-01],\n",
              "       [ 7.68557921e-01, -5.08245774e-01,  1.19709219e+00,\n",
              "        -1.63828856e+00, -2.59975519e-01, -9.73836590e-01,\n",
              "         3.82312977e-01,  0.00000000e+00,  1.42868923e+00],\n",
              "       [-5.51716492e-02,  1.02717436e+00,  1.21863875e+00,\n",
              "        -2.25764275e+00, -1.55572381e+00,  6.94197136e-03,\n",
              "         5.98645681e-01,  0.00000000e+00,  2.21017836e-01],\n",
              "       [-8.43586922e-01, -1.52931389e-01,  1.28266197e+00,\n",
              "        -6.33662139e-01, -1.29424589e+00,  1.21359100e-01,\n",
              "        -3.53208759e-01,  0.00000000e+00, -2.21761087e+00],\n",
              "       [ 5.31152138e-01,  7.09134347e-01, -8.23989769e-01,\n",
              "        -5.49014608e-01,  5.72800577e-01,  2.46332326e-02,\n",
              "        -4.45170837e-01,  0.00000000e+00, -1.42700082e+00],\n",
              "       [ 4.22696534e-01, -2.91405556e-01,  6.26006360e-01,\n",
              "         1.14885038e+00,  1.65855084e+00,  4.08515602e-01,\n",
              "        -1.53843169e+00,  0.00000000e+00, -1.49403722e+00],\n",
              "       [-1.06534241e+00, -1.25249435e+00, -8.09207668e-01,\n",
              "        -4.20873656e-01, -4.79533048e-01,  8.09849796e-01,\n",
              "         1.25302710e-02,  0.00000000e+00,  7.96344737e-01],\n",
              "       [ 3.82765375e-01, -9.43873517e-01, -2.09877141e+00,\n",
              "         3.26303555e-01,  5.59225029e-01,  1.19601141e+00,\n",
              "         1.08621303e+00,  0.00000000e+00,  2.09628248e-03],\n",
              "       [ 7.13276465e-02,  8.31625213e-01, -7.47435884e-01,\n",
              "         1.04016265e+00,  1.60566757e-01, -3.08715506e-01,\n",
              "         9.00842166e-02,  0.00000000e+00, -4.33021007e-02],\n",
              "       [ 1.40635668e-01,  5.08997740e-01,  8.71975346e-01,\n",
              "         6.78095339e-01,  1.07032791e+00, -7.84252542e-01,\n",
              "        -1.08186629e+00,  0.00000000e+00, -7.60893146e-01],\n",
              "       [ 7.27357907e-01,  8.53530308e-01, -6.45376819e-01,\n",
              "         8.79338162e-01,  1.54923038e+00, -2.53568226e+00,\n",
              "        -4.51052294e-01,  0.00000000e+00, -3.18381870e-01],\n",
              "       [ 1.66877789e+00, -1.06829792e+00, -1.91333256e+00,\n",
              "         1.36175374e+00,  1.44097793e+00, -2.20374942e+00,\n",
              "         2.78948849e-02,  0.00000000e+00, -1.16311526e+00],\n",
              "       [-2.54045893e-01,  4.20560323e-01, -1.59297267e-01,\n",
              "        -2.06793120e-01,  6.71685609e-01, -4.79147672e-01,\n",
              "        -8.49795130e-02,  0.00000000e+00,  6.44471880e-01],\n",
              "       [ 1.22562131e-01, -3.70292412e-01, -7.16978812e-01,\n",
              "        -9.91926946e-01, -6.99924768e-02,  1.86979507e+00,\n",
              "        -3.01623036e+00,  0.00000000e+00, -3.12446610e-01],\n",
              "       [ 5.76644670e-01,  5.53992486e-01,  5.74615413e-03,\n",
              "        -7.18304107e-01, -1.08184111e+00,  8.78111095e-01,\n",
              "         7.48861823e-01,  0.00000000e+00,  7.16495894e-01],\n",
              "       [ 1.01033946e+00,  1.24456835e+00, -6.31976690e-01,\n",
              "        -1.22682313e-01,  2.12025872e+00, -1.28790868e+00,\n",
              "        -2.32670460e+00,  0.00000000e+00,  2.13769124e+00],\n",
              "       [ 5.94216682e-01, -4.24429989e-01, -7.91373996e-01,\n",
              "        -1.14790381e+00, -5.89354842e-01,  2.22128453e+00,\n",
              "        -1.92365771e+00,  0.00000000e+00, -1.71499744e-01],\n",
              "       [ 7.76156396e-01,  6.88325898e-01, -6.26833515e-01,\n",
              "         9.00293724e-01, -5.83473109e-02,  5.54367300e-02,\n",
              "         3.64282663e-01,  0.00000000e+00,  9.74359373e-01],\n",
              "       [ 9.75898303e-01, -1.28410537e+00,  2.99610363e+00,\n",
              "        -8.40939977e-01,  5.30955568e-02,  1.18051048e+00,\n",
              "        -8.28197636e-01,  0.00000000e+00, -1.66302162e+00],\n",
              "       [ 8.37520336e-01,  4.36174303e-01, -5.78084785e-01,\n",
              "         2.08116866e-01,  4.20574677e-01,  1.18363721e+00,\n",
              "         4.02069277e-02,  0.00000000e+00, -5.88244456e-01],\n",
              "       [-2.91328442e-01, -5.57561448e-02,  9.25707784e-01,\n",
              "        -6.27155917e-01, -3.97481125e-01, -1.11383902e-01,\n",
              "         5.95173450e-01,  0.00000000e+00, -2.42409442e-02]])"
            ]
          },
          "execution_count": 13,
          "metadata": {},
          "output_type": "execute_result"
        }
      ],
      "source": [
        "X2"
      ]
    },
    {
      "cell_type": "code",
      "execution_count": null,
      "id": "19f20262-9fae-49dd-980a-b5cf20ffebdc",
      "metadata": {
        "tags": [],
        "id": "19f20262-9fae-49dd-980a-b5cf20ffebdc",
        "outputId": "64fa8cbb-c382-4159-f8c5-8bafe1f0e43f"
      },
      "outputs": [
        {
          "data": {
            "text/html": [
              "<style>#sk-container-id-1 {color: black;background-color: white;}#sk-container-id-1 pre{padding: 0;}#sk-container-id-1 div.sk-toggleable {background-color: white;}#sk-container-id-1 label.sk-toggleable__label {cursor: pointer;display: block;width: 100%;margin-bottom: 0;padding: 0.3em;box-sizing: border-box;text-align: center;}#sk-container-id-1 label.sk-toggleable__label-arrow:before {content: \"▸\";float: left;margin-right: 0.25em;color: #696969;}#sk-container-id-1 label.sk-toggleable__label-arrow:hover:before {color: black;}#sk-container-id-1 div.sk-estimator:hover label.sk-toggleable__label-arrow:before {color: black;}#sk-container-id-1 div.sk-toggleable__content {max-height: 0;max-width: 0;overflow: hidden;text-align: left;background-color: #f0f8ff;}#sk-container-id-1 div.sk-toggleable__content pre {margin: 0.2em;color: black;border-radius: 0.25em;background-color: #f0f8ff;}#sk-container-id-1 input.sk-toggleable__control:checked~div.sk-toggleable__content {max-height: 200px;max-width: 100%;overflow: auto;}#sk-container-id-1 input.sk-toggleable__control:checked~label.sk-toggleable__label-arrow:before {content: \"▾\";}#sk-container-id-1 div.sk-estimator input.sk-toggleable__control:checked~label.sk-toggleable__label {background-color: #d4ebff;}#sk-container-id-1 div.sk-label input.sk-toggleable__control:checked~label.sk-toggleable__label {background-color: #d4ebff;}#sk-container-id-1 input.sk-hidden--visually {border: 0;clip: rect(1px 1px 1px 1px);clip: rect(1px, 1px, 1px, 1px);height: 1px;margin: -1px;overflow: hidden;padding: 0;position: absolute;width: 1px;}#sk-container-id-1 div.sk-estimator {font-family: monospace;background-color: #f0f8ff;border: 1px dotted black;border-radius: 0.25em;box-sizing: border-box;margin-bottom: 0.5em;}#sk-container-id-1 div.sk-estimator:hover {background-color: #d4ebff;}#sk-container-id-1 div.sk-parallel-item::after {content: \"\";width: 100%;border-bottom: 1px solid gray;flex-grow: 1;}#sk-container-id-1 div.sk-label:hover label.sk-toggleable__label {background-color: #d4ebff;}#sk-container-id-1 div.sk-serial::before {content: \"\";position: absolute;border-left: 1px solid gray;box-sizing: border-box;top: 0;bottom: 0;left: 50%;z-index: 0;}#sk-container-id-1 div.sk-serial {display: flex;flex-direction: column;align-items: center;background-color: white;padding-right: 0.2em;padding-left: 0.2em;position: relative;}#sk-container-id-1 div.sk-item {position: relative;z-index: 1;}#sk-container-id-1 div.sk-parallel {display: flex;align-items: stretch;justify-content: center;background-color: white;position: relative;}#sk-container-id-1 div.sk-item::before, #sk-container-id-1 div.sk-parallel-item::before {content: \"\";position: absolute;border-left: 1px solid gray;box-sizing: border-box;top: 0;bottom: 0;left: 50%;z-index: -1;}#sk-container-id-1 div.sk-parallel-item {display: flex;flex-direction: column;z-index: 1;position: relative;background-color: white;}#sk-container-id-1 div.sk-parallel-item:first-child::after {align-self: flex-end;width: 50%;}#sk-container-id-1 div.sk-parallel-item:last-child::after {align-self: flex-start;width: 50%;}#sk-container-id-1 div.sk-parallel-item:only-child::after {width: 0;}#sk-container-id-1 div.sk-dashed-wrapped {border: 1px dashed gray;margin: 0 0.4em 0.5em 0.4em;box-sizing: border-box;padding-bottom: 0.4em;background-color: white;}#sk-container-id-1 div.sk-label label {font-family: monospace;font-weight: bold;display: inline-block;line-height: 1.2em;}#sk-container-id-1 div.sk-label-container {text-align: center;}#sk-container-id-1 div.sk-container {/* jupyter's `normalize.less` sets `[hidden] { display: none; }` but bootstrap.min.css set `[hidden] { display: none !important; }` so we also need the `!important` here to be able to override the default hidden behavior on the sphinx rendered scikit-learn.org. See: https://github.com/scikit-learn/scikit-learn/issues/21755 */display: inline-block !important;position: relative;}#sk-container-id-1 div.sk-text-repr-fallback {display: none;}</style><div id=\"sk-container-id-1\" class=\"sk-top-container\"><div class=\"sk-text-repr-fallback\"><pre>RidgeCV()</pre><b>In a Jupyter environment, please rerun this cell to show the HTML representation or trust the notebook. <br />On GitHub, the HTML representation is unable to render, please try loading this page with nbviewer.org.</b></div><div class=\"sk-container\" hidden><div class=\"sk-item\"><div class=\"sk-estimator sk-toggleable\"><input class=\"sk-toggleable__control sk-hidden--visually\" id=\"sk-estimator-id-1\" type=\"checkbox\" checked><label for=\"sk-estimator-id-1\" class=\"sk-toggleable__label sk-toggleable__label-arrow\">RidgeCV</label><div class=\"sk-toggleable__content\"><pre>RidgeCV()</pre></div></div></div></div></div>"
            ],
            "text/plain": [
              "RidgeCV()"
            ]
          },
          "execution_count": 7,
          "metadata": {},
          "output_type": "execute_result"
        }
      ],
      "source": [
        "model = RidgeCV()\n",
        "model.fit(X, y)"
      ]
    },
    {
      "cell_type": "markdown",
      "id": "dbd04307-8af6-4210-b49d-7c1628c4d83f",
      "metadata": {
        "id": "dbd04307-8af6-4210-b49d-7c1628c4d83f"
      },
      "source": [
        "## Analyse correlations and model coefficients"
      ]
    },
    {
      "cell_type": "code",
      "execution_count": null,
      "id": "42111095-046a-4a95-8776-54fea339491a",
      "metadata": {
        "tags": [],
        "id": "42111095-046a-4a95-8776-54fea339491a"
      },
      "outputs": [],
      "source": [
        "correlations_r = [pearsonr(X[:, i], y)[0] for i in range(X.shape[1])]\n",
        "correlations_p = [pearsonr(X[:, i], y)[1] for i in range(X.shape[1])]\n",
        ""
      ]
    },
    {
      "cell_type": "code",
      "execution_count": null,
      "id": "655032af-d823-45a6-a9db-579408e34221",
      "metadata": {
        "tags": [],
        "id": "655032af-d823-45a6-a9db-579408e34221",
        "outputId": "8956869f-44e3-4d9f-b0ab-9a2ff324268f"
      },
      "outputs": [
        {
          "data": {
            "text/html": [
              "<div>\n",
              "<style scoped>\n",
              "    .dataframe tbody tr th:only-of-type {\n",
              "        vertical-align: middle;\n",
              "    }\n",
              "\n",
              "    .dataframe tbody tr th {\n",
              "        vertical-align: top;\n",
              "    }\n",
              "\n",
              "    .dataframe thead th {\n",
              "        text-align: right;\n",
              "    }\n",
              "</style>\n",
              "<table border=\"1\" class=\"dataframe\">\n",
              "  <thead>\n",
              "    <tr style=\"text-align: right;\">\n",
              "      <th></th>\n",
              "      <th>coef</th>\n",
              "      <th>correlation r</th>\n",
              "      <th>correlation p</th>\n",
              "    </tr>\n",
              "  </thead>\n",
              "  <tbody>\n",
              "    <tr>\n",
              "      <th>feature 0</th>\n",
              "      <td>7.025404</td>\n",
              "      <td>0.188073</td>\n",
              "      <td>6.095162e-02</td>\n",
              "    </tr>\n",
              "    <tr>\n",
              "      <th>feature 1</th>\n",
              "      <td>2.377854</td>\n",
              "      <td>0.092541</td>\n",
              "      <td>3.598008e-01</td>\n",
              "    </tr>\n",
              "    <tr>\n",
              "      <th>feature 2</th>\n",
              "      <td>33.485614</td>\n",
              "      <td>0.138256</td>\n",
              "      <td>1.701322e-01</td>\n",
              "    </tr>\n",
              "    <tr>\n",
              "      <th>feature 3</th>\n",
              "      <td>78.315351</td>\n",
              "      <td>0.569326</td>\n",
              "      <td>6.374702e-10</td>\n",
              "    </tr>\n",
              "    <tr>\n",
              "      <th>feature 4</th>\n",
              "      <td>79.870733</td>\n",
              "      <td>0.523729</td>\n",
              "      <td>2.252291e-08</td>\n",
              "    </tr>\n",
              "    <tr>\n",
              "      <th>feature 5</th>\n",
              "      <td>-3.739370</td>\n",
              "      <td>-0.105416</td>\n",
              "      <td>2.965699e-01</td>\n",
              "    </tr>\n",
              "    <tr>\n",
              "      <th>feature 6</th>\n",
              "      <td>-2.360193</td>\n",
              "      <td>-0.129693</td>\n",
              "      <td>1.984219e-01</td>\n",
              "    </tr>\n",
              "    <tr>\n",
              "      <th>feature 7</th>\n",
              "      <td>32.780314</td>\n",
              "      <td>0.141958</td>\n",
              "      <td>1.588725e-01</td>\n",
              "    </tr>\n",
              "    <tr>\n",
              "      <th>feature 8</th>\n",
              "      <td>38.077457</td>\n",
              "      <td>0.030352</td>\n",
              "      <td>7.643480e-01</td>\n",
              "    </tr>\n",
              "    <tr>\n",
              "      <th>feature 9</th>\n",
              "      <td>-4.928516</td>\n",
              "      <td>-0.020712</td>\n",
              "      <td>8.379320e-01</td>\n",
              "    </tr>\n",
              "  </tbody>\n",
              "</table>\n",
              "</div>"
            ],
            "text/plain": [
              "                coef  correlation r  correlation p\n",
              "feature 0   7.025404       0.188073   6.095162e-02\n",
              "feature 1   2.377854       0.092541   3.598008e-01\n",
              "feature 2  33.485614       0.138256   1.701322e-01\n",
              "feature 3  78.315351       0.569326   6.374702e-10\n",
              "feature 4  79.870733       0.523729   2.252291e-08\n",
              "feature 5  -3.739370      -0.105416   2.965699e-01\n",
              "feature 6  -2.360193      -0.129693   1.984219e-01\n",
              "feature 7  32.780314       0.141958   1.588725e-01\n",
              "feature 8  38.077457       0.030352   7.643480e-01\n",
              "feature 9  -4.928516      -0.020712   8.379320e-01"
            ]
          },
          "execution_count": 9,
          "metadata": {},
          "output_type": "execute_result"
        }
      ],
      "source": [
        "df = pd.DataFrame({\n",
        "        \"coef\": model.coef_,\n",
        "        \"correlation r\": correlations_r,\n",
        "        \"correlation p\": correlations_p},\n",
        "    index=[f\"feature {i}\" for i in range(X.shape[1])])\n",
        "df"
      ]
    },
    {
      "cell_type": "code",
      "execution_count": null,
      "id": "f2174c0c-5482-4f6b-82e8-e57aa9704550",
      "metadata": {
        "tags": [],
        "id": "f2174c0c-5482-4f6b-82e8-e57aa9704550",
        "outputId": "db65cbeb-ce27-4311-c79c-a901a3eaaca9"
      },
      "outputs": [
        {
          "data": {
            "text/plain": [
              "(array([0., 1.]), array([0., 1.]))"
            ]
          },
          "execution_count": 37,
          "metadata": {},
          "output_type": "execute_result"
        }
      ],
      "source": [
        "# feature 7 and 8 are binary\n",
        "np.unique(X[:,7]), np.unique(X[:,8])"
      ]
    },
    {
      "cell_type": "code",
      "execution_count": null,
      "id": "94e191b4-3043-48c8-9ce2-9da4a5b268c2",
      "metadata": {
        "tags": [],
        "collapsed": true,
        "id": "94e191b4-3043-48c8-9ce2-9da4a5b268c2",
        "outputId": "461a894e-07dd-412a-bb35-a5708891346d"
      },
      "outputs": [
        {
          "data": {
            "text/plain": [
              "array([False, False, False, False, False, False, False, False, False,\n",
              "       False, False, False, False, False, False, False, False, False,\n",
              "       False, False, False, False, False, False, False, False, False,\n",
              "       False, False, False, False, False, False, False, False, False,\n",
              "       False, False, False, False, False, False, False, False, False,\n",
              "       False, False, False, False, False, False, False, False, False,\n",
              "       False, False, False, False, False, False, False, False, False,\n",
              "       False, False, False, False, False, False, False, False, False,\n",
              "       False, False, False, False, False, False, False, False, False,\n",
              "       False, False, False, False, False, False, False, False, False,\n",
              "       False, False, False, False, False, False, False, False, False,\n",
              "       False])"
            ]
          },
          "execution_count": 38,
          "metadata": {},
          "output_type": "execute_result"
        }
      ],
      "source": [
        "# feature 7 and 8 are mutually exclusive\n",
        "((X[:,7] == 1) & (X[:,8] == 1)).sum()\n",
        "((X[:,7] == 1) & (X[:,8] == 1))"
      ]
    },
    {
      "cell_type": "code",
      "execution_count": null,
      "id": "f57fa0f9-ad96-4fe7-a8ed-b6c9b39507ed",
      "metadata": {
        "tags": [],
        "id": "f57fa0f9-ad96-4fe7-a8ed-b6c9b39507ed",
        "outputId": "f8310395-d24b-4a55-90e0-5505b26cf8c1"
      },
      "outputs": [
        {
          "data": {
            "text/plain": [
              "0.9"
            ]
          },
          "execution_count": 39,
          "metadata": {},
          "output_type": "execute_result"
        }
      ],
      "source": [
        "# feature 7 and 8 nearly cover the whole dataset!\n",
        "((X[:,7] == 1) | (X[:,8] == 1)).sum() / X.shape[0]"
      ]
    },
    {
      "cell_type": "markdown",
      "id": "427a7189-cd59-4ee3-a88a-be272018ad31",
      "metadata": {
        "id": "427a7189-cd59-4ee3-a88a-be272018ad31"
      },
      "source": [
        "## Tasks"
      ]
    },
    {
      "cell_type": "markdown",
      "id": "785a310e-b828-476a-b2df-9bf01adc2b6a",
      "metadata": {
        "id": "785a310e-b828-476a-b2df-9bf01adc2b6a"
      },
      "source": [
        "Feature 7 and 8 seem to be important features for the model (with coefficients > 30!). However, taking a closer look, they are both binary, mutually exclusive, and nearly cover the whole dataset. Also they are barely correlated to the outcome by themselves. I would not expect them to both have such a high importance for the model and on top of that both positive! What is going on?"
      ]
    },
    {
      "cell_type": "markdown",
      "source": [
        "#Analyse the Relationship between the different Features"
      ],
      "metadata": {
        "id": "OmYuoq39ApxR"
      },
      "id": "OmYuoq39ApxR"
    },
    {
      "cell_type": "markdown",
      "source": [
        "First Step build up a Correlation Matrix"
      ],
      "metadata": {
        "id": "ME9PS9VEA7An"
      },
      "id": "ME9PS9VEA7An"
    },
    {
      "cell_type": "code",
      "execution_count": 7,
      "id": "3983e2fa",
      "metadata": {
        "scrolled": true,
        "colab": {
          "base_uri": "https://localhost:8080/",
          "height": 699
        },
        "id": "3983e2fa",
        "outputId": "c5876944-5589-40d9-9885-2f146e70d507"
      },
      "outputs": [
        {
          "output_type": "display_data",
          "data": {
            "text/plain": [
              "<Figure size 1000x800 with 2 Axes>"
            ],
            "image/png": "[encoded data removed]"
          },
          "metadata": {}
        }
      ],
      "source": [
        "import seaborn as sns\n",
        "import matplotlib.pyplot as plt\n",
        "import pandas as pd\n",
        "\n",
        "# Visualize correlations between features\n",
        "plt.figure(figsize=(10, 8))\n",
        "sns.heatmap(pd.DataFrame(X).corr(), annot=True, cmap='coolwarm', fmt=\".2f\", linewidths=.5)\n",
        "plt.title('Correlation Heatmap of Features')\n",
        "plt.show()"
      ]
    },
    {
      "cell_type": "markdown",
      "source": [
        "It is clearly recognisable that there is a high negative correlation between variables 7 and 8. The negative correlation between the two variables indicates that there is multicorrenality."
      ],
      "metadata": {
        "id": "mKum0sX-BDDp"
      },
      "id": "mKum0sX-BDDp"
    },
    {
      "cell_type": "markdown",
      "source": [
        "In the second step, the data structure in the data set was analysed further. It was noticed that variables 7 and 8 have the same length and make up 90% of the data set."
      ],
      "metadata": {
        "id": "iDRd8hxUBT7f"
      },
      "id": "iDRd8hxUBT7f"
    },
    {
      "cell_type": "code",
      "execution_count": null,
      "id": "2aa136db",
      "metadata": {
        "id": "2aa136db",
        "outputId": "8f04ce7b-0e32-4276-a206-64a9c71e6953"
      },
      "outputs": [
        {
          "data": {
            "text/plain": [
              "45"
            ]
          },
          "execution_count": 85,
          "metadata": {},
          "output_type": "execute_result"
        }
      ],
      "source": [
        "(X[:,7] == 1).sum()"
      ]
    },
    {
      "cell_type": "code",
      "execution_count": null,
      "id": "fb484e53",
      "metadata": {
        "scrolled": true,
        "id": "fb484e53",
        "outputId": "3ea5c507-ce92-440e-a5d3-c6d441dc2694"
      },
      "outputs": [
        {
          "data": {
            "text/plain": [
              "45"
            ]
          },
          "execution_count": 86,
          "metadata": {},
          "output_type": "execute_result"
        }
      ],
      "source": [
        "(X[:,8] == 1).sum()"
      ]
    },
    {
      "cell_type": "code",
      "execution_count": null,
      "id": "b64dca88",
      "metadata": {
        "id": "b64dca88",
        "outputId": "bc819b82-4505-44f4-ed6a-30c7085cf949"
      },
      "outputs": [
        {
          "name": "stdout",
          "output_type": "stream",
          "text": [
            "The length of X is: 100\n"
          ]
        }
      ],
      "source": [
        "total_length = len(X)\n",
        "\n",
        "print(f\"The length of X is: {total_length}\")"
      ]
    },
    {
      "cell_type": "markdown",
      "source": [
        "In a third step, the VIF values of the individual features were calculated in relation to each other. However, contrary to expectations, the values are within the tolerable range."
      ],
      "metadata": {
        "id": "nIhSybfMBpAY"
      },
      "id": "nIhSybfMBpAY"
    },
    {
      "cell_type": "code",
      "execution_count": null,
      "id": "45785908",
      "metadata": {
        "id": "45785908",
        "outputId": "2230b693-e3b3-4955-8537-c25209d555bf"
      },
      "outputs": [
        {
          "name": "stdout",
          "output_type": "stream",
          "text": [
            "     feature       VIF\n",
            "0  feature_0  1.113460\n",
            "1  feature_1  1.060959\n",
            "2  feature_2  1.038773\n",
            "3  feature_3  1.071619\n",
            "4  feature_4  1.118985\n",
            "5  feature_5  1.032964\n",
            "6  feature_6  1.076627\n",
            "7  feature_7  1.040059\n",
            "8  feature_8  1.056980\n",
            "9  feature_9  1.050990\n"
          ]
        }
      ],
      "source": [
        "from statsmodels.stats.outliers_influence import variance_inflation_factor\n",
        "X_df = pd.DataFrame(X, columns=[f'feature_{i}' for i in range(X.shape[1])])\n",
        "\n",
        "# Calculating VIF\n",
        "vif_data = pd.DataFrame()\n",
        "vif_data['feature'] = X_df.columns\n",
        "vif_data['VIF'] = [variance_inflation_factor(X_df.values, i) for i in range(X_df.shape[1])]\n",
        "\n",
        "print(vif_data)"
      ]
    },
    {
      "cell_type": "markdown",
      "id": "ff77dd9d",
      "metadata": {
        "id": "ff77dd9d"
      },
      "source": [
        "One possible explanation for the occurrence of the high coefficient but the low correlation with the outcome variable could be multicorrenality. This is made clear by the high negative correlation between F7 and F8. The reason for this problem could be that we have a categorical variable in which the reference category is only represented in 10% of the observations. The remaining observations are equally distributed across the other two categories, resulting in the strong negative correlation. An example of this could be the variable gender, for which a third category other was introduced, but which was only filled in by a few people.\n",
        "Depending on the problem, you could either remove one of the two dummy variables, which would make the removed dummy variable the reference group. Alternatively, you could also remove the observations from the previous reference group from the study if you do not want to add the removed dummy variable to it.\n",
        "Both variants are carried out once below."
      ]
    },
    {
      "cell_type": "markdown",
      "source": [
        "First approch deleting one of the features"
      ],
      "metadata": {
        "id": "SehM4Id8CY8w"
      },
      "id": "SehM4Id8CY8w"
    },
    {
      "cell_type": "code",
      "execution_count": null,
      "id": "178831ec",
      "metadata": {
        "id": "178831ec",
        "outputId": "09693f9c-74a5-4ce6-c664-af8be5ac40f5"
      },
      "outputs": [
        {
          "data": {
            "text/html": [
              "<div>\n",
              "<style scoped>\n",
              "    .dataframe tbody tr th:only-of-type {\n",
              "        vertical-align: middle;\n",
              "    }\n",
              "\n",
              "    .dataframe tbody tr th {\n",
              "        vertical-align: top;\n",
              "    }\n",
              "\n",
              "    .dataframe thead th {\n",
              "        text-align: right;\n",
              "    }\n",
              "</style>\n",
              "<table border=\"1\" class=\"dataframe\">\n",
              "  <thead>\n",
              "    <tr style=\"text-align: right;\">\n",
              "      <th></th>\n",
              "      <th>coef</th>\n",
              "      <th>correlation r</th>\n",
              "      <th>correlation p</th>\n",
              "    </tr>\n",
              "  </thead>\n",
              "  <tbody>\n",
              "    <tr>\n",
              "      <th>feature 0</th>\n",
              "      <td>7.549104</td>\n",
              "      <td>0.188073</td>\n",
              "      <td>6.095162e-02</td>\n",
              "    </tr>\n",
              "    <tr>\n",
              "      <th>feature 1</th>\n",
              "      <td>0.113974</td>\n",
              "      <td>0.092541</td>\n",
              "      <td>3.598008e-01</td>\n",
              "    </tr>\n",
              "    <tr>\n",
              "      <th>feature 2</th>\n",
              "      <td>38.197013</td>\n",
              "      <td>0.138256</td>\n",
              "      <td>1.701322e-01</td>\n",
              "    </tr>\n",
              "    <tr>\n",
              "      <th>feature 3</th>\n",
              "      <td>84.491373</td>\n",
              "      <td>0.569326</td>\n",
              "      <td>6.374702e-10</td>\n",
              "    </tr>\n",
              "    <tr>\n",
              "      <th>feature 4</th>\n",
              "      <td>88.326266</td>\n",
              "      <td>0.523729</td>\n",
              "      <td>2.252291e-08</td>\n",
              "    </tr>\n",
              "    <tr>\n",
              "      <th>feature 5</th>\n",
              "      <td>-2.902458</td>\n",
              "      <td>-0.105416</td>\n",
              "      <td>2.965699e-01</td>\n",
              "    </tr>\n",
              "    <tr>\n",
              "      <th>feature 6</th>\n",
              "      <td>-2.562496</td>\n",
              "      <td>-0.129693</td>\n",
              "      <td>1.984219e-01</td>\n",
              "    </tr>\n",
              "    <tr>\n",
              "      <th>feature 7</th>\n",
              "      <td>11.661303</td>\n",
              "      <td>0.141958</td>\n",
              "      <td>1.588725e-01</td>\n",
              "    </tr>\n",
              "    <tr>\n",
              "      <th>feature 8</th>\n",
              "      <td>-2.899107</td>\n",
              "      <td>-0.020712</td>\n",
              "      <td>8.379320e-01</td>\n",
              "    </tr>\n",
              "  </tbody>\n",
              "</table>\n",
              "</div>"
            ],
            "text/plain": [
              "                coef  correlation r  correlation p\n",
              "feature 0   7.549104       0.188073   6.095162e-02\n",
              "feature 1   0.113974       0.092541   3.598008e-01\n",
              "feature 2  38.197013       0.138256   1.701322e-01\n",
              "feature 3  84.491373       0.569326   6.374702e-10\n",
              "feature 4  88.326266       0.523729   2.252291e-08\n",
              "feature 5  -2.902458      -0.105416   2.965699e-01\n",
              "feature 6  -2.562496      -0.129693   1.984219e-01\n",
              "feature 7  11.661303       0.141958   1.588725e-01\n",
              "feature 8  -2.899107      -0.020712   8.379320e-01"
            ]
          },
          "execution_count": 80,
          "metadata": {},
          "output_type": "execute_result"
        }
      ],
      "source": [
        "X2 = np.delete(X, 8, axis=1)\n",
        "model = RidgeCV()\n",
        "model.fit(X2, y)\n",
        "correlations_r = [pearsonr(X2[:, i], y)[0] for i in range(X2.shape[1])]\n",
        "correlations_p = [pearsonr(X2[:, i], y)[1] for i in range(X2.shape[1])]\n",
        "df = pd.DataFrame({\n",
        "        \"coef\": model.coef_.flatten(),\n",
        "        \"correlation r\": correlations_r,\n",
        "        \"correlation p\": correlations_p},\n",
        "    index=[f\"feature {i}\" for i in range(X2.shape[1])])\n",
        "df\n"
      ]
    },
    {
      "cell_type": "markdown",
      "source": [
        "Through this approch the problem is solved. Now the feature has less importance in the model, which, together with the low correlation, seems plausible"
      ],
      "metadata": {
        "id": "fZ7UFdfDCfMA"
      },
      "id": "fZ7UFdfDCfMA"
    },
    {
      "cell_type": "markdown",
      "source": [
        "Second Approch deleting all Variables in wich feature 7 and 8 are both 0"
      ],
      "metadata": {
        "id": "cmSGSSCGC5s2"
      },
      "id": "cmSGSSCGC5s2"
    },
    {
      "cell_type": "code",
      "execution_count": 8,
      "id": "bc91c502",
      "metadata": {
        "id": "bc91c502"
      },
      "outputs": [],
      "source": [
        "#buildung up a dataframe with X and Y\n",
        "df_X=pd.DataFrame(X)\n",
        "df_X['y'] = y"
      ]
    },
    {
      "cell_type": "code",
      "execution_count": 9,
      "id": "afb100a3",
      "metadata": {
        "colab": {
          "base_uri": "https://localhost:8080/"
        },
        "collapsed": true,
        "id": "afb100a3",
        "outputId": "cf26eb1e-198e-48eb-fa5e-7f5d6d28170c"
      },
      "outputs": [
        {
          "output_type": "stream",
          "name": "stdout",
          "text": [
            "           0         1         2         3         4         5         6    7  \\\n",
            "0  -1.896928  1.231018 -0.810444  1.157672  0.390553 -0.533551 -0.057197  1.0   \n",
            "1  -1.921079  0.008909  0.253760 -0.167768 -1.134035 -0.235852  1.979192  1.0   \n",
            "2   0.341980 -0.528122  0.039820  0.107511  0.385936 -0.910643  1.449343  1.0   \n",
            "3   1.325157 -1.753854 -1.035807 -0.719374 -0.546500 -0.383988 -1.045878  1.0   \n",
            "4   0.878682  0.183198 -0.665877  0.644078  0.388354 -0.258774  0.471133  1.0   \n",
            "..       ...       ...       ...       ...       ...       ...       ...  ...   \n",
            "95  0.594217 -0.424430 -0.791374 -1.147904 -0.589355  2.221285 -1.923658  0.0   \n",
            "96  0.776156  0.688326 -0.626834  0.900294 -0.058347  0.055437  0.364283  0.0   \n",
            "97  0.975898 -1.284105  2.996104 -0.840940  0.053096  1.180510 -0.828198  0.0   \n",
            "98  0.837520  0.436174 -0.578085  0.208117  0.420575  1.183637  0.040207  0.0   \n",
            "99 -0.291328 -0.055756  0.925708 -0.627156 -0.397481 -0.111384  0.595173  0.0   \n",
            "\n",
            "      8         9           y  \n",
            "0   0.0  0.031763   88.410998  \n",
            "1   0.0  0.157767 -101.448586  \n",
            "2   0.0 -1.284536   60.543820  \n",
            "3   0.0  0.422197 -187.009258  \n",
            "4   0.0 -1.132509   45.960226  \n",
            "..  ...       ...         ...  \n",
            "95  1.0 -0.171500 -182.405135  \n",
            "96  1.0  0.974359   60.430709  \n",
            "97  1.0 -1.663022   55.818262  \n",
            "98  1.0 -0.588244   22.089660  \n",
            "99  1.0 -0.024241  -96.988458  \n",
            "\n",
            "[90 rows x 11 columns]\n"
          ]
        }
      ],
      "source": [
        "#define the condition, that both features are 1\n",
        "condition = (df_X[7] == 1) | (df_X[8] == 1)\n",
        "\n",
        "\n",
        "filterd_df_X = df_X[condition]\n",
        "print(filterd_df_X)"
      ]
    },
    {
      "cell_type": "code",
      "execution_count": 10,
      "id": "b1a33ea1",
      "metadata": {
        "colab": {
          "base_uri": "https://localhost:8080/"
        },
        "id": "b1a33ea1",
        "outputId": "123dd276-8317-4ff8-df83-d1f747c6f85e"
      },
      "outputs": [
        {
          "output_type": "stream",
          "name": "stdout",
          "text": [
            "length of X 90\n"
          ]
        }
      ],
      "source": [
        "#checking for the lentgh to to ensure the results\n",
        "length = len(filterd_df_X)\n",
        "\n",
        "print(f\"length of X {length}\")"
      ]
    },
    {
      "cell_type": "code",
      "execution_count": 11,
      "id": "c4df4d5d",
      "metadata": {
        "colab": {
          "base_uri": "https://localhost:8080/"
        },
        "collapsed": true,
        "id": "c4df4d5d",
        "outputId": "5b9520ef-9e2f-43de-92f6-4739344990c0"
      },
      "outputs": [
        {
          "output_type": "stream",
          "name": "stdout",
          "text": [
            "           0         1         2         3         4         5         6    7  \\\n",
            "0  -1.896928  1.231018 -0.810444  1.157672  0.390553 -0.533551 -0.057197  1.0   \n",
            "1  -1.921079  0.008909  0.253760 -0.167768 -1.134035 -0.235852  1.979192  1.0   \n",
            "2   0.341980 -0.528122  0.039820  0.107511  0.385936 -0.910643  1.449343  1.0   \n",
            "3   1.325157 -1.753854 -1.035807 -0.719374 -0.546500 -0.383988 -1.045878  1.0   \n",
            "4   0.878682  0.183198 -0.665877  0.644078  0.388354 -0.258774  0.471133  1.0   \n",
            "..       ...       ...       ...       ...       ...       ...       ...  ...   \n",
            "95  0.594217 -0.424430 -0.791374 -1.147904 -0.589355  2.221285 -1.923658  0.0   \n",
            "96  0.776156  0.688326 -0.626834  0.900294 -0.058347  0.055437  0.364283  0.0   \n",
            "97  0.975898 -1.284105  2.996104 -0.840940  0.053096  1.180510 -0.828198  0.0   \n",
            "98  0.837520  0.436174 -0.578085  0.208117  0.420575  1.183637  0.040207  0.0   \n",
            "99 -0.291328 -0.055756  0.925708 -0.627156 -0.397481 -0.111384  0.595173  0.0   \n",
            "\n",
            "           9           y  \n",
            "0   0.031763   88.410998  \n",
            "1   0.157767 -101.448586  \n",
            "2  -1.284536   60.543820  \n",
            "3   0.422197 -187.009258  \n",
            "4  -1.132509   45.960226  \n",
            "..       ...         ...  \n",
            "95 -0.171500 -182.405135  \n",
            "96  0.974359   60.430709  \n",
            "97 -1.663022   55.818262  \n",
            "98 -0.588244   22.089660  \n",
            "99 -0.024241  -96.988458  \n",
            "\n",
            "[90 rows x 10 columns]\n"
          ]
        }
      ],
      "source": [
        "#deleting one of the features\n",
        "filterd_df_X = filterd_df_X.drop(columns=[8])\n",
        "print(filterd_df_X)"
      ]
    },
    {
      "cell_type": "markdown",
      "source": [
        "define the Variables X and Y again out of the dataframe"
      ],
      "metadata": {
        "id": "-AoewtL1ECKp"
      },
      "id": "-AoewtL1ECKp"
    },
    {
      "cell_type": "code",
      "execution_count": 12,
      "id": "af2ed7b4",
      "metadata": {
        "id": "af2ed7b4"
      },
      "outputs": [],
      "source": [
        "columns_to_include = [col for col in filterd_df_X.columns if col != 'y']\n",
        "\n",
        "\n",
        "X_1 = filterd_df_X[columns_to_include].values"
      ]
    },
    {
      "cell_type": "code",
      "execution_count": null,
      "id": "58de5c50",
      "metadata": {
        "collapsed": true,
        "id": "58de5c50",
        "outputId": "b674902b-e321-4ed2-cb06-9e3199194c9b"
      },
      "outputs": [
        {
          "name": "stdout",
          "output_type": "stream",
          "text": [
            "0      88.410998\n",
            "1    -101.448586\n",
            "2      60.543820\n",
            "3    -187.009258\n",
            "4      45.960226\n",
            "         ...    \n",
            "95   -182.405135\n",
            "96     60.430709\n",
            "97     55.818262\n",
            "98     22.089660\n",
            "99    -96.988458\n",
            "Name: y, Length: 90, dtype: float64\n"
          ]
        }
      ],
      "source": [
        "column_without_name = filterd_df_X.iloc[:, 0]\n",
        "\n",
        "\n",
        "y = filterd_df_X['y']\n",
        "print(y)"
      ]
    },
    {
      "cell_type": "markdown",
      "source": [
        "Run the model again"
      ],
      "metadata": {
        "id": "VpiYpLaZEKbQ"
      },
      "id": "VpiYpLaZEKbQ"
    },
    {
      "cell_type": "code",
      "execution_count": null,
      "id": "68f214c2",
      "metadata": {
        "id": "68f214c2",
        "outputId": "69e8a629-ff00-41f2-925f-0cafb05f69b9"
      },
      "outputs": [
        {
          "data": {
            "text/html": [
              "<div>\n",
              "<style scoped>\n",
              "    .dataframe tbody tr th:only-of-type {\n",
              "        vertical-align: middle;\n",
              "    }\n",
              "\n",
              "    .dataframe tbody tr th {\n",
              "        vertical-align: top;\n",
              "    }\n",
              "\n",
              "    .dataframe thead th {\n",
              "        text-align: right;\n",
              "    }\n",
              "</style>\n",
              "<table border=\"1\" class=\"dataframe\">\n",
              "  <thead>\n",
              "    <tr style=\"text-align: right;\">\n",
              "      <th></th>\n",
              "      <th>coef</th>\n",
              "      <th>correlation r</th>\n",
              "      <th>correlation p</th>\n",
              "    </tr>\n",
              "  </thead>\n",
              "  <tbody>\n",
              "    <tr>\n",
              "      <th>feature 0</th>\n",
              "      <td>-0.663449</td>\n",
              "      <td>0.145965</td>\n",
              "      <td>1.698284e-01</td>\n",
              "    </tr>\n",
              "    <tr>\n",
              "      <th>feature 1</th>\n",
              "      <td>4.947243</td>\n",
              "      <td>0.164670</td>\n",
              "      <td>1.209094e-01</td>\n",
              "    </tr>\n",
              "    <tr>\n",
              "      <th>feature 2</th>\n",
              "      <td>41.994668</td>\n",
              "      <td>0.237661</td>\n",
              "      <td>2.409877e-02</td>\n",
              "    </tr>\n",
              "    <tr>\n",
              "      <th>feature 3</th>\n",
              "      <td>79.675236</td>\n",
              "      <td>0.756856</td>\n",
              "      <td>6.199034e-18</td>\n",
              "    </tr>\n",
              "    <tr>\n",
              "      <th>feature 4</th>\n",
              "      <td>71.757447</td>\n",
              "      <td>0.564353</td>\n",
              "      <td>6.915090e-09</td>\n",
              "    </tr>\n",
              "    <tr>\n",
              "      <th>feature 5</th>\n",
              "      <td>-4.818838</td>\n",
              "      <td>-0.148077</td>\n",
              "      <td>1.636692e-01</td>\n",
              "    </tr>\n",
              "    <tr>\n",
              "      <th>feature 6</th>\n",
              "      <td>2.264529</td>\n",
              "      <td>-0.089182</td>\n",
              "      <td>4.032148e-01</td>\n",
              "    </tr>\n",
              "    <tr>\n",
              "      <th>feature 7</th>\n",
              "      <td>-7.506209</td>\n",
              "      <td>0.086365</td>\n",
              "      <td>4.182893e-01</td>\n",
              "    </tr>\n",
              "    <tr>\n",
              "      <th>feature 8</th>\n",
              "      <td>-2.609760</td>\n",
              "      <td>-0.059479</td>\n",
              "      <td>5.776122e-01</td>\n",
              "    </tr>\n",
              "  </tbody>\n",
              "</table>\n",
              "</div>"
            ],
            "text/plain": [
              "                coef  correlation r  correlation p\n",
              "feature 0  -0.663449       0.145965   1.698284e-01\n",
              "feature 1   4.947243       0.164670   1.209094e-01\n",
              "feature 2  41.994668       0.237661   2.409877e-02\n",
              "feature 3  79.675236       0.756856   6.199034e-18\n",
              "feature 4  71.757447       0.564353   6.915090e-09\n",
              "feature 5  -4.818838      -0.148077   1.636692e-01\n",
              "feature 6   2.264529      -0.089182   4.032148e-01\n",
              "feature 7  -7.506209       0.086365   4.182893e-01\n",
              "feature 8  -2.609760      -0.059479   5.776122e-01"
            ]
          },
          "execution_count": 21,
          "metadata": {},
          "output_type": "execute_result"
        }
      ],
      "source": [
        "model = RidgeCV()\n",
        "model.fit(X_1, y)\n",
        "correlations_r = [pearsonr(X_1[:, i], y)[0] for i in range(X_1.shape[1])]\n",
        "correlations_p = [pearsonr(X_1[:, i], y)[1] for i in range(X_1.shape[1])]\n",
        "df = pd.DataFrame({\n",
        "        \"coef\": model.coef_.flatten(),\n",
        "        \"correlation r\": correlations_r,\n",
        "        \"correlation p\": correlations_p},\n",
        "    index=[f\"feature {i}\" for i in range(X_1.shape[1])])\n",
        "df"
      ]
    },
    {
      "cell_type": "markdown",
      "id": "2aba9928",
      "metadata": {
        "id": "2aba9928"
      },
      "source": [
        "The tables above show that the removal of the one dummy variable causes the value of the coefficient 7 to fall sharply. This effect is greater in the variant where the original reference group was removed. The feature 7 now has a negative coefficient. This effect may have been caused by removing the base group. The effect in this variant is the most undistorted"
      ]
    }
  ],
  "metadata": {
    "kernelspec": {
      "display_name": "Python 3 (ipykernel)",
      "language": "python",
      "name": "python3"
    },
    "language_info": {
      "codemirror_mode": {
        "name": "ipython",
        "version": 3
      },
      "file_extension": ".py",
      "mimetype": "text/x-python",
      "name": "python",
      "nbconvert_exporter": "python",
      "pygments_lexer": "ipython3",
      "version": "3.11.7"
    },
    "colab": {
      "provenance": []
    }
  },
  "nbformat": 4,
  "nbformat_minor": 5
}