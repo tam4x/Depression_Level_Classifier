{
 "cells": [
  {
   "cell_type": "markdown",
   "id": "53ad851c-e846-46f8-bfb0-bdcc5a8abb71",
   "metadata": {},
   "source": [
    "# Multiomics modeling"
   ]
  },
  {
   "cell_type": "markdown",
   "id": "056d3afb-59b4-485d-983d-a4fc4328edc5",
   "metadata": {},
   "source": [
    "Let's look at the paper *\"Multiomics modeling of the immunome, transcriptome, microbiome, proteome and metabolome adaptations during human pregnancy\"* by **Ghaemi et al. 2019** (`task1_multiomics_ghaemi2019multiomics.pdf`).\n",
    "The idea is to use different modalities (measurements collected from the immune system, microbiome, etc.) to characterize biological changes during pregnancy. \n",
    "This includes whether we can predict the gestational age of a mother solely based on the collected biomarkers.\n",
    "\n",
    "**Note**: There is no need to get acquainted with multiomics modeling. In the end, this is just a regular data science task. "
   ]
  },
  {
   "cell_type": "markdown",
   "id": "4010abf9-7c7d-438e-99cf-1678b84962fe",
   "metadata": {},
   "source": [
    "## Load the data"
   ]
  },
  {
   "cell_type": "markdown",
   "id": "a012e941-6fb3-41f7-9f0e-1f4ebcec56ad",
   "metadata": {},
   "source": [
    "Load the data from `multiomics_data.pickle` using `pickle`. You will get a [pandas](https://pandas.pydata.org/docs/user_guide/10min.html) DataFrame containing preprocessed data from the paper (the original data from their paper is a bit messy). The data contains several meta attributes as well as the different modalities.\n",
    "\n",
    "Meta attributes include:\n",
    "\n",
    "* `Sex`: sex of the baby\n",
    "* `timepoint`: 1-3 correspond to the three trimesters, 4 corresponds to postpartum\n",
    "* `gestational_age`: time of sampling"
   ]
  },
  {
   "cell_type": "markdown",
   "id": "b33f1174-8326-4fb5-a5fa-649a41f64401",
   "metadata": {},
   "source": [
    "Modalites are:\n",
    "    \n",
    "* `cellfree_rna`\n",
    "* `metabolomics`\n",
    "* `microbiome`\n",
    "* `plasma_luminex`\n",
    "* `serum_luminex`\n",
    "* `immune_system`\n",
    "* `plasma_somalogic`"
   ]
  },
  {
   "cell_type": "markdown",
   "id": "1eafff87-3cc6-4571-aab3-45125c607f37",
   "metadata": {},
   "source": [
    "For more details pleaase see the paper."
   ]
  },
  {
   "cell_type": "code",
   "execution_count": 2,
   "id": "2a4861cf-7214-4d14-85bc-e7af675d5ba1",
   "metadata": {},
   "outputs": [],
   "source": [
    "import pandas as pd\n",
    "\n",
    "!pip install --upgrade pandas\n",
    "\n",
    "print(pd.__version__)\n"
   ]
  },
  {
   "cell_type": "code",
   "execution_count": 3,
   "id": "256a11a9-81de-478e-99e1-17e0a8a5a837",
   "metadata": {},
   "outputs": [
    {
     "ename": "ModuleNotFoundError",
     "evalue": "No module named 'pandas.core.indexes.numeric'",
     "output_type": "error",
     "traceback": [
      "\u001b[0;31m---------------------------------------------------------------------------\u001b[0m",
      "\u001b[0;31mModuleNotFoundError\u001b[0m                       Traceback (most recent call last)",
      "Cell \u001b[0;32mIn[3], line 7\u001b[0m\n\u001b[1;32m      4\u001b[0m \u001b[38;5;28;01mimport\u001b[39;00m \u001b[38;5;21;01mpickle\u001b[39;00m\n\u001b[1;32m      6\u001b[0m \u001b[38;5;28;01mwith\u001b[39;00m \u001b[38;5;28mopen\u001b[39m(\u001b[38;5;124m\"\u001b[39m\u001b[38;5;124mtask1_multiomics_data.pickle\u001b[39m\u001b[38;5;124m\"\u001b[39m, \u001b[38;5;124m\"\u001b[39m\u001b[38;5;124mrb\u001b[39m\u001b[38;5;124m\"\u001b[39m) \u001b[38;5;28;01mas\u001b[39;00m file:\n\u001b[0;32m----> 7\u001b[0m     data_multiomics \u001b[38;5;241m=\u001b[39m \u001b[43mpickle\u001b[49m\u001b[38;5;241;43m.\u001b[39;49m\u001b[43mload\u001b[49m\u001b[43m(\u001b[49m\u001b[43mfile\u001b[49m\u001b[43m)\u001b[49m\n\u001b[1;32m      9\u001b[0m data_multiomics\u001b[38;5;241m.\u001b[39mhead(\u001b[38;5;241m5\u001b[39m)\n",
      "\u001b[0;31mModuleNotFoundError\u001b[0m: No module named 'pandas.core.indexes.numeric'"
     ]
    }
   ],
   "source": [
    "# code for loading the data\n",
    "\n",
    "import numpy as np\n",
    "import pickle\n",
    "\n",
    "with open(\"task1_multiomics_data.pickle\", \"rb\") as file:\n",
    "    data_multiomics = pickle.load(file)\n",
    "    \n",
    "data_multiomics.head(5)"
   ]
  },
  {
   "cell_type": "markdown",
   "id": "0bb2e51b-5040-43b4-8c2b-5a5fe2b610ff",
   "metadata": {},
   "source": [
    "## Tasks"
   ]
  },
  {
   "cell_type": "markdown",
   "id": "1e208e6c-6b53-4a94-a4d9-eea2545378a1",
   "metadata": {},
   "source": [
    "### Gestational Age"
   ]
  },
  {
   "cell_type": "markdown",
   "id": "72f7cbc5-5d8e-4f45-aaa4-b2d90cfbfdf1",
   "metadata": {},
   "source": [
    "1. **Predict `gestational_age`** using the `immune_system` modality using at least two models (e.g., elastic net, support vector machines, etc...)\n",
    "\n",
    "2. **Evaluate** your models using a measure that you think fits best. If it is a different measure than in the paper, please briefly explain why.\n",
    "\n",
    "3. For your best model, **plot the model predictions** similar to **Figure 2D**.\n",
    "\n",
    "\n",
    "**Hint:** To train and evaluate models, you can use [scikit-learn](https://scikit-learn.org/stable/tutorial/basic/tutorial.html)."
   ]
  },
  {
   "cell_type": "markdown",
   "id": "fd18c532-1f47-46eb-afd3-762fad1d1e72",
   "metadata": {
    "tags": []
   },
   "source": [
    "**Figure 2D:**<br/>\n",
    "\n",
    "<img src=\"task1_multiomics_fig2d.jpeg\">"
   ]
  }
 ],
 "metadata": {
  "kernelspec": {
   "display_name": "Python 3 (ipykernel)",
   "language": "python",
   "name": "python3"
  },
  "language_info": {
   "codemirror_mode": {
    "name": "ipython",
    "version": 3
   },
   "file_extension": ".py",
   "mimetype": "text/x-python",
   "name": "python",
   "nbconvert_exporter": "python",
   "pygments_lexer": "ipython3",
   "version": "3.11.7"
  },
  "toc-autonumbering": true
 },
 "nbformat": 4,
 "nbformat_minor": 5
}
