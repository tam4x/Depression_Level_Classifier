{
 "cells": [
  {
   "cell_type": "code",
   "execution_count": 1,
   "id": "220d4d5f-486c-489c-aae5-c30df1724fe9",
   "metadata": {},
   "outputs": [
    {
     "data": {
      "text/plain": [
       "<bound method NDFrame.head of     Unnamed: 0  Study Subject ID Number     Sex  sex_bin  timepoint  \\\n",
       "0            0                    10565    Male        1          1   \n",
       "1            1                    10565    Male        1          2   \n",
       "2            2                    10565    Male        1          3   \n",
       "3            3                    10565    Male        1          4   \n",
       "4            4                    10603  Female        0          1   \n",
       "..         ...                      ...     ...      ...        ...   \n",
       "63          63                    10631  Female        0          4   \n",
       "64          64                    30101    Male        1          1   \n",
       "65          65                    30101    Male        1          2   \n",
       "66          66                    30101    Male        1          3   \n",
       "67          67                    30101    Male        1          4   \n",
       "\n",
       "    gestational_age  immune_system  immune_system.1  immune_system.2  \\\n",
       "0                11       0.053164         0.054978         0.297875   \n",
       "1                18       0.052857         0.069794         0.279917   \n",
       "2                32       0.053202         0.050829         0.277997   \n",
       "3                 0       0.049906         0.090496         0.266336   \n",
       "4                11       0.103067         0.004128         0.162746   \n",
       "..              ...            ...              ...              ...   \n",
       "63                0       0.091121         0.126476         0.143706   \n",
       "64               10       0.070466         0.070750         0.247024   \n",
       "65               19       0.061253         0.041134         0.236547   \n",
       "66               31       0.052479         0.030232         0.210169   \n",
       "67                0       0.054162         0.054575         0.253223   \n",
       "\n",
       "    immune_system.3  ...  immune_system.524  immune_system.525  \\\n",
       "0          0.136289  ...           0.998954           0.953637   \n",
       "1          0.140350  ...           0.930847           0.822618   \n",
       "2          0.187659  ...           1.077824           0.970954   \n",
       "3          0.156263  ...           0.976888           0.918164   \n",
       "4          0.103950  ...           0.890405           0.800468   \n",
       "..              ...  ...                ...                ...   \n",
       "63         0.048464  ...           1.108355           0.797910   \n",
       "64         0.194472  ...           0.913312           0.717190   \n",
       "65         0.237067  ...           0.954390           0.684022   \n",
       "66         0.245472  ...           0.938450           0.762454   \n",
       "67         0.236906  ...           0.847775           0.611025   \n",
       "\n",
       "    immune_system.526  immune_system.527  immune_system.528  \\\n",
       "0            1.082629           0.808610           0.504269   \n",
       "1            0.931126           0.728738           0.613059   \n",
       "2            1.011011           0.749277           0.752882   \n",
       "3            1.028114           0.790166           0.505349   \n",
       "4            1.067789           0.563615           0.464563   \n",
       "..                ...                ...                ...   \n",
       "63           0.892495           0.753036           0.531549   \n",
       "64           0.758279           0.604196           0.600195   \n",
       "65           0.740287           0.613545           0.604309   \n",
       "66           0.795962           0.607801           0.622691   \n",
       "67           0.706996           0.501137           0.463920   \n",
       "\n",
       "    immune_system.529  immune_system.530  immune_system.531  \\\n",
       "0            0.757424           0.462045           0.454665   \n",
       "1            0.852393           0.506981           0.474408   \n",
       "2            0.813249           0.560379           0.481862   \n",
       "3            0.648406           0.464522           0.445444   \n",
       "4            1.004497           0.378557           0.423530   \n",
       "..                ...                ...                ...   \n",
       "63           0.831332           0.425889           0.412894   \n",
       "64           1.291782           0.443706           0.462645   \n",
       "65           1.125464           0.434801           0.458300   \n",
       "66           1.121270           0.443660           0.474322   \n",
       "67           1.074134           0.393551           0.417736   \n",
       "\n",
       "    immune_system.532  immune_system.533  \n",
       "0            0.443859           0.529431  \n",
       "1            0.491691           0.574133  \n",
       "2            0.505706           0.640245  \n",
       "3            0.438285           0.573058  \n",
       "4            0.332368           0.447904  \n",
       "..                ...                ...  \n",
       "63           0.378466           0.558786  \n",
       "64           0.371572           0.861217  \n",
       "65           0.406314           0.587349  \n",
       "66           0.411770           0.554895  \n",
       "67           0.374301           0.518416  \n",
       "\n",
       "[68 rows x 540 columns]>"
      ]
     },
     "execution_count": 1,
     "metadata": {},
     "output_type": "execute_result"
    }
   ],
   "source": [
    "import pandas as pd\n",
    "import seaborn as sns\n",
    "import matplotlib.pyplot as plt\n",
    "\n",
    "from sklearn.preprocessing import StandardScaler\n",
    "from sklearn.decomposition import PCA\n",
    "\n",
    "file_path = 'data_multinomics_processed.csv'\n",
    "data_multiomics = pd.read_csv(file_path)\n",
    "data_multiomics.head"
   ]
  },
  {
   "cell_type": "code",
   "execution_count": null,
   "id": "3c16adb5-f6f7-46a6-b834-a3441596357e",
   "metadata": {},
   "outputs": [
    {
     "ename": "KeyboardInterrupt",
     "evalue": "",
     "output_type": "error",
     "traceback": [
      "\u001b[0;31m---------------------------------------------------------------------------\u001b[0m",
      "\u001b[0;31mKeyboardInterrupt\u001b[0m                         Traceback (most recent call last)",
      "Cell \u001b[0;32mIn[16], line 70\u001b[0m\n\u001b[1;32m     67\u001b[0m \u001b[38;5;66;03m#Sex is still defined in the binary variable, but string not usable in model \u001b[39;00m\n\u001b[1;32m     68\u001b[0m data_multiomics \u001b[38;5;241m=\u001b[39m data_multiomics\u001b[38;5;241m.\u001b[39mdrop(\u001b[38;5;124m\"\u001b[39m\u001b[38;5;124mSex\u001b[39m\u001b[38;5;124m\"\u001b[39m, axis\u001b[38;5;241m=\u001b[39m\u001b[38;5;241m1\u001b[39m)\n\u001b[0;32m---> 70\u001b[0m \u001b[43mextractor\u001b[49m\u001b[43m(\u001b[49m\u001b[43mdata_multiomics\u001b[49m\u001b[43m)\u001b[49m\n\u001b[1;32m     71\u001b[0m selected_feature \u001b[38;5;241m=\u001b[39m selected_features\n",
      "Cell \u001b[0;32mIn[16], line 46\u001b[0m, in \u001b[0;36mextractor\u001b[0;34m(df, threshold)\u001b[0m\n\u001b[1;32m     44\u001b[0m \u001b[38;5;66;03m# plot correlation matrix of selected features\u001b[39;00m\n\u001b[1;32m     45\u001b[0m plt\u001b[38;5;241m.\u001b[39mfigure(figsize\u001b[38;5;241m=\u001b[39m(\u001b[38;5;241m12\u001b[39m, \u001b[38;5;241m10\u001b[39m))\n\u001b[0;32m---> 46\u001b[0m \u001b[43msns\u001b[49m\u001b[38;5;241;43m.\u001b[39;49m\u001b[43mheatmap\u001b[49m\u001b[43m(\u001b[49m\u001b[43mselected_corr_matrix\u001b[49m\u001b[43m,\u001b[49m\u001b[43m \u001b[49m\u001b[43mannot\u001b[49m\u001b[38;5;241;43m=\u001b[39;49m\u001b[38;5;28;43;01mTrue\u001b[39;49;00m\u001b[43m,\u001b[49m\u001b[43m \u001b[49m\u001b[43mcmap\u001b[49m\u001b[38;5;241;43m=\u001b[39;49m\u001b[38;5;124;43m'\u001b[39;49m\u001b[38;5;124;43mcoolwarm\u001b[39;49m\u001b[38;5;124;43m'\u001b[39;49m\u001b[43m,\u001b[49m\u001b[43m \u001b[49m\u001b[43mvmin\u001b[49m\u001b[38;5;241;43m=\u001b[39;49m\u001b[38;5;241;43m-\u001b[39;49m\u001b[38;5;241;43m1\u001b[39;49m\u001b[43m,\u001b[49m\u001b[43m \u001b[49m\u001b[43mvmax\u001b[49m\u001b[38;5;241;43m=\u001b[39;49m\u001b[38;5;241;43m1\u001b[39;49m\u001b[43m)\u001b[49m\n\u001b[1;32m     47\u001b[0m plt\u001b[38;5;241m.\u001b[39mtitle(\u001b[38;5;124m'\u001b[39m\u001b[38;5;124mCorrelation Matrix of Selected Features\u001b[39m\u001b[38;5;124m'\u001b[39m)\n\u001b[1;32m     48\u001b[0m plt\u001b[38;5;241m.\u001b[39mshow()\n",
      "File \u001b[0;32m/opt/conda/lib/python3.11/site-packages/seaborn/matrix.py:459\u001b[0m, in \u001b[0;36mheatmap\u001b[0;34m(data, vmin, vmax, cmap, center, robust, annot, fmt, annot_kws, linewidths, linecolor, cbar, cbar_kws, cbar_ax, square, xticklabels, yticklabels, mask, ax, **kwargs)\u001b[0m\n\u001b[1;32m    457\u001b[0m \u001b[38;5;28;01mif\u001b[39;00m square:\n\u001b[1;32m    458\u001b[0m     ax\u001b[38;5;241m.\u001b[39mset_aspect(\u001b[38;5;124m\"\u001b[39m\u001b[38;5;124mequal\u001b[39m\u001b[38;5;124m\"\u001b[39m)\n\u001b[0;32m--> 459\u001b[0m \u001b[43mplotter\u001b[49m\u001b[38;5;241;43m.\u001b[39;49m\u001b[43mplot\u001b[49m\u001b[43m(\u001b[49m\u001b[43max\u001b[49m\u001b[43m,\u001b[49m\u001b[43m \u001b[49m\u001b[43mcbar_ax\u001b[49m\u001b[43m,\u001b[49m\u001b[43m \u001b[49m\u001b[43mkwargs\u001b[49m\u001b[43m)\u001b[49m\n\u001b[1;32m    460\u001b[0m \u001b[38;5;28;01mreturn\u001b[39;00m ax\n",
      "File \u001b[0;32m/opt/conda/lib/python3.11/site-packages/seaborn/matrix.py:352\u001b[0m, in \u001b[0;36m_HeatMapper.plot\u001b[0;34m(self, ax, cax, kws)\u001b[0m\n\u001b[1;32m    350\u001b[0m \u001b[38;5;66;03m# Annotate the cells with the formatted values\u001b[39;00m\n\u001b[1;32m    351\u001b[0m \u001b[38;5;28;01mif\u001b[39;00m \u001b[38;5;28mself\u001b[39m\u001b[38;5;241m.\u001b[39mannot:\n\u001b[0;32m--> 352\u001b[0m     \u001b[38;5;28;43mself\u001b[39;49m\u001b[38;5;241;43m.\u001b[39;49m\u001b[43m_annotate_heatmap\u001b[49m\u001b[43m(\u001b[49m\u001b[43max\u001b[49m\u001b[43m,\u001b[49m\u001b[43m \u001b[49m\u001b[43mmesh\u001b[49m\u001b[43m)\u001b[49m\n",
      "File \u001b[0;32m/opt/conda/lib/python3.11/site-packages/seaborn/matrix.py:263\u001b[0m, in \u001b[0;36m_HeatMapper._annotate_heatmap\u001b[0;34m(self, ax, mesh)\u001b[0m\n\u001b[1;32m    261\u001b[0m text_kwargs \u001b[38;5;241m=\u001b[39m \u001b[38;5;28mdict\u001b[39m(color\u001b[38;5;241m=\u001b[39mtext_color, ha\u001b[38;5;241m=\u001b[39m\u001b[38;5;124m\"\u001b[39m\u001b[38;5;124mcenter\u001b[39m\u001b[38;5;124m\"\u001b[39m, va\u001b[38;5;241m=\u001b[39m\u001b[38;5;124m\"\u001b[39m\u001b[38;5;124mcenter\u001b[39m\u001b[38;5;124m\"\u001b[39m)\n\u001b[1;32m    262\u001b[0m text_kwargs\u001b[38;5;241m.\u001b[39mupdate(\u001b[38;5;28mself\u001b[39m\u001b[38;5;241m.\u001b[39mannot_kws)\n\u001b[0;32m--> 263\u001b[0m \u001b[43max\u001b[49m\u001b[38;5;241;43m.\u001b[39;49m\u001b[43mtext\u001b[49m\u001b[43m(\u001b[49m\u001b[43mx\u001b[49m\u001b[43m,\u001b[49m\u001b[43m \u001b[49m\u001b[43my\u001b[49m\u001b[43m,\u001b[49m\u001b[43m \u001b[49m\u001b[43mannotation\u001b[49m\u001b[43m,\u001b[49m\u001b[43m \u001b[49m\u001b[38;5;241;43m*\u001b[39;49m\u001b[38;5;241;43m*\u001b[39;49m\u001b[43mtext_kwargs\u001b[49m\u001b[43m)\u001b[49m\n",
      "File \u001b[0;32m/opt/conda/lib/python3.11/site-packages/matplotlib/axes/_axes.py:700\u001b[0m, in \u001b[0;36mAxes.text\u001b[0;34m(self, x, y, s, fontdict, **kwargs)\u001b[0m\n\u001b[1;32m    632\u001b[0m \u001b[38;5;250m\u001b[39m\u001b[38;5;124;03m\"\"\"\u001b[39;00m\n\u001b[1;32m    633\u001b[0m \u001b[38;5;124;03mAdd text to the Axes.\u001b[39;00m\n\u001b[1;32m    634\u001b[0m \n\u001b[0;32m   (...)\u001b[0m\n\u001b[1;32m    690\u001b[0m \u001b[38;5;124;03m    >>> text(x, y, s, bbox=dict(facecolor='red', alpha=0.5))\u001b[39;00m\n\u001b[1;32m    691\u001b[0m \u001b[38;5;124;03m\"\"\"\u001b[39;00m\n\u001b[1;32m    692\u001b[0m effective_kwargs \u001b[38;5;241m=\u001b[39m {\n\u001b[1;32m    693\u001b[0m     \u001b[38;5;124m'\u001b[39m\u001b[38;5;124mverticalalignment\u001b[39m\u001b[38;5;124m'\u001b[39m: \u001b[38;5;124m'\u001b[39m\u001b[38;5;124mbaseline\u001b[39m\u001b[38;5;124m'\u001b[39m,\n\u001b[1;32m    694\u001b[0m     \u001b[38;5;124m'\u001b[39m\u001b[38;5;124mhorizontalalignment\u001b[39m\u001b[38;5;124m'\u001b[39m: \u001b[38;5;124m'\u001b[39m\u001b[38;5;124mleft\u001b[39m\u001b[38;5;124m'\u001b[39m,\n\u001b[0;32m   (...)\u001b[0m\n\u001b[1;32m    698\u001b[0m     \u001b[38;5;241m*\u001b[39m\u001b[38;5;241m*\u001b[39mkwargs,\n\u001b[1;32m    699\u001b[0m }\n\u001b[0;32m--> 700\u001b[0m t \u001b[38;5;241m=\u001b[39m \u001b[43mmtext\u001b[49m\u001b[38;5;241;43m.\u001b[39;49m\u001b[43mText\u001b[49m\u001b[43m(\u001b[49m\u001b[43mx\u001b[49m\u001b[43m,\u001b[49m\u001b[43m \u001b[49m\u001b[43my\u001b[49m\u001b[43m,\u001b[49m\u001b[43m \u001b[49m\u001b[43mtext\u001b[49m\u001b[38;5;241;43m=\u001b[39;49m\u001b[43ms\u001b[49m\u001b[43m,\u001b[49m\u001b[43m \u001b[49m\u001b[38;5;241;43m*\u001b[39;49m\u001b[38;5;241;43m*\u001b[39;49m\u001b[43meffective_kwargs\u001b[49m\u001b[43m)\u001b[49m\n\u001b[1;32m    701\u001b[0m \u001b[38;5;28;01mif\u001b[39;00m t\u001b[38;5;241m.\u001b[39mget_clip_path() \u001b[38;5;129;01mis\u001b[39;00m \u001b[38;5;28;01mNone\u001b[39;00m:\n\u001b[1;32m    702\u001b[0m     t\u001b[38;5;241m.\u001b[39mset_clip_path(\u001b[38;5;28mself\u001b[39m\u001b[38;5;241m.\u001b[39mpatch)\n",
      "File \u001b[0;32m/opt/conda/lib/python3.11/site-packages/matplotlib/text.py:139\u001b[0m, in \u001b[0;36mText.__init__\u001b[0;34m(self, x, y, text, color, verticalalignment, horizontalalignment, multialignment, fontproperties, rotation, linespacing, rotation_mode, usetex, wrap, transform_rotates_text, parse_math, antialiased, **kwargs)\u001b[0m\n\u001b[1;32m    137\u001b[0m \u001b[38;5;28mself\u001b[39m\u001b[38;5;241m.\u001b[39m_x, \u001b[38;5;28mself\u001b[39m\u001b[38;5;241m.\u001b[39m_y \u001b[38;5;241m=\u001b[39m x, y\n\u001b[1;32m    138\u001b[0m \u001b[38;5;28mself\u001b[39m\u001b[38;5;241m.\u001b[39m_text \u001b[38;5;241m=\u001b[39m \u001b[38;5;124m'\u001b[39m\u001b[38;5;124m'\u001b[39m\n\u001b[0;32m--> 139\u001b[0m \u001b[38;5;28;43mself\u001b[39;49m\u001b[38;5;241;43m.\u001b[39;49m\u001b[43m_reset_visual_defaults\u001b[49m\u001b[43m(\u001b[49m\n\u001b[1;32m    140\u001b[0m \u001b[43m    \u001b[49m\u001b[43mtext\u001b[49m\u001b[38;5;241;43m=\u001b[39;49m\u001b[43mtext\u001b[49m\u001b[43m,\u001b[49m\n\u001b[1;32m    141\u001b[0m \u001b[43m    \u001b[49m\u001b[43mcolor\u001b[49m\u001b[38;5;241;43m=\u001b[39;49m\u001b[43mcolor\u001b[49m\u001b[43m,\u001b[49m\n\u001b[1;32m    142\u001b[0m \u001b[43m    \u001b[49m\u001b[43mfontproperties\u001b[49m\u001b[38;5;241;43m=\u001b[39;49m\u001b[43mfontproperties\u001b[49m\u001b[43m,\u001b[49m\n\u001b[1;32m    143\u001b[0m \u001b[43m    \u001b[49m\u001b[43musetex\u001b[49m\u001b[38;5;241;43m=\u001b[39;49m\u001b[43musetex\u001b[49m\u001b[43m,\u001b[49m\n\u001b[1;32m    144\u001b[0m \u001b[43m    \u001b[49m\u001b[43mparse_math\u001b[49m\u001b[38;5;241;43m=\u001b[39;49m\u001b[43mparse_math\u001b[49m\u001b[43m,\u001b[49m\n\u001b[1;32m    145\u001b[0m \u001b[43m    \u001b[49m\u001b[43mwrap\u001b[49m\u001b[38;5;241;43m=\u001b[39;49m\u001b[43mwrap\u001b[49m\u001b[43m,\u001b[49m\n\u001b[1;32m    146\u001b[0m \u001b[43m    \u001b[49m\u001b[43mverticalalignment\u001b[49m\u001b[38;5;241;43m=\u001b[39;49m\u001b[43mverticalalignment\u001b[49m\u001b[43m,\u001b[49m\n\u001b[1;32m    147\u001b[0m \u001b[43m    \u001b[49m\u001b[43mhorizontalalignment\u001b[49m\u001b[38;5;241;43m=\u001b[39;49m\u001b[43mhorizontalalignment\u001b[49m\u001b[43m,\u001b[49m\n\u001b[1;32m    148\u001b[0m \u001b[43m    \u001b[49m\u001b[43mmultialignment\u001b[49m\u001b[38;5;241;43m=\u001b[39;49m\u001b[43mmultialignment\u001b[49m\u001b[43m,\u001b[49m\n\u001b[1;32m    149\u001b[0m \u001b[43m    \u001b[49m\u001b[43mrotation\u001b[49m\u001b[38;5;241;43m=\u001b[39;49m\u001b[43mrotation\u001b[49m\u001b[43m,\u001b[49m\n\u001b[1;32m    150\u001b[0m \u001b[43m    \u001b[49m\u001b[43mtransform_rotates_text\u001b[49m\u001b[38;5;241;43m=\u001b[39;49m\u001b[43mtransform_rotates_text\u001b[49m\u001b[43m,\u001b[49m\n\u001b[1;32m    151\u001b[0m \u001b[43m    \u001b[49m\u001b[43mlinespacing\u001b[49m\u001b[38;5;241;43m=\u001b[39;49m\u001b[43mlinespacing\u001b[49m\u001b[43m,\u001b[49m\n\u001b[1;32m    152\u001b[0m \u001b[43m    \u001b[49m\u001b[43mrotation_mode\u001b[49m\u001b[38;5;241;43m=\u001b[39;49m\u001b[43mrotation_mode\u001b[49m\u001b[43m,\u001b[49m\n\u001b[1;32m    153\u001b[0m \u001b[43m    \u001b[49m\u001b[43mantialiased\u001b[49m\u001b[38;5;241;43m=\u001b[39;49m\u001b[43mantialiased\u001b[49m\n\u001b[1;32m    154\u001b[0m \u001b[43m\u001b[49m\u001b[43m)\u001b[49m\n\u001b[1;32m    155\u001b[0m \u001b[38;5;28mself\u001b[39m\u001b[38;5;241m.\u001b[39mupdate(kwargs)\n",
      "File \u001b[0;32m/opt/conda/lib/python3.11/site-packages/matplotlib/text.py:183\u001b[0m, in \u001b[0;36mText._reset_visual_defaults\u001b[0;34m(self, text, color, fontproperties, usetex, parse_math, wrap, verticalalignment, horizontalalignment, multialignment, rotation, transform_rotates_text, linespacing, rotation_mode, antialiased)\u001b[0m\n\u001b[1;32m    181\u001b[0m \u001b[38;5;28mself\u001b[39m\u001b[38;5;241m.\u001b[39mset_horizontalalignment(horizontalalignment)\n\u001b[1;32m    182\u001b[0m \u001b[38;5;28mself\u001b[39m\u001b[38;5;241m.\u001b[39m_multialignment \u001b[38;5;241m=\u001b[39m multialignment\n\u001b[0;32m--> 183\u001b[0m \u001b[38;5;28;43mself\u001b[39;49m\u001b[38;5;241;43m.\u001b[39;49m\u001b[43mset_rotation\u001b[49m\u001b[43m(\u001b[49m\u001b[43mrotation\u001b[49m\u001b[43m)\u001b[49m\n\u001b[1;32m    184\u001b[0m \u001b[38;5;28mself\u001b[39m\u001b[38;5;241m.\u001b[39m_transform_rotates_text \u001b[38;5;241m=\u001b[39m transform_rotates_text\n\u001b[1;32m    185\u001b[0m \u001b[38;5;28mself\u001b[39m\u001b[38;5;241m.\u001b[39m_bbox_patch \u001b[38;5;241m=\u001b[39m \u001b[38;5;28;01mNone\u001b[39;00m  \u001b[38;5;66;03m# a FancyBboxPatch instance\u001b[39;00m\n",
      "File \u001b[0;32m/opt/conda/lib/python3.11/site-packages/matplotlib/text.py:1233\u001b[0m, in \u001b[0;36mText.set_rotation\u001b[0;34m(self, s)\u001b[0m\n\u001b[1;32m   1230\u001b[0m \u001b[38;5;28;01melse\u001b[39;00m:\n\u001b[1;32m   1231\u001b[0m     \u001b[38;5;28;01mraise\u001b[39;00m \u001b[38;5;167;01mValueError\u001b[39;00m(\u001b[38;5;124m\"\u001b[39m\u001b[38;5;124mrotation must be \u001b[39m\u001b[38;5;124m'\u001b[39m\u001b[38;5;124mvertical\u001b[39m\u001b[38;5;124m'\u001b[39m\u001b[38;5;124m, \u001b[39m\u001b[38;5;124m'\u001b[39m\u001b[38;5;124mhorizontal\u001b[39m\u001b[38;5;124m'\u001b[39m\u001b[38;5;124m or \u001b[39m\u001b[38;5;124m\"\u001b[39m\n\u001b[1;32m   1232\u001b[0m                      \u001b[38;5;124mf\u001b[39m\u001b[38;5;124m\"\u001b[39m\u001b[38;5;124ma number, not \u001b[39m\u001b[38;5;132;01m{\u001b[39;00ms\u001b[38;5;132;01m}\u001b[39;00m\u001b[38;5;124m\"\u001b[39m)\n\u001b[0;32m-> 1233\u001b[0m \u001b[38;5;28;43mself\u001b[39;49m\u001b[38;5;241;43m.\u001b[39;49m\u001b[43mstale\u001b[49m \u001b[38;5;241m=\u001b[39m \u001b[38;5;28;01mTrue\u001b[39;00m\n",
      "File \u001b[0;32m/opt/conda/lib/python3.11/site-packages/matplotlib/artist.py:317\u001b[0m, in \u001b[0;36mArtist.stale\u001b[0;34m(self, val)\u001b[0m\n\u001b[1;32m    311\u001b[0m \u001b[38;5;250m    \u001b[39m\u001b[38;5;124;03m\"\"\"\u001b[39;00m\n\u001b[1;32m    312\u001b[0m \u001b[38;5;124;03m    Whether the artist is 'stale' and needs to be re-drawn for the output\u001b[39;00m\n\u001b[1;32m    313\u001b[0m \u001b[38;5;124;03m    to match the internal state of the artist.\u001b[39;00m\n\u001b[1;32m    314\u001b[0m \u001b[38;5;124;03m    \"\"\"\u001b[39;00m\n\u001b[1;32m    315\u001b[0m     \u001b[38;5;28;01mreturn\u001b[39;00m \u001b[38;5;28mself\u001b[39m\u001b[38;5;241m.\u001b[39m_stale\n\u001b[0;32m--> 317\u001b[0m \u001b[38;5;129m@stale\u001b[39m\u001b[38;5;241m.\u001b[39msetter\n\u001b[1;32m    318\u001b[0m \u001b[38;5;28;01mdef\u001b[39;00m \u001b[38;5;21mstale\u001b[39m(\u001b[38;5;28mself\u001b[39m, val):\n\u001b[1;32m    319\u001b[0m     \u001b[38;5;28mself\u001b[39m\u001b[38;5;241m.\u001b[39m_stale \u001b[38;5;241m=\u001b[39m val\n\u001b[1;32m    321\u001b[0m     \u001b[38;5;66;03m# if the artist is animated it does not take normal part in the\u001b[39;00m\n\u001b[1;32m    322\u001b[0m     \u001b[38;5;66;03m# draw stack and is not expected to be drawn as part of the normal\u001b[39;00m\n\u001b[1;32m    323\u001b[0m     \u001b[38;5;66;03m# draw loop (when not saving) so do not propagate this change\u001b[39;00m\n",
      "\u001b[0;31mKeyboardInterrupt\u001b[0m: "
     ]
    }
   ],
   "source": [
    "def extractor(df, threshold=0.9):\n",
    "    \"\"\"\n",
    "    ************************************************************************\n",
    "    EXPLANATIONS\n",
    "\n",
    "    Filter features based on correlation threshold and visualize the correlation matrices.\n",
    "\n",
    "    In practice a threshold of 0.9 is widespread but there exists more conservatve\n",
    "    thresholds like 0.8 which is a more conservative approach. You may choose it\n",
    "    depending on the context.\n",
    "\n",
    "    ************************************************************************\n",
    "\n",
    "    Parameters:\n",
    "    df (pd.DataFrame): The input DataFrame containing the features.\n",
    "    threshold (float): The correlation threshold to filter features. Default is 0.9.\n",
    "\n",
    "    Returns:\n",
    "    selected_features (list): List of features with correlation below the threshold.\n",
    "    excluded_features (list): List of features with correlation above the threshold.\n",
    "    \"\"\"\n",
    "\n",
    "    # Calculate the correlation matrix\n",
    "    corr_matrix = df.corr()\n",
    "\n",
    "    # Create lists for selected features (\"normal correlations\") and excluded features (perfectly/almost perfectly correlated)\n",
    "    selected_features = []\n",
    "    excluded_features = []\n",
    "\n",
    "    # Run through the upper triangular matrix of the correlation matrix\n",
    "    for i in range(len(corr_matrix.columns)):\n",
    "        for j in range(i):\n",
    "            if abs(corr_matrix.iloc[i, j]) > threshold:\n",
    "                colname = corr_matrix.columns[i]\n",
    "                excluded_features.append(colname)\n",
    "\n",
    "    # fill lists of excluded and selected features\n",
    "    excluded_features = list(set(excluded_features))\n",
    "    selected_features = [feature for feature in corr_matrix.columns if feature not in excluded_features]\n",
    "\n",
    "    # create correlation matrix of selected features\n",
    "    selected_corr_matrix = corr_matrix.loc[selected_features, selected_features]\n",
    "\n",
    "    # plot correlation matrix of selected features\n",
    "    plt.figure(figsize=(12, 10))\n",
    "    sns.heatmap(selected_corr_matrix, annot=True, cmap='coolwarm', vmin=-1, vmax=1)\n",
    "    plt.title('Correlation Matrix of Selected Features')\n",
    "    plt.show()\n",
    "\n",
    "    # create correlation matrix of excluded features and plot it\n",
    "    if excluded_features:\n",
    "        remaining_corr_matrix = corr_matrix.loc[excluded_features, excluded_features]\n",
    "        plt.figure(figsize=(20, 16))\n",
    "        sns.heatmap(remaining_corr_matrix, annot=True, cmap='coolwarm', vmin=-1, vmax=1)\n",
    "        plt.title('Correlation Matrix of Excluded Features')\n",
    "        plt.show()\n",
    "    else:\n",
    "        print(\"No excluded features found.\")\n",
    "\n",
    "    print(\"Selected Features:\", selected_features)\n",
    "    print(\"Excluded Features:\", excluded_features)\n",
    "\n",
    "\n",
    "    # return lists of selected and excluded features\n",
    "    return selected_features, excluded_features\n",
    "\n",
    "#Sex is still defined in the binary variable, but string not usable in model \n",
    "data_multiomics = data_multiomics.drop(\"Sex\", axis=1)\n",
    "\n",
    "extractor(data_multiomics)\n",
    "selected_feature = selected_features"
   ]
  },
  {
   "cell_type": "code",
   "execution_count": 2,
   "id": "0616b3bc-67f1-4bfd-8eaf-a506eb94af10",
   "metadata": {
    "scrolled": true
   },
   "outputs": [
    {
     "data": {
      "text/plain": [
       "(68, 322)"
      ]
     },
     "execution_count": 2,
     "metadata": {},
     "output_type": "execute_result"
    }
   ],
   "source": [
    "\n",
    "data_multiomics = data_multiomics[['Unnamed: 0', 'Study Subject ID Number', 'sex_bin', 'timepoint', 'gestational_age', 'immune_system', 'immune_system.1', 'immune_system.2', 'immune_system.3', 'immune_system.4', 'immune_system.5', 'immune_system.6', 'immune_system.7', 'immune_system.8', 'immune_system.9', 'immune_system.10', 'immune_system.11', 'immune_system.12', 'immune_system.13', 'immune_system.14', 'immune_system.15', 'immune_system.16', 'immune_system.17', 'immune_system.18', 'immune_system.19', 'immune_system.20', 'immune_system.22', 'immune_system.23', 'immune_system.25', 'immune_system.26', 'immune_system.27', 'immune_system.30', 'immune_system.31', 'immune_system.32', 'immune_system.35', 'immune_system.37', 'immune_system.38', 'immune_system.39', 'immune_system.42', 'immune_system.43', 'immune_system.44', 'immune_system.45', 'immune_system.50', 'immune_system.63', 'immune_system.64', 'immune_system.67', 'immune_system.75', 'immune_system.76', 'immune_system.77', 'immune_system.78', 'immune_system.80', 'immune_system.81', 'immune_system.82', 'immune_system.83', 'immune_system.84', 'immune_system.85', 'immune_system.87', 'immune_system.88', 'immune_system.89', 'immune_system.91', 'immune_system.92', 'immune_system.93', 'immune_system.94', 'immune_system.95', 'immune_system.97', 'immune_system.98', 'immune_system.100', 'immune_system.101', 'immune_system.102', 'immune_system.103', 'immune_system.105', 'immune_system.106', 'immune_system.107', 'immune_system.108', 'immune_system.109', 'immune_system.110', 'immune_system.111', 'immune_system.112', 'immune_system.113', 'immune_system.114', 'immune_system.116', 'immune_system.117', 'immune_system.118', 'immune_system.120', 'immune_system.122', 'immune_system.123', 'immune_system.125', 'immune_system.126', 'immune_system.127', 'immune_system.128', 'immune_system.130', 'immune_system.131', 'immune_system.134', 'immune_system.135', 'immune_system.136', 'immune_system.137', 'immune_system.138', 'immune_system.139', 'immune_system.141', 'immune_system.142', 'immune_system.143', 'immune_system.144', 'immune_system.145', 'immune_system.147', 'immune_system.150', 'immune_system.151', 'immune_system.157', 'immune_system.158', 'immune_system.159', 'immune_system.160', 'immune_system.161', 'immune_system.163', 'immune_system.164', 'immune_system.167', 'immune_system.169', 'immune_system.170', 'immune_system.172', 'immune_system.173', 'immune_system.175', 'immune_system.176', 'immune_system.177', 'immune_system.178', 'immune_system.179', 'immune_system.180', 'immune_system.181', 'immune_system.182', 'immune_system.184', 'immune_system.185', 'immune_system.187', 'immune_system.188', 'immune_system.189', 'immune_system.191', 'immune_system.192', 'immune_system.193', 'immune_system.195', 'immune_system.198', 'immune_system.200', 'immune_system.201', 'immune_system.202', 'immune_system.203', 'immune_system.205', 'immune_system.206', 'immune_system.207', 'immune_system.209', 'immune_system.210', 'immune_system.212', 'immune_system.213', 'immune_system.214', 'immune_system.215', 'immune_system.216', 'immune_system.217', 'immune_system.218', 'immune_system.219', 'immune_system.221', 'immune_system.222', 'immune_system.223', 'immune_system.224', 'immune_system.225', 'immune_system.226', 'immune_system.227', 'immune_system.228', 'immune_system.229', 'immune_system.230', 'immune_system.231', 'immune_system.233', 'immune_system.234', 'immune_system.236', 'immune_system.237', 'immune_system.238', 'immune_system.239', 'immune_system.241', 'immune_system.242', 'immune_system.243', 'immune_system.245', 'immune_system.246', 'immune_system.248', 'immune_system.249', 'immune_system.250', 'immune_system.251', 'immune_system.252', 'immune_system.253', 'immune_system.254', 'immune_system.255', 'immune_system.257', 'immune_system.258', 'immune_system.260', 'immune_system.261', 'immune_system.262', 'immune_system.263', 'immune_system.264', 'immune_system.265', 'immune_system.269', 'immune_system.272', 'immune_system.273', 'immune_system.274', 'immune_system.275', 'immune_system.277', 'immune_system.278', 'immune_system.279', 'immune_system.281', 'immune_system.282', 'immune_system.283', 'immune_system.284', 'immune_system.285', 'immune_system.286', 'immune_system.287', 'immune_system.289', 'immune_system.291', 'immune_system.293', 'immune_system.295', 'immune_system.296', 'immune_system.297', 'immune_system.298', 'immune_system.300', 'immune_system.301', 'immune_system.302', 'immune_system.304', 'immune_system.306', 'immune_system.307', 'immune_system.309', 'immune_system.310', 'immune_system.311', 'immune_system.314', 'immune_system.316', 'immune_system.321', 'immune_system.322', 'immune_system.323', 'immune_system.325', 'immune_system.326', 'immune_system.329', 'immune_system.334', 'immune_system.335', 'immune_system.336', 'immune_system.341', 'immune_system.343', 'immune_system.344', 'immune_system.345', 'immune_system.346', 'immune_system.347', 'immune_system.350', 'immune_system.351', 'immune_system.352', 'immune_system.354', 'immune_system.356', 'immune_system.357', 'immune_system.359', 'immune_system.360', 'immune_system.361', 'immune_system.371', 'immune_system.372', 'immune_system.373', 'immune_system.374', 'immune_system.376', 'immune_system.377', 'immune_system.379', 'immune_system.384', 'immune_system.385', 'immune_system.386', 'immune_system.387', 'immune_system.391', 'immune_system.396', 'immune_system.397', 'immune_system.398', 'immune_system.401', 'immune_system.402', 'immune_system.404', 'immune_system.409', 'immune_system.410', 'immune_system.414', 'immune_system.421', 'immune_system.422', 'immune_system.423', 'immune_system.426', 'immune_system.427', 'immune_system.429', 'immune_system.434', 'immune_system.435', 'immune_system.436', 'immune_system.437', 'immune_system.438', 'immune_system.439', 'immune_system.440', 'immune_system.441', 'immune_system.443', 'immune_system.444', 'immune_system.445', 'immune_system.447', 'immune_system.448', 'immune_system.450', 'immune_system.451', 'immune_system.452', 'immune_system.454', 'immune_system.456', 'immune_system.457', 'immune_system.458', 'immune_system.459', 'immune_system.461', 'immune_system.464', 'immune_system.471', 'immune_system.472', 'immune_system.473', 'immune_system.476', 'immune_system.477', 'immune_system.479', 'immune_system.497', 'immune_system.509', 'immune_system.510', 'immune_system.511', 'immune_system.514', 'immune_system.515', 'immune_system.516', 'immune_system.517', 'immune_system.518', 'immune_system.519', 'immune_system.521', 'immune_system.522', 'immune_system.523', 'immune_system.525', 'immune_system.526', 'immune_system.527', 'immune_system.529', 'immune_system.531']]\n",
    "data_multiomics.shape"
   ]
  },
  {
   "cell_type": "code",
   "execution_count": 3,
   "id": "64fe81d5-844d-4c59-b477-dde89103a128",
   "metadata": {},
   "outputs": [
    {
     "ename": "TypeError",
     "evalue": "float() argument must be a string or a real number, not 'method'",
     "output_type": "error",
     "traceback": [
      "\u001b[0;31m---------------------------------------------------------------------------\u001b[0m",
      "\u001b[0;31mTypeError\u001b[0m                                 Traceback (most recent call last)",
      "Cell \u001b[0;32mIn[3], line 4\u001b[0m\n\u001b[1;32m      1\u001b[0m \u001b[38;5;66;03m#Standardizing\u001b[39;00m\n\u001b[1;32m      2\u001b[0m df_multi \u001b[38;5;241m=\u001b[39m data_multiomics\u001b[38;5;241m.\u001b[39mcopy\n\u001b[0;32m----> 4\u001b[0m Features_std \u001b[38;5;241m=\u001b[39m \u001b[43mStandardScaler\u001b[49m\u001b[43m(\u001b[49m\u001b[43m)\u001b[49m\u001b[38;5;241;43m.\u001b[39;49m\u001b[43mfit_transform\u001b[49m\u001b[43m(\u001b[49m\u001b[43mX\u001b[49m\u001b[38;5;241;43m=\u001b[39;49m\u001b[43mdf_multi\u001b[49m\u001b[43m)\u001b[49m\n\u001b[1;32m      6\u001b[0m pca \u001b[38;5;241m=\u001b[39m PCA(n_components\u001b[38;5;241m=\u001b[39m\u001b[38;5;241m10\u001b[39m)\n\u001b[1;32m      8\u001b[0m principalComponents \u001b[38;5;241m=\u001b[39m pca\u001b[38;5;241m.\u001b[39mfit_transform(Features_std)\n",
      "File \u001b[0;32m/opt/conda/lib/python3.11/site-packages/sklearn/utils/_set_output.py:273\u001b[0m, in \u001b[0;36m_wrap_method_output.<locals>.wrapped\u001b[0;34m(self, X, *args, **kwargs)\u001b[0m\n\u001b[1;32m    271\u001b[0m \u001b[38;5;129m@wraps\u001b[39m(f)\n\u001b[1;32m    272\u001b[0m \u001b[38;5;28;01mdef\u001b[39;00m \u001b[38;5;21mwrapped\u001b[39m(\u001b[38;5;28mself\u001b[39m, X, \u001b[38;5;241m*\u001b[39margs, \u001b[38;5;241m*\u001b[39m\u001b[38;5;241m*\u001b[39mkwargs):\n\u001b[0;32m--> 273\u001b[0m     data_to_wrap \u001b[38;5;241m=\u001b[39m \u001b[43mf\u001b[49m\u001b[43m(\u001b[49m\u001b[38;5;28;43mself\u001b[39;49m\u001b[43m,\u001b[49m\u001b[43m \u001b[49m\u001b[43mX\u001b[49m\u001b[43m,\u001b[49m\u001b[43m \u001b[49m\u001b[38;5;241;43m*\u001b[39;49m\u001b[43margs\u001b[49m\u001b[43m,\u001b[49m\u001b[43m \u001b[49m\u001b[38;5;241;43m*\u001b[39;49m\u001b[38;5;241;43m*\u001b[39;49m\u001b[43mkwargs\u001b[49m\u001b[43m)\u001b[49m\n\u001b[1;32m    274\u001b[0m     \u001b[38;5;28;01mif\u001b[39;00m \u001b[38;5;28misinstance\u001b[39m(data_to_wrap, \u001b[38;5;28mtuple\u001b[39m):\n\u001b[1;32m    275\u001b[0m         \u001b[38;5;66;03m# only wrap the first output for cross decomposition\u001b[39;00m\n\u001b[1;32m    276\u001b[0m         return_tuple \u001b[38;5;241m=\u001b[39m (\n\u001b[1;32m    277\u001b[0m             _wrap_data_with_container(method, data_to_wrap[\u001b[38;5;241m0\u001b[39m], X, \u001b[38;5;28mself\u001b[39m),\n\u001b[1;32m    278\u001b[0m             \u001b[38;5;241m*\u001b[39mdata_to_wrap[\u001b[38;5;241m1\u001b[39m:],\n\u001b[1;32m    279\u001b[0m         )\n",
      "File \u001b[0;32m/opt/conda/lib/python3.11/site-packages/sklearn/base.py:1061\u001b[0m, in \u001b[0;36mTransformerMixin.fit_transform\u001b[0;34m(self, X, y, **fit_params)\u001b[0m\n\u001b[1;32m   1046\u001b[0m         warnings\u001b[38;5;241m.\u001b[39mwarn(\n\u001b[1;32m   1047\u001b[0m             (\n\u001b[1;32m   1048\u001b[0m                 \u001b[38;5;124mf\u001b[39m\u001b[38;5;124m\"\u001b[39m\u001b[38;5;124mThis object (\u001b[39m\u001b[38;5;132;01m{\u001b[39;00m\u001b[38;5;28mself\u001b[39m\u001b[38;5;241m.\u001b[39m\u001b[38;5;18m__class__\u001b[39m\u001b[38;5;241m.\u001b[39m\u001b[38;5;18m__name__\u001b[39m\u001b[38;5;132;01m}\u001b[39;00m\u001b[38;5;124m) has a `transform`\u001b[39m\u001b[38;5;124m\"\u001b[39m\n\u001b[0;32m   (...)\u001b[0m\n\u001b[1;32m   1056\u001b[0m             \u001b[38;5;167;01mUserWarning\u001b[39;00m,\n\u001b[1;32m   1057\u001b[0m         )\n\u001b[1;32m   1059\u001b[0m \u001b[38;5;28;01mif\u001b[39;00m y \u001b[38;5;129;01mis\u001b[39;00m \u001b[38;5;28;01mNone\u001b[39;00m:\n\u001b[1;32m   1060\u001b[0m     \u001b[38;5;66;03m# fit method of arity 1 (unsupervised transformation)\u001b[39;00m\n\u001b[0;32m-> 1061\u001b[0m     \u001b[38;5;28;01mreturn\u001b[39;00m \u001b[38;5;28;43mself\u001b[39;49m\u001b[38;5;241;43m.\u001b[39;49m\u001b[43mfit\u001b[49m\u001b[43m(\u001b[49m\u001b[43mX\u001b[49m\u001b[43m,\u001b[49m\u001b[43m \u001b[49m\u001b[38;5;241;43m*\u001b[39;49m\u001b[38;5;241;43m*\u001b[39;49m\u001b[43mfit_params\u001b[49m\u001b[43m)\u001b[49m\u001b[38;5;241m.\u001b[39mtransform(X)\n\u001b[1;32m   1062\u001b[0m \u001b[38;5;28;01melse\u001b[39;00m:\n\u001b[1;32m   1063\u001b[0m     \u001b[38;5;66;03m# fit method of arity 2 (supervised transformation)\u001b[39;00m\n\u001b[1;32m   1064\u001b[0m     \u001b[38;5;28;01mreturn\u001b[39;00m \u001b[38;5;28mself\u001b[39m\u001b[38;5;241m.\u001b[39mfit(X, y, \u001b[38;5;241m*\u001b[39m\u001b[38;5;241m*\u001b[39mfit_params)\u001b[38;5;241m.\u001b[39mtransform(X)\n",
      "File \u001b[0;32m/opt/conda/lib/python3.11/site-packages/sklearn/preprocessing/_data.py:876\u001b[0m, in \u001b[0;36mStandardScaler.fit\u001b[0;34m(self, X, y, sample_weight)\u001b[0m\n\u001b[1;32m    874\u001b[0m \u001b[38;5;66;03m# Reset internal state before fitting\u001b[39;00m\n\u001b[1;32m    875\u001b[0m \u001b[38;5;28mself\u001b[39m\u001b[38;5;241m.\u001b[39m_reset()\n\u001b[0;32m--> 876\u001b[0m \u001b[38;5;28;01mreturn\u001b[39;00m \u001b[38;5;28;43mself\u001b[39;49m\u001b[38;5;241;43m.\u001b[39;49m\u001b[43mpartial_fit\u001b[49m\u001b[43m(\u001b[49m\u001b[43mX\u001b[49m\u001b[43m,\u001b[49m\u001b[43m \u001b[49m\u001b[43my\u001b[49m\u001b[43m,\u001b[49m\u001b[43m \u001b[49m\u001b[43msample_weight\u001b[49m\u001b[43m)\u001b[49m\n",
      "File \u001b[0;32m/opt/conda/lib/python3.11/site-packages/sklearn/base.py:1351\u001b[0m, in \u001b[0;36m_fit_context.<locals>.decorator.<locals>.wrapper\u001b[0;34m(estimator, *args, **kwargs)\u001b[0m\n\u001b[1;32m   1344\u001b[0m     estimator\u001b[38;5;241m.\u001b[39m_validate_params()\n\u001b[1;32m   1346\u001b[0m \u001b[38;5;28;01mwith\u001b[39;00m config_context(\n\u001b[1;32m   1347\u001b[0m     skip_parameter_validation\u001b[38;5;241m=\u001b[39m(\n\u001b[1;32m   1348\u001b[0m         prefer_skip_nested_validation \u001b[38;5;129;01mor\u001b[39;00m global_skip_validation\n\u001b[1;32m   1349\u001b[0m     )\n\u001b[1;32m   1350\u001b[0m ):\n\u001b[0;32m-> 1351\u001b[0m     \u001b[38;5;28;01mreturn\u001b[39;00m \u001b[43mfit_method\u001b[49m\u001b[43m(\u001b[49m\u001b[43mestimator\u001b[49m\u001b[43m,\u001b[49m\u001b[43m \u001b[49m\u001b[38;5;241;43m*\u001b[39;49m\u001b[43margs\u001b[49m\u001b[43m,\u001b[49m\u001b[43m \u001b[49m\u001b[38;5;241;43m*\u001b[39;49m\u001b[38;5;241;43m*\u001b[39;49m\u001b[43mkwargs\u001b[49m\u001b[43m)\u001b[49m\n",
      "File \u001b[0;32m/opt/conda/lib/python3.11/site-packages/sklearn/preprocessing/_data.py:912\u001b[0m, in \u001b[0;36mStandardScaler.partial_fit\u001b[0;34m(self, X, y, sample_weight)\u001b[0m\n\u001b[1;32m    880\u001b[0m \u001b[38;5;250m\u001b[39m\u001b[38;5;124;03m\"\"\"Online computation of mean and std on X for later scaling.\u001b[39;00m\n\u001b[1;32m    881\u001b[0m \n\u001b[1;32m    882\u001b[0m \u001b[38;5;124;03mAll of X is processed as a single batch. This is intended for cases\u001b[39;00m\n\u001b[0;32m   (...)\u001b[0m\n\u001b[1;32m    909\u001b[0m \u001b[38;5;124;03m    Fitted scaler.\u001b[39;00m\n\u001b[1;32m    910\u001b[0m \u001b[38;5;124;03m\"\"\"\u001b[39;00m\n\u001b[1;32m    911\u001b[0m first_call \u001b[38;5;241m=\u001b[39m \u001b[38;5;129;01mnot\u001b[39;00m \u001b[38;5;28mhasattr\u001b[39m(\u001b[38;5;28mself\u001b[39m, \u001b[38;5;124m\"\u001b[39m\u001b[38;5;124mn_samples_seen_\u001b[39m\u001b[38;5;124m\"\u001b[39m)\n\u001b[0;32m--> 912\u001b[0m X \u001b[38;5;241m=\u001b[39m \u001b[38;5;28;43mself\u001b[39;49m\u001b[38;5;241;43m.\u001b[39;49m\u001b[43m_validate_data\u001b[49m\u001b[43m(\u001b[49m\n\u001b[1;32m    913\u001b[0m \u001b[43m    \u001b[49m\u001b[43mX\u001b[49m\u001b[43m,\u001b[49m\n\u001b[1;32m    914\u001b[0m \u001b[43m    \u001b[49m\u001b[43maccept_sparse\u001b[49m\u001b[38;5;241;43m=\u001b[39;49m\u001b[43m(\u001b[49m\u001b[38;5;124;43m\"\u001b[39;49m\u001b[38;5;124;43mcsr\u001b[39;49m\u001b[38;5;124;43m\"\u001b[39;49m\u001b[43m,\u001b[49m\u001b[43m \u001b[49m\u001b[38;5;124;43m\"\u001b[39;49m\u001b[38;5;124;43mcsc\u001b[39;49m\u001b[38;5;124;43m\"\u001b[39;49m\u001b[43m)\u001b[49m\u001b[43m,\u001b[49m\n\u001b[1;32m    915\u001b[0m \u001b[43m    \u001b[49m\u001b[43mdtype\u001b[49m\u001b[38;5;241;43m=\u001b[39;49m\u001b[43mFLOAT_DTYPES\u001b[49m\u001b[43m,\u001b[49m\n\u001b[1;32m    916\u001b[0m \u001b[43m    \u001b[49m\u001b[43mforce_all_finite\u001b[49m\u001b[38;5;241;43m=\u001b[39;49m\u001b[38;5;124;43m\"\u001b[39;49m\u001b[38;5;124;43mallow-nan\u001b[39;49m\u001b[38;5;124;43m\"\u001b[39;49m\u001b[43m,\u001b[49m\n\u001b[1;32m    917\u001b[0m \u001b[43m    \u001b[49m\u001b[43mreset\u001b[49m\u001b[38;5;241;43m=\u001b[39;49m\u001b[43mfirst_call\u001b[49m\u001b[43m,\u001b[49m\n\u001b[1;32m    918\u001b[0m \u001b[43m\u001b[49m\u001b[43m)\u001b[49m\n\u001b[1;32m    919\u001b[0m n_features \u001b[38;5;241m=\u001b[39m X\u001b[38;5;241m.\u001b[39mshape[\u001b[38;5;241m1\u001b[39m]\n\u001b[1;32m    921\u001b[0m \u001b[38;5;28;01mif\u001b[39;00m sample_weight \u001b[38;5;129;01mis\u001b[39;00m \u001b[38;5;129;01mnot\u001b[39;00m \u001b[38;5;28;01mNone\u001b[39;00m:\n",
      "File \u001b[0;32m/opt/conda/lib/python3.11/site-packages/sklearn/base.py:633\u001b[0m, in \u001b[0;36mBaseEstimator._validate_data\u001b[0;34m(self, X, y, reset, validate_separately, cast_to_ndarray, **check_params)\u001b[0m\n\u001b[1;32m    631\u001b[0m         out \u001b[38;5;241m=\u001b[39m X, y\n\u001b[1;32m    632\u001b[0m \u001b[38;5;28;01melif\u001b[39;00m \u001b[38;5;129;01mnot\u001b[39;00m no_val_X \u001b[38;5;129;01mand\u001b[39;00m no_val_y:\n\u001b[0;32m--> 633\u001b[0m     out \u001b[38;5;241m=\u001b[39m \u001b[43mcheck_array\u001b[49m\u001b[43m(\u001b[49m\u001b[43mX\u001b[49m\u001b[43m,\u001b[49m\u001b[43m \u001b[49m\u001b[43minput_name\u001b[49m\u001b[38;5;241;43m=\u001b[39;49m\u001b[38;5;124;43m\"\u001b[39;49m\u001b[38;5;124;43mX\u001b[39;49m\u001b[38;5;124;43m\"\u001b[39;49m\u001b[43m,\u001b[49m\u001b[43m \u001b[49m\u001b[38;5;241;43m*\u001b[39;49m\u001b[38;5;241;43m*\u001b[39;49m\u001b[43mcheck_params\u001b[49m\u001b[43m)\u001b[49m\n\u001b[1;32m    634\u001b[0m \u001b[38;5;28;01melif\u001b[39;00m no_val_X \u001b[38;5;129;01mand\u001b[39;00m \u001b[38;5;129;01mnot\u001b[39;00m no_val_y:\n\u001b[1;32m    635\u001b[0m     out \u001b[38;5;241m=\u001b[39m _check_y(y, \u001b[38;5;241m*\u001b[39m\u001b[38;5;241m*\u001b[39mcheck_params)\n",
      "File \u001b[0;32m/opt/conda/lib/python3.11/site-packages/sklearn/utils/validation.py:951\u001b[0m, in \u001b[0;36mcheck_array\u001b[0;34m(array, accept_sparse, accept_large_sparse, dtype, order, copy, force_all_finite, ensure_2d, allow_nd, ensure_min_samples, ensure_min_features, estimator, input_name)\u001b[0m\n\u001b[1;32m    949\u001b[0m         array \u001b[38;5;241m=\u001b[39m xp\u001b[38;5;241m.\u001b[39mastype(array, dtype, copy\u001b[38;5;241m=\u001b[39m\u001b[38;5;28;01mFalse\u001b[39;00m)\n\u001b[1;32m    950\u001b[0m     \u001b[38;5;28;01melse\u001b[39;00m:\n\u001b[0;32m--> 951\u001b[0m         array \u001b[38;5;241m=\u001b[39m \u001b[43m_asarray_with_order\u001b[49m\u001b[43m(\u001b[49m\u001b[43marray\u001b[49m\u001b[43m,\u001b[49m\u001b[43m \u001b[49m\u001b[43morder\u001b[49m\u001b[38;5;241;43m=\u001b[39;49m\u001b[43morder\u001b[49m\u001b[43m,\u001b[49m\u001b[43m \u001b[49m\u001b[43mdtype\u001b[49m\u001b[38;5;241;43m=\u001b[39;49m\u001b[43mdtype\u001b[49m\u001b[43m,\u001b[49m\u001b[43m \u001b[49m\u001b[43mxp\u001b[49m\u001b[38;5;241;43m=\u001b[39;49m\u001b[43mxp\u001b[49m\u001b[43m)\u001b[49m\n\u001b[1;32m    952\u001b[0m \u001b[38;5;28;01mexcept\u001b[39;00m ComplexWarning \u001b[38;5;28;01mas\u001b[39;00m complex_warning:\n\u001b[1;32m    953\u001b[0m     \u001b[38;5;28;01mraise\u001b[39;00m \u001b[38;5;167;01mValueError\u001b[39;00m(\n\u001b[1;32m    954\u001b[0m         \u001b[38;5;124m\"\u001b[39m\u001b[38;5;124mComplex data not supported\u001b[39m\u001b[38;5;130;01m\\n\u001b[39;00m\u001b[38;5;132;01m{}\u001b[39;00m\u001b[38;5;130;01m\\n\u001b[39;00m\u001b[38;5;124m\"\u001b[39m\u001b[38;5;241m.\u001b[39mformat(array)\n\u001b[1;32m    955\u001b[0m     ) \u001b[38;5;28;01mfrom\u001b[39;00m \u001b[38;5;21;01mcomplex_warning\u001b[39;00m\n",
      "File \u001b[0;32m/opt/conda/lib/python3.11/site-packages/sklearn/utils/_array_api.py:521\u001b[0m, in \u001b[0;36m_asarray_with_order\u001b[0;34m(array, dtype, order, copy, xp)\u001b[0m\n\u001b[1;32m    519\u001b[0m     array \u001b[38;5;241m=\u001b[39m numpy\u001b[38;5;241m.\u001b[39marray(array, order\u001b[38;5;241m=\u001b[39morder, dtype\u001b[38;5;241m=\u001b[39mdtype)\n\u001b[1;32m    520\u001b[0m \u001b[38;5;28;01melse\u001b[39;00m:\n\u001b[0;32m--> 521\u001b[0m     array \u001b[38;5;241m=\u001b[39m \u001b[43mnumpy\u001b[49m\u001b[38;5;241;43m.\u001b[39;49m\u001b[43masarray\u001b[49m\u001b[43m(\u001b[49m\u001b[43marray\u001b[49m\u001b[43m,\u001b[49m\u001b[43m \u001b[49m\u001b[43morder\u001b[49m\u001b[38;5;241;43m=\u001b[39;49m\u001b[43morder\u001b[49m\u001b[43m,\u001b[49m\u001b[43m \u001b[49m\u001b[43mdtype\u001b[49m\u001b[38;5;241;43m=\u001b[39;49m\u001b[43mdtype\u001b[49m\u001b[43m)\u001b[49m\n\u001b[1;32m    523\u001b[0m \u001b[38;5;66;03m# At this point array is a NumPy ndarray. We convert it to an array\u001b[39;00m\n\u001b[1;32m    524\u001b[0m \u001b[38;5;66;03m# container that is consistent with the input's namespace.\u001b[39;00m\n\u001b[1;32m    525\u001b[0m \u001b[38;5;28;01mreturn\u001b[39;00m xp\u001b[38;5;241m.\u001b[39masarray(array)\n",
      "\u001b[0;31mTypeError\u001b[0m: float() argument must be a string or a real number, not 'method'"
     ]
    }
   ],
   "source": [
    "#Standardizing\n",
    "df_multi = data_multiomics.copy\n",
    "\n",
    "Features_std = StandardScaler().fit_transform(X=df_multi)\n",
    "\n",
    "pca = PCA(n_components=10)\n",
    "\n",
    "principalComponents = pca.fit_transform(Features_std)\n",
    "\n",
    "principalDataframe = pd.DataFrame(data = principalComponents)\n",
    "\n",
    "pca.explained_variance_ratio_.sum()\n",
    "\n"
   ]
  },
  {
   "cell_type": "code",
   "execution_count": null,
   "id": "fb01f3a0-ea64-47a9-b92a-7cc8645f1bf2",
   "metadata": {},
   "outputs": [],
   "source": [
    "targetDataframe = data_multiomics[['gestational_age']]\n",
    "\n",
    "newDataframe = pd.concat([principalDataframe, targetDataframe],axis = 1)\n",
    "newDataframe"
   ]
  }
 ],
 "metadata": {
  "kernelspec": {
   "display_name": "Python 3 (ipykernel)",
   "language": "python",
   "name": "python3"
  },
  "language_info": {
   "codemirror_mode": {
    "name": "ipython",
    "version": 3
   },
   "file_extension": ".py",
   "mimetype": "text/x-python",
   "name": "python",
   "nbconvert_exporter": "python",
   "pygments_lexer": "ipython3",
   "version": "3.11.7"
  }
 },
 "nbformat": 4,
 "nbformat_minor": 5
}
