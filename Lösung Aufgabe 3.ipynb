{
 "cells": [
  {
   "cell_type": "markdown",
   "id": "d037a6f6-8f80-4bf5-99bc-2efd4f6e8d29",
   "metadata": {},
   "source": [
    "# Task 3: Feature importance"
   ]
  },
  {
   "cell_type": "code",
   "execution_count": null,
   "id": "539e8ff4",
   "metadata": {},
   "outputs": [],
   "source": [
    "# pip install -U scikit-learn # if necessary"
   ]
  },
  {
   "cell_type": "code",
   "execution_count": 4,
   "id": "ecd7073c-4e04-4219-b1f4-f1b6c88a5707",
   "metadata": {
    "tags": []
   },
   "outputs": [],
   "source": [
    "import pickle\n",
    "import numpy as np\n",
    "import pandas as pd\n",
    "from sklearn.datasets import make_regression\n",
    "from sklearn.linear_model import RidgeCV\n",
    "from scipy.stats import pearsonr"
   ]
  },
  {
   "cell_type": "code",
   "execution_count": null,
   "id": "76219bd6",
   "metadata": {},
   "outputs": [],
   "source": [
    "## Load data"
   ]
  },
  {
   "cell_type": "code",
   "execution_count": 6,
   "id": "39648f19-a15c-491f-99d8-82f4fb16ff33",
   "metadata": {
    "tags": []
   },
   "outputs": [],
   "source": [
    "with open(\"task3_feature-importance_data.pickle\", \"rb\") as f:\n",
    "    X, y = pickle.load(f)"
   ]
  },
  {
   "cell_type": "markdown",
   "id": "908439a8-7034-4858-bd22-3c4d1778ce99",
   "metadata": {},
   "source": [
    "## Fit model"
   ]
  },
  {
   "cell_type": "code",
   "execution_count": 32,
   "id": "09747f84",
   "metadata": {},
   "outputs": [
    {
     "data": {
      "text/html": [
       "<div>\n",
       "<style scoped>\n",
       "    .dataframe tbody tr th:only-of-type {\n",
       "        vertical-align: middle;\n",
       "    }\n",
       "\n",
       "    .dataframe tbody tr th {\n",
       "        vertical-align: top;\n",
       "    }\n",
       "\n",
       "    .dataframe thead th {\n",
       "        text-align: right;\n",
       "    }\n",
       "</style>\n",
       "<table border=\"1\" class=\"dataframe\">\n",
       "  <thead>\n",
       "    <tr style=\"text-align: right;\">\n",
       "      <th></th>\n",
       "      <th>coef</th>\n",
       "      <th>correlation r</th>\n",
       "      <th>correlation p</th>\n",
       "    </tr>\n",
       "  </thead>\n",
       "  <tbody>\n",
       "    <tr>\n",
       "      <th>feature 0</th>\n",
       "      <td>7.549104</td>\n",
       "      <td>0.188073</td>\n",
       "      <td>6.095162e-02</td>\n",
       "    </tr>\n",
       "    <tr>\n",
       "      <th>feature 1</th>\n",
       "      <td>0.113974</td>\n",
       "      <td>0.092541</td>\n",
       "      <td>3.598008e-01</td>\n",
       "    </tr>\n",
       "    <tr>\n",
       "      <th>feature 2</th>\n",
       "      <td>38.197013</td>\n",
       "      <td>0.138256</td>\n",
       "      <td>1.701322e-01</td>\n",
       "    </tr>\n",
       "    <tr>\n",
       "      <th>feature 3</th>\n",
       "      <td>84.491373</td>\n",
       "      <td>0.569326</td>\n",
       "      <td>6.374702e-10</td>\n",
       "    </tr>\n",
       "    <tr>\n",
       "      <th>feature 4</th>\n",
       "      <td>88.326266</td>\n",
       "      <td>0.523729</td>\n",
       "      <td>2.252291e-08</td>\n",
       "    </tr>\n",
       "    <tr>\n",
       "      <th>feature 5</th>\n",
       "      <td>-2.902458</td>\n",
       "      <td>-0.105416</td>\n",
       "      <td>2.965699e-01</td>\n",
       "    </tr>\n",
       "    <tr>\n",
       "      <th>feature 6</th>\n",
       "      <td>-2.562496</td>\n",
       "      <td>-0.129693</td>\n",
       "      <td>1.984219e-01</td>\n",
       "    </tr>\n",
       "    <tr>\n",
       "      <th>feature 7</th>\n",
       "      <td>11.661303</td>\n",
       "      <td>0.141958</td>\n",
       "      <td>1.588725e-01</td>\n",
       "    </tr>\n",
       "    <tr>\n",
       "      <th>feature 8</th>\n",
       "      <td>-2.899107</td>\n",
       "      <td>-0.020712</td>\n",
       "      <td>8.379320e-01</td>\n",
       "    </tr>\n",
       "  </tbody>\n",
       "</table>\n",
       "</div>"
      ],
      "text/plain": [
       "                coef  correlation r  correlation p\n",
       "feature 0   7.549104       0.188073   6.095162e-02\n",
       "feature 1   0.113974       0.092541   3.598008e-01\n",
       "feature 2  38.197013       0.138256   1.701322e-01\n",
       "feature 3  84.491373       0.569326   6.374702e-10\n",
       "feature 4  88.326266       0.523729   2.252291e-08\n",
       "feature 5  -2.902458      -0.105416   2.965699e-01\n",
       "feature 6  -2.562496      -0.129693   1.984219e-01\n",
       "feature 7  11.661303       0.141958   1.588725e-01\n",
       "feature 8  -2.899107      -0.020712   8.379320e-01"
      ]
     },
     "execution_count": 32,
     "metadata": {},
     "output_type": "execute_result"
    }
   ],
   "source": [
    "X2 = np.delete(X, 8, axis=1)\n",
    "model = RidgeCV()\n",
    "model.fit(X2, y)\n",
    "correlations_r = [pearsonr(X2[:, i], y)[0] for i in range(X2.shape[1])]\n",
    "correlations_p = [pearsonr(X2[:, i], y)[1] for i in range(X2.shape[1])]\n",
    "df = pd.DataFrame({\n",
    "        \"coef\": model.coef_.flatten(), \n",
    "        \"correlation r\": correlations_r, \n",
    "        \"correlation p\": correlations_p}, \n",
    "    index=[f\"feature {i}\" for i in range(X2.shape[1])])\n",
    "df"
   ]
  },
  {
   "cell_type": "code",
   "execution_count": 13,
   "id": "89d87e21",
   "metadata": {},
   "outputs": [
    {
     "data": {
      "text/plain": [
       "array([[-1.89692831e+00,  1.23101785e+00, -8.10444201e-01,\n",
       "         1.15767193e+00,  3.90553333e-01, -5.33551498e-01,\n",
       "        -5.71974963e-02,  1.00000000e+00,  3.17631167e-02],\n",
       "       [-1.92107945e+00,  8.90946359e-03,  2.53760291e-01,\n",
       "        -1.67768380e-01, -1.13403470e+00, -2.35852270e-01,\n",
       "         1.97919175e+00,  1.00000000e+00,  1.57766709e-01],\n",
       "       [ 3.41980156e-01, -5.28121837e-01,  3.98201731e-02,\n",
       "         1.07510718e-01,  3.85936084e-01, -9.10642768e-01,\n",
       "         1.44934311e+00,  1.00000000e+00, -1.28453573e+00],\n",
       "       [ 1.32515718e+00, -1.75385427e+00, -1.03580749e+00,\n",
       "        -7.19374022e-01, -5.46500028e-01, -3.83988035e-01,\n",
       "        -1.04587789e+00,  1.00000000e+00,  4.22197412e-01],\n",
       "       [ 8.78682151e-01,  1.83198098e-01, -6.65877114e-01,\n",
       "         6.44077934e-01,  3.88353719e-01, -2.58774417e-01,\n",
       "         4.71133099e-01,  1.00000000e+00, -1.13250941e+00],\n",
       "       [ 4.51972551e-01, -1.47141197e-01, -1.26487553e-01,\n",
       "         9.84829805e-01,  5.06263584e-01, -1.23375871e+00,\n",
       "        -2.85201443e+00,  1.00000000e+00, -4.08630421e-01],\n",
       "       [-3.19234650e-01, -4.97405991e-01,  2.27807249e-01,\n",
       "        -1.01006813e+00, -2.70767414e-01, -1.62699041e+00,\n",
       "         1.01566724e+00,  1.00000000e+00, -4.12365188e-01],\n",
       "       [-1.49935943e+00, -8.51711796e-01,  6.01181637e-02,\n",
       "         2.72347380e+00, -1.02488881e+00, -6.88172779e-01,\n",
       "        -9.02038663e-01,  1.00000000e+00, -4.54912415e-01],\n",
       "       [ 2.91054390e+00, -1.11957757e+00,  1.63926769e+00,\n",
       "         1.01271514e+00,  1.92495856e+00,  2.79463272e-01,\n",
       "        -1.74479763e-03,  1.00000000e+00, -4.04679219e-01],\n",
       "       [ 1.88396702e+00, -6.60771266e-01, -9.23033177e-01,\n",
       "         2.73696690e+00, -1.66870108e-02,  1.88106339e-01,\n",
       "         4.90914139e-01,  1.00000000e+00, -2.97538443e-01],\n",
       "       [ 9.82369509e-01,  9.89684252e-01,  1.48910798e+00,\n",
       "        -1.67259090e-01, -1.13408416e+00,  2.01002794e+00,\n",
       "         8.47502141e-01,  1.00000000e+00,  1.05472039e+00],\n",
       "       [-1.07880916e+00, -4.56294107e-01, -5.00293793e-01,\n",
       "         1.78572082e+00, -1.85641805e+00, -8.10443481e-01,\n",
       "        -1.00178328e+00,  1.00000000e+00, -1.63732653e+00],\n",
       "       [-3.29227773e-01, -8.41381115e-01,  1.15511775e+00,\n",
       "        -7.69089267e-01, -7.14203807e-01, -1.32018968e+00,\n",
       "        -3.38214882e-02,  1.00000000e+00, -2.08298273e+00],\n",
       "       [ 2.76684719e-01,  3.18485719e-01,  3.16222125e-01,\n",
       "        -6.29815554e-01, -2.10749839e-02, -7.87196880e-02,\n",
       "         5.73334638e-01,  1.00000000e+00, -1.97968150e+00],\n",
       "       [-4.80256813e-01, -1.93150462e-02,  1.44533756e+00,\n",
       "         4.88232904e-02,  1.05859789e+00, -8.07598399e-04,\n",
       "         1.11297983e+00,  1.00000000e+00,  9.03295203e-02],\n",
       "       [-6.17438759e-01,  5.68964323e-01, -2.23548013e-01,\n",
       "         1.45838114e+00,  6.00247937e-01,  3.57866527e-01,\n",
       "        -8.43911868e-01,  1.00000000e+00, -7.59270544e-01],\n",
       "       [-1.37797720e+00,  1.00234500e+00, -6.63941390e-01,\n",
       "         1.32031623e-02,  9.37186165e-01,  4.66387302e-01,\n",
       "         1.10884825e+00,  1.00000000e+00, -1.81633901e+00],\n",
       "       [ 1.65911828e+00, -9.46341726e-01,  1.64926356e+00,\n",
       "         2.25252589e+00, -9.20188520e-01,  6.10594960e-01,\n",
       "         1.10112722e-01,  1.00000000e+00,  3.82449383e-01],\n",
       "       [ 1.36714073e-01,  6.48099140e-01,  7.02706124e-01,\n",
       "         2.83900109e+00,  1.06693641e+00, -7.91466882e-01,\n",
       "        -1.87311552e+00,  1.00000000e+00,  7.67112035e-01],\n",
       "       [ 8.89993466e-02, -6.94927162e-03,  6.25802600e-01,\n",
       "         1.98282768e-01,  9.31612267e-01, -9.18761350e-01,\n",
       "         1.05468469e+00,  1.00000000e+00, -2.62523807e-02],\n",
       "       [ 8.18238627e-01, -6.14740292e-01, -1.55756723e+00,\n",
       "        -1.23040779e+00,  4.00063867e-01,  9.85176529e-01,\n",
       "         6.57947573e-01,  1.00000000e+00,  1.19930052e+00],\n",
       "       [-7.88006447e-01,  7.38095363e-01,  7.98932754e-01,\n",
       "         2.10258116e-01,  1.04937563e+00,  9.18000926e-01,\n",
       "        -6.04428874e-02,  1.00000000e+00,  1.60189948e+00],\n",
       "       [ 1.87633711e+00,  5.69523197e-01,  2.16461877e+00,\n",
       "         2.27601205e-02, -9.73844941e-01,  3.07416112e-01,\n",
       "        -3.69942814e-01,  1.00000000e+00, -4.48569659e-01],\n",
       "       [ 4.18510984e-01,  8.70291930e-01, -1.73739268e+00,\n",
       "         7.50808258e-01, -7.03201512e-01,  2.00862219e+00,\n",
       "         4.32107174e-01,  1.00000000e+00, -1.86395314e+00],\n",
       "       [ 1.11584979e+00, -7.72667652e-01, -1.13862309e+00,\n",
       "         1.32836768e-01, -4.87003448e-03,  3.46435884e-01,\n",
       "        -3.67192336e-01,  1.00000000e+00,  4.84776353e-01],\n",
       "       [ 3.83116319e-02,  3.84785474e-01, -1.36787137e-01,\n",
       "        -7.77654562e-01,  1.63481318e-02, -1.02671931e+00,\n",
       "         7.48799734e-03,  1.00000000e+00,  7.96829721e-01],\n",
       "       [ 4.63207552e-01, -6.17079638e-01,  1.86129868e-02,\n",
       "         5.61408670e-01,  1.59468337e+00,  1.30817950e+00,\n",
       "         1.32924819e-01,  1.00000000e+00, -1.98476822e-01],\n",
       "       [ 2.84408832e-01,  6.53422060e-01, -2.07995414e-01,\n",
       "         6.70945496e-01,  8.10377371e-01, -5.08816763e-01,\n",
       "         8.01656626e-01,  1.00000000e+00, -3.21730404e-01],\n",
       "       [ 2.02447351e-01,  6.94797952e-01, -7.15680190e-01,\n",
       "        -6.97327643e-02,  1.70612558e+00, -1.29671281e-01,\n",
       "        -2.65991901e+00,  1.00000000e+00, -4.26111955e-01],\n",
       "       [ 3.60184571e-01, -2.42976608e-01,  4.79722441e-01,\n",
       "         6.34217423e-01,  6.91272580e-01, -2.72370911e-01,\n",
       "        -1.56478893e+00,  1.00000000e+00, -1.75590442e-02],\n",
       "       [-9.65632552e-01,  6.13109096e-01, -9.75295677e-02,\n",
       "         6.36820391e-02,  7.75335759e-01,  1.71595977e+00,\n",
       "        -4.28610486e-01,  1.00000000e+00,  2.25784308e+00],\n",
       "       [ 1.06746646e+00,  2.03857776e+00,  7.99869524e-01,\n",
       "        -1.56502605e+00,  5.10860473e-01, -7.27742771e-01,\n",
       "        -2.10190794e+00,  1.00000000e+00,  6.36056821e-01],\n",
       "       [ 8.12183139e-01,  2.43517088e-01,  1.20814142e-01,\n",
       "        -4.01824210e-01,  1.19183004e+00,  7.02375522e-01,\n",
       "         8.18564218e-01,  1.00000000e+00,  3.41034975e-01],\n",
       "       [-6.64443324e-01,  7.93158268e-01,  5.96996353e-01,\n",
       "        -6.42988399e-01, -2.62151788e-02,  1.80720850e+00,\n",
       "        -1.46611154e-01,  1.00000000e+00, -1.07218578e+00],\n",
       "       [ 8.12218242e-01,  6.85511194e-01,  3.23610890e-01,\n",
       "         9.85756193e-01, -8.09795558e-01, -8.30462674e-03,\n",
       "         4.59359649e-01,  1.00000000e+00, -3.20776160e-01],\n",
       "       [-1.30274358e+00, -1.98472375e+00,  8.59305974e-01,\n",
       "        -5.91027212e-01, -1.29292124e-01,  1.32763749e-01,\n",
       "        -3.39904741e-01,  1.00000000e+00, -1.39751275e+00],\n",
       "       [-4.40086405e-01,  9.43319816e-01,  1.65156034e-01,\n",
       "        -2.46203690e-01, -7.84137232e-01, -2.95344414e-01,\n",
       "         2.50550925e+00,  1.00000000e+00,  4.99333286e-01],\n",
       "       [-1.38062672e+00, -5.93263821e-01, -4.44788843e-01,\n",
       "        -1.39087700e+00,  4.07370100e-01,  7.55447995e-01,\n",
       "        -7.76060462e-01,  1.00000000e+00,  1.67561130e+00],\n",
       "       [-6.92792641e-01, -6.61151557e-01, -7.23937713e-01,\n",
       "        -9.43310039e-01, -2.80170397e-01, -1.01089971e+00,\n",
       "        -1.05172261e+00,  1.00000000e+00,  5.61686243e-01],\n",
       "       [-9.83781467e-02,  1.35852198e+00,  1.79553873e+00,\n",
       "        -2.90566540e-02,  1.86249040e-01,  3.24393104e-01,\n",
       "        -1.89708026e+00,  1.00000000e+00,  2.34647636e-01],\n",
       "       [ 4.31049903e-01,  1.41863973e+00, -9.74928677e-01,\n",
       "         9.28319305e-04, -1.71582960e+00, -7.79521588e-01,\n",
       "         4.30176928e-01,  1.00000000e+00,  2.02671024e+00],\n",
       "       [ 7.93614880e-01, -1.12531090e+00, -1.19235545e+00,\n",
       "         4.20415519e-01, -1.42748446e-01, -1.09798290e+00,\n",
       "        -9.24122449e-01,  1.00000000e+00,  2.10562840e-01],\n",
       "       [ 1.43401272e-01,  5.66818791e-01, -6.76945305e-01,\n",
       "        -8.95973333e-01,  1.54744064e+00,  1.49616209e+00,\n",
       "        -6.43727505e-01,  1.00000000e+00,  2.14673608e-01],\n",
       "       [ 1.87922629e+00, -8.99011999e-01, -1.67758747e-01,\n",
       "        -7.88243491e-01, -3.36967368e-01, -7.91522844e-01,\n",
       "        -8.13877479e-01,  1.00000000e+00,  5.28467722e-01],\n",
       "       [-2.87435385e-03, -6.02024474e-01,  3.30637075e-01,\n",
       "        -1.18980736e+00, -2.43974328e-01,  1.16977573e+00,\n",
       "        -8.63947857e-01,  1.00000000e+00, -4.42183976e-01],\n",
       "       [-1.80947045e+00, -1.57230739e+00, -3.71978906e-01,\n",
       "        -9.06881833e-01, -4.40809544e-01,  4.26329599e-01,\n",
       "         1.22522138e+00,  0.00000000e+00, -1.22311048e+00],\n",
       "       [-2.40220390e-01,  4.15503044e-01, -8.79129427e-01,\n",
       "         2.74736788e-01,  3.61083725e-01, -7.64923639e-01,\n",
       "         9.11363096e-01,  0.00000000e+00, -6.78710945e-01],\n",
       "       [ 4.38313502e-01,  1.01161492e+00, -5.94983387e-01,\n",
       "         3.63771666e-01,  1.03645871e+00,  9.66350460e-01,\n",
       "         2.16981453e-01,  0.00000000e+00,  1.05483071e+00],\n",
       "       [ 9.70269066e-01,  4.08361552e-01, -1.44214619e+00,\n",
       "         3.31792617e-02, -6.88601716e-01,  1.68591350e+00,\n",
       "         1.15043976e+00,  0.00000000e+00, -2.08384655e-01],\n",
       "       [-2.63298711e-01,  1.40705843e+00, -4.98270750e-01,\n",
       "         1.17821127e+00, -9.56004972e-01,  1.03895189e+00,\n",
       "        -7.51057550e-01,  0.00000000e+00, -2.26567836e+00],\n",
       "       [-1.07686397e+00,  7.60252531e-02,  7.52401456e-01,\n",
       "        -7.02580839e-01, -1.77813538e+00,  2.18090366e-01,\n",
       "         6.85077326e-01,  0.00000000e+00, -2.94140023e-01],\n",
       "       [-1.07558520e+00, -2.19966866e+00,  3.10557496e-01,\n",
       "        -4.50975629e-01,  1.02567622e+00, -9.32364861e-01,\n",
       "        -1.60471903e+00,  0.00000000e+00, -5.44182949e-01],\n",
       "       [-8.07387480e-01,  1.46408084e-01, -6.09496523e-01,\n",
       "        -5.10264862e-01, -8.08601180e-01, -1.57101325e+00,\n",
       "         3.50662094e-01,  0.00000000e+00,  3.45279496e-01],\n",
       "       [-3.58959244e-01,  8.71893307e-01,  1.66212814e+00,\n",
       "        -9.06959271e-01, -8.07751728e-02,  6.17894610e-01,\n",
       "         2.95208870e-01,  0.00000000e+00, -1.99925885e+00],\n",
       "       [-1.46814368e+00,  8.75879763e-02,  1.31635732e+00,\n",
       "         1.24614003e+00, -7.50614717e-01, -5.23221964e-02,\n",
       "         1.85878369e+00,  0.00000000e+00, -1.60491574e+00],\n",
       "       [ 4.84282671e-01, -8.41436775e-01, -3.10710084e-01,\n",
       "        -3.80384221e-01, -4.56709410e-01,  6.87767549e-02,\n",
       "         1.02611107e+00,  0.00000000e+00,  3.58601368e-01],\n",
       "       [ 2.24091373e+00, -1.01005284e+00, -1.08470932e+00,\n",
       "        -1.85112688e+00,  1.12812904e+00, -7.17658005e-01,\n",
       "         2.43543790e-01,  0.00000000e+00,  1.33313831e+00],\n",
       "       [ 2.32749538e+00,  8.16731776e-01,  8.36437878e-01,\n",
       "         4.38321524e-01,  4.48532263e-01, -3.95341584e-01,\n",
       "        -1.76831307e+00,  0.00000000e+00, -5.49413910e-01],\n",
       "       [ 1.12836245e+00,  3.41955628e-01,  7.00063691e-01,\n",
       "         1.10866609e+00,  1.16721146e+00,  8.63236269e-01,\n",
       "         4.49668795e-01,  0.00000000e+00,  1.76651022e+00],\n",
       "       [-9.51650553e-01, -1.17152178e-01, -1.80321465e-01,\n",
       "        -1.18340916e+00, -9.63403694e-01,  8.25664851e-01,\n",
       "         1.06061026e+00,  0.00000000e+00,  6.05445921e-01],\n",
       "       [ 4.26203507e-01, -3.07368882e+00,  5.91188382e-01,\n",
       "         5.20409870e-01,  3.49290932e-01, -3.95159070e-01,\n",
       "        -5.14112178e-01,  0.00000000e+00,  8.25222389e-01],\n",
       "       [ 1.06044037e-01, -2.52425273e+00,  1.23631014e+00,\n",
       "        -4.49305043e-01,  4.88928312e-01,  4.25499770e-01,\n",
       "         1.12227626e+00,  0.00000000e+00, -3.53928170e-01],\n",
       "       [-6.67299482e-01, -1.21586544e-01, -8.44278010e-01,\n",
       "         1.96329995e-01, -1.40945166e+00, -2.86542607e-01,\n",
       "        -8.63846787e-01,  0.00000000e+00, -6.48973366e-01],\n",
       "       [-4.37399978e-02, -6.70121784e-01,  3.04598286e-01,\n",
       "         1.89247752e+00, -2.57441123e+00,  3.19785559e-01,\n",
       "        -3.95646716e-01,  0.00000000e+00,  1.01624908e+00],\n",
       "       [-6.17578606e-01,  1.04416757e+00,  1.13140691e-01,\n",
       "         8.95815073e-01,  8.14644899e-01,  1.07092309e+00,\n",
       "         1.84722287e+00,  0.00000000e+00,  3.94524214e-01],\n",
       "       [ 2.14712074e-01,  2.79546780e+00,  4.75999803e-01,\n",
       "         2.20415805e+00, -4.93165930e-01,  1.51680792e+00,\n",
       "        -9.03900217e-01,  0.00000000e+00,  3.66666582e-01],\n",
       "       [-4.82981016e-01,  2.51813547e-02,  2.19871821e-01,\n",
       "        -2.12919130e-01, -1.19050362e+00, -3.91128155e-01,\n",
       "        -7.05803033e-01,  0.00000000e+00, -1.41149914e+00],\n",
       "       [ 1.88769485e-01,  1.04015809e+00,  9.25156849e-01,\n",
       "         1.69685131e+00, -1.41633276e-01, -6.41170986e-01,\n",
       "        -1.02717511e+00,  0.00000000e+00,  1.40866681e-01],\n",
       "       [-5.22234404e-01,  9.07007571e-01, -6.94326611e-01,\n",
       "         2.02178018e+00,  1.54938839e-02, -1.47405508e+00,\n",
       "         2.19036586e+00,  0.00000000e+00,  1.58382685e-01],\n",
       "       [-6.76618657e-01,  4.47715218e-01,  1.24638970e+00,\n",
       "         2.28885685e-01, -8.47114536e-01, -9.27194852e-01,\n",
       "        -1.05085774e+00,  0.00000000e+00,  6.27498134e-01],\n",
       "       [ 1.09251477e-01, -8.01016779e-01, -1.29793184e+00,\n",
       "         1.24432706e+00,  5.04198366e-01, -7.88684748e-01,\n",
       "        -6.56623502e-01,  0.00000000e+00,  2.08945113e-01],\n",
       "       [ 3.11077311e-01, -1.42852860e-01, -5.59813415e-01,\n",
       "        -3.12038041e-01,  1.65478314e+00,  4.93955345e-01,\n",
       "        -1.94173144e-01,  0.00000000e+00,  1.23045032e+00],\n",
       "       [ 1.65619370e+00,  4.13244828e-01,  6.19227953e-01,\n",
       "        -1.04571829e+00, -1.42069645e+00,  2.07956895e-01,\n",
       "         3.28953291e-01,  0.00000000e+00, -1.43182566e+00],\n",
       "       [-3.69008803e-01,  5.67192735e-01, -6.26954042e-01,\n",
       "        -9.87087817e-01, -1.30205858e+00, -4.04165353e-01,\n",
       "        -1.24537847e+00,  0.00000000e+00,  1.11804879e+00],\n",
       "       [-1.35838920e+00, -1.68496373e+00, -6.55788475e-02,\n",
       "         1.02739437e-01, -3.62265858e-01, -3.15856113e-01,\n",
       "         7.39198315e-01,  0.00000000e+00, -7.21686038e-01],\n",
       "       [ 3.09427374e-01, -1.35485654e+00, -1.96928246e+00,\n",
       "        -6.00462513e-01,  4.96413855e-01,  1.23631233e+00,\n",
       "         5.64630006e-01,  0.00000000e+00, -1.20497627e+00],\n",
       "       [-4.40215986e-01, -5.03741571e-01,  1.75358542e-01,\n",
       "        -2.05630286e-01, -1.30372447e-02,  9.11519720e-01,\n",
       "        -9.55018986e-01,  0.00000000e+00, -4.81954056e-01],\n",
       "       [ 4.18777312e-01, -1.19685385e+00, -3.90413867e-01,\n",
       "        -1.52486309e+00,  2.82745894e-01, -2.63833768e-01,\n",
       "        -1.04103844e+00,  0.00000000e+00,  1.14199507e+00],\n",
       "       [-9.41303082e-01, -1.06485848e+00,  1.25542851e+00,\n",
       "         9.78878562e-01, -1.05465520e+00,  1.33225199e+00,\n",
       "        -7.70682370e-01,  0.00000000e+00,  1.45686737e+00],\n",
       "       [-1.14475225e+00, -1.22355359e+00,  4.84381886e-01,\n",
       "        -1.56274270e+00,  7.41336889e-01,  1.38596309e-01,\n",
       "        -1.47098055e-01,  0.00000000e+00, -3.48978315e-01],\n",
       "       [ 7.68557921e-01, -5.08245774e-01,  1.19709219e+00,\n",
       "        -1.63828856e+00, -2.59975519e-01, -9.73836590e-01,\n",
       "         3.82312977e-01,  0.00000000e+00,  1.42868923e+00],\n",
       "       [-5.51716492e-02,  1.02717436e+00,  1.21863875e+00,\n",
       "        -2.25764275e+00, -1.55572381e+00,  6.94197136e-03,\n",
       "         5.98645681e-01,  0.00000000e+00,  2.21017836e-01],\n",
       "       [-8.43586922e-01, -1.52931389e-01,  1.28266197e+00,\n",
       "        -6.33662139e-01, -1.29424589e+00,  1.21359100e-01,\n",
       "        -3.53208759e-01,  0.00000000e+00, -2.21761087e+00],\n",
       "       [ 5.31152138e-01,  7.09134347e-01, -8.23989769e-01,\n",
       "        -5.49014608e-01,  5.72800577e-01,  2.46332326e-02,\n",
       "        -4.45170837e-01,  0.00000000e+00, -1.42700082e+00],\n",
       "       [ 4.22696534e-01, -2.91405556e-01,  6.26006360e-01,\n",
       "         1.14885038e+00,  1.65855084e+00,  4.08515602e-01,\n",
       "        -1.53843169e+00,  0.00000000e+00, -1.49403722e+00],\n",
       "       [-1.06534241e+00, -1.25249435e+00, -8.09207668e-01,\n",
       "        -4.20873656e-01, -4.79533048e-01,  8.09849796e-01,\n",
       "         1.25302710e-02,  0.00000000e+00,  7.96344737e-01],\n",
       "       [ 3.82765375e-01, -9.43873517e-01, -2.09877141e+00,\n",
       "         3.26303555e-01,  5.59225029e-01,  1.19601141e+00,\n",
       "         1.08621303e+00,  0.00000000e+00,  2.09628248e-03],\n",
       "       [ 7.13276465e-02,  8.31625213e-01, -7.47435884e-01,\n",
       "         1.04016265e+00,  1.60566757e-01, -3.08715506e-01,\n",
       "         9.00842166e-02,  0.00000000e+00, -4.33021007e-02],\n",
       "       [ 1.40635668e-01,  5.08997740e-01,  8.71975346e-01,\n",
       "         6.78095339e-01,  1.07032791e+00, -7.84252542e-01,\n",
       "        -1.08186629e+00,  0.00000000e+00, -7.60893146e-01],\n",
       "       [ 7.27357907e-01,  8.53530308e-01, -6.45376819e-01,\n",
       "         8.79338162e-01,  1.54923038e+00, -2.53568226e+00,\n",
       "        -4.51052294e-01,  0.00000000e+00, -3.18381870e-01],\n",
       "       [ 1.66877789e+00, -1.06829792e+00, -1.91333256e+00,\n",
       "         1.36175374e+00,  1.44097793e+00, -2.20374942e+00,\n",
       "         2.78948849e-02,  0.00000000e+00, -1.16311526e+00],\n",
       "       [-2.54045893e-01,  4.20560323e-01, -1.59297267e-01,\n",
       "        -2.06793120e-01,  6.71685609e-01, -4.79147672e-01,\n",
       "        -8.49795130e-02,  0.00000000e+00,  6.44471880e-01],\n",
       "       [ 1.22562131e-01, -3.70292412e-01, -7.16978812e-01,\n",
       "        -9.91926946e-01, -6.99924768e-02,  1.86979507e+00,\n",
       "        -3.01623036e+00,  0.00000000e+00, -3.12446610e-01],\n",
       "       [ 5.76644670e-01,  5.53992486e-01,  5.74615413e-03,\n",
       "        -7.18304107e-01, -1.08184111e+00,  8.78111095e-01,\n",
       "         7.48861823e-01,  0.00000000e+00,  7.16495894e-01],\n",
       "       [ 1.01033946e+00,  1.24456835e+00, -6.31976690e-01,\n",
       "        -1.22682313e-01,  2.12025872e+00, -1.28790868e+00,\n",
       "        -2.32670460e+00,  0.00000000e+00,  2.13769124e+00],\n",
       "       [ 5.94216682e-01, -4.24429989e-01, -7.91373996e-01,\n",
       "        -1.14790381e+00, -5.89354842e-01,  2.22128453e+00,\n",
       "        -1.92365771e+00,  0.00000000e+00, -1.71499744e-01],\n",
       "       [ 7.76156396e-01,  6.88325898e-01, -6.26833515e-01,\n",
       "         9.00293724e-01, -5.83473109e-02,  5.54367300e-02,\n",
       "         3.64282663e-01,  0.00000000e+00,  9.74359373e-01],\n",
       "       [ 9.75898303e-01, -1.28410537e+00,  2.99610363e+00,\n",
       "        -8.40939977e-01,  5.30955568e-02,  1.18051048e+00,\n",
       "        -8.28197636e-01,  0.00000000e+00, -1.66302162e+00],\n",
       "       [ 8.37520336e-01,  4.36174303e-01, -5.78084785e-01,\n",
       "         2.08116866e-01,  4.20574677e-01,  1.18363721e+00,\n",
       "         4.02069277e-02,  0.00000000e+00, -5.88244456e-01],\n",
       "       [-2.91328442e-01, -5.57561448e-02,  9.25707784e-01,\n",
       "        -6.27155917e-01, -3.97481125e-01, -1.11383902e-01,\n",
       "         5.95173450e-01,  0.00000000e+00, -2.42409442e-02]])"
      ]
     },
     "execution_count": 13,
     "metadata": {},
     "output_type": "execute_result"
    }
   ],
   "source": [
    "X2"
   ]
  },
  {
   "cell_type": "code",
   "execution_count": 7,
   "id": "19f20262-9fae-49dd-980a-b5cf20ffebdc",
   "metadata": {
    "tags": []
   },
   "outputs": [
    {
     "data": {
      "text/html": [
       "<style>#sk-container-id-1 {color: black;background-color: white;}#sk-container-id-1 pre{padding: 0;}#sk-container-id-1 div.sk-toggleable {background-color: white;}#sk-container-id-1 label.sk-toggleable__label {cursor: pointer;display: block;width: 100%;margin-bottom: 0;padding: 0.3em;box-sizing: border-box;text-align: center;}#sk-container-id-1 label.sk-toggleable__label-arrow:before {content: \"▸\";float: left;margin-right: 0.25em;color: #696969;}#sk-container-id-1 label.sk-toggleable__label-arrow:hover:before {color: black;}#sk-container-id-1 div.sk-estimator:hover label.sk-toggleable__label-arrow:before {color: black;}#sk-container-id-1 div.sk-toggleable__content {max-height: 0;max-width: 0;overflow: hidden;text-align: left;background-color: #f0f8ff;}#sk-container-id-1 div.sk-toggleable__content pre {margin: 0.2em;color: black;border-radius: 0.25em;background-color: #f0f8ff;}#sk-container-id-1 input.sk-toggleable__control:checked~div.sk-toggleable__content {max-height: 200px;max-width: 100%;overflow: auto;}#sk-container-id-1 input.sk-toggleable__control:checked~label.sk-toggleable__label-arrow:before {content: \"▾\";}#sk-container-id-1 div.sk-estimator input.sk-toggleable__control:checked~label.sk-toggleable__label {background-color: #d4ebff;}#sk-container-id-1 div.sk-label input.sk-toggleable__control:checked~label.sk-toggleable__label {background-color: #d4ebff;}#sk-container-id-1 input.sk-hidden--visually {border: 0;clip: rect(1px 1px 1px 1px);clip: rect(1px, 1px, 1px, 1px);height: 1px;margin: -1px;overflow: hidden;padding: 0;position: absolute;width: 1px;}#sk-container-id-1 div.sk-estimator {font-family: monospace;background-color: #f0f8ff;border: 1px dotted black;border-radius: 0.25em;box-sizing: border-box;margin-bottom: 0.5em;}#sk-container-id-1 div.sk-estimator:hover {background-color: #d4ebff;}#sk-container-id-1 div.sk-parallel-item::after {content: \"\";width: 100%;border-bottom: 1px solid gray;flex-grow: 1;}#sk-container-id-1 div.sk-label:hover label.sk-toggleable__label {background-color: #d4ebff;}#sk-container-id-1 div.sk-serial::before {content: \"\";position: absolute;border-left: 1px solid gray;box-sizing: border-box;top: 0;bottom: 0;left: 50%;z-index: 0;}#sk-container-id-1 div.sk-serial {display: flex;flex-direction: column;align-items: center;background-color: white;padding-right: 0.2em;padding-left: 0.2em;position: relative;}#sk-container-id-1 div.sk-item {position: relative;z-index: 1;}#sk-container-id-1 div.sk-parallel {display: flex;align-items: stretch;justify-content: center;background-color: white;position: relative;}#sk-container-id-1 div.sk-item::before, #sk-container-id-1 div.sk-parallel-item::before {content: \"\";position: absolute;border-left: 1px solid gray;box-sizing: border-box;top: 0;bottom: 0;left: 50%;z-index: -1;}#sk-container-id-1 div.sk-parallel-item {display: flex;flex-direction: column;z-index: 1;position: relative;background-color: white;}#sk-container-id-1 div.sk-parallel-item:first-child::after {align-self: flex-end;width: 50%;}#sk-container-id-1 div.sk-parallel-item:last-child::after {align-self: flex-start;width: 50%;}#sk-container-id-1 div.sk-parallel-item:only-child::after {width: 0;}#sk-container-id-1 div.sk-dashed-wrapped {border: 1px dashed gray;margin: 0 0.4em 0.5em 0.4em;box-sizing: border-box;padding-bottom: 0.4em;background-color: white;}#sk-container-id-1 div.sk-label label {font-family: monospace;font-weight: bold;display: inline-block;line-height: 1.2em;}#sk-container-id-1 div.sk-label-container {text-align: center;}#sk-container-id-1 div.sk-container {/* jupyter's `normalize.less` sets `[hidden] { display: none; }` but bootstrap.min.css set `[hidden] { display: none !important; }` so we also need the `!important` here to be able to override the default hidden behavior on the sphinx rendered scikit-learn.org. See: https://github.com/scikit-learn/scikit-learn/issues/21755 */display: inline-block !important;position: relative;}#sk-container-id-1 div.sk-text-repr-fallback {display: none;}</style><div id=\"sk-container-id-1\" class=\"sk-top-container\"><div class=\"sk-text-repr-fallback\"><pre>RidgeCV()</pre><b>In a Jupyter environment, please rerun this cell to show the HTML representation or trust the notebook. <br />On GitHub, the HTML representation is unable to render, please try loading this page with nbviewer.org.</b></div><div class=\"sk-container\" hidden><div class=\"sk-item\"><div class=\"sk-estimator sk-toggleable\"><input class=\"sk-toggleable__control sk-hidden--visually\" id=\"sk-estimator-id-1\" type=\"checkbox\" checked><label for=\"sk-estimator-id-1\" class=\"sk-toggleable__label sk-toggleable__label-arrow\">RidgeCV</label><div class=\"sk-toggleable__content\"><pre>RidgeCV()</pre></div></div></div></div></div>"
      ],
      "text/plain": [
       "RidgeCV()"
      ]
     },
     "execution_count": 7,
     "metadata": {},
     "output_type": "execute_result"
    }
   ],
   "source": [
    "model = RidgeCV()\n",
    "model.fit(X, y)"
   ]
  },
  {
   "cell_type": "markdown",
   "id": "dbd04307-8af6-4210-b49d-7c1628c4d83f",
   "metadata": {},
   "source": [
    "## Analyse correlations and model coefficients"
   ]
  },
  {
   "cell_type": "code",
   "execution_count": 8,
   "id": "42111095-046a-4a95-8776-54fea339491a",
   "metadata": {
    "tags": []
   },
   "outputs": [],
   "source": [
    "correlations_r = [pearsonr(X[:, i], y)[0] for i in range(X.shape[1])]\n",
    "correlations_p = [pearsonr(X[:, i], y)[1] for i in range(X.shape[1])]\n",
    "    "
   ]
  },
  {
   "cell_type": "code",
   "execution_count": 9,
   "id": "655032af-d823-45a6-a9db-579408e34221",
   "metadata": {
    "tags": []
   },
   "outputs": [
    {
     "data": {
      "text/html": [
       "<div>\n",
       "<style scoped>\n",
       "    .dataframe tbody tr th:only-of-type {\n",
       "        vertical-align: middle;\n",
       "    }\n",
       "\n",
       "    .dataframe tbody tr th {\n",
       "        vertical-align: top;\n",
       "    }\n",
       "\n",
       "    .dataframe thead th {\n",
       "        text-align: right;\n",
       "    }\n",
       "</style>\n",
       "<table border=\"1\" class=\"dataframe\">\n",
       "  <thead>\n",
       "    <tr style=\"text-align: right;\">\n",
       "      <th></th>\n",
       "      <th>coef</th>\n",
       "      <th>correlation r</th>\n",
       "      <th>correlation p</th>\n",
       "    </tr>\n",
       "  </thead>\n",
       "  <tbody>\n",
       "    <tr>\n",
       "      <th>feature 0</th>\n",
       "      <td>7.025404</td>\n",
       "      <td>0.188073</td>\n",
       "      <td>6.095162e-02</td>\n",
       "    </tr>\n",
       "    <tr>\n",
       "      <th>feature 1</th>\n",
       "      <td>2.377854</td>\n",
       "      <td>0.092541</td>\n",
       "      <td>3.598008e-01</td>\n",
       "    </tr>\n",
       "    <tr>\n",
       "      <th>feature 2</th>\n",
       "      <td>33.485614</td>\n",
       "      <td>0.138256</td>\n",
       "      <td>1.701322e-01</td>\n",
       "    </tr>\n",
       "    <tr>\n",
       "      <th>feature 3</th>\n",
       "      <td>78.315351</td>\n",
       "      <td>0.569326</td>\n",
       "      <td>6.374702e-10</td>\n",
       "    </tr>\n",
       "    <tr>\n",
       "      <th>feature 4</th>\n",
       "      <td>79.870733</td>\n",
       "      <td>0.523729</td>\n",
       "      <td>2.252291e-08</td>\n",
       "    </tr>\n",
       "    <tr>\n",
       "      <th>feature 5</th>\n",
       "      <td>-3.739370</td>\n",
       "      <td>-0.105416</td>\n",
       "      <td>2.965699e-01</td>\n",
       "    </tr>\n",
       "    <tr>\n",
       "      <th>feature 6</th>\n",
       "      <td>-2.360193</td>\n",
       "      <td>-0.129693</td>\n",
       "      <td>1.984219e-01</td>\n",
       "    </tr>\n",
       "    <tr>\n",
       "      <th>feature 7</th>\n",
       "      <td>32.780314</td>\n",
       "      <td>0.141958</td>\n",
       "      <td>1.588725e-01</td>\n",
       "    </tr>\n",
       "    <tr>\n",
       "      <th>feature 8</th>\n",
       "      <td>38.077457</td>\n",
       "      <td>0.030352</td>\n",
       "      <td>7.643480e-01</td>\n",
       "    </tr>\n",
       "    <tr>\n",
       "      <th>feature 9</th>\n",
       "      <td>-4.928516</td>\n",
       "      <td>-0.020712</td>\n",
       "      <td>8.379320e-01</td>\n",
       "    </tr>\n",
       "  </tbody>\n",
       "</table>\n",
       "</div>"
      ],
      "text/plain": [
       "                coef  correlation r  correlation p\n",
       "feature 0   7.025404       0.188073   6.095162e-02\n",
       "feature 1   2.377854       0.092541   3.598008e-01\n",
       "feature 2  33.485614       0.138256   1.701322e-01\n",
       "feature 3  78.315351       0.569326   6.374702e-10\n",
       "feature 4  79.870733       0.523729   2.252291e-08\n",
       "feature 5  -3.739370      -0.105416   2.965699e-01\n",
       "feature 6  -2.360193      -0.129693   1.984219e-01\n",
       "feature 7  32.780314       0.141958   1.588725e-01\n",
       "feature 8  38.077457       0.030352   7.643480e-01\n",
       "feature 9  -4.928516      -0.020712   8.379320e-01"
      ]
     },
     "execution_count": 9,
     "metadata": {},
     "output_type": "execute_result"
    }
   ],
   "source": [
    "df = pd.DataFrame({\n",
    "        \"coef\": model.coef_, \n",
    "        \"correlation r\": correlations_r, \n",
    "        \"correlation p\": correlations_p}, \n",
    "    index=[f\"feature {i}\" for i in range(X.shape[1])])\n",
    "df"
   ]
  },
  {
   "cell_type": "code",
   "execution_count": 37,
   "id": "f2174c0c-5482-4f6b-82e8-e57aa9704550",
   "metadata": {
    "tags": []
   },
   "outputs": [
    {
     "data": {
      "text/plain": [
       "(array([0., 1.]), array([0., 1.]))"
      ]
     },
     "execution_count": 37,
     "metadata": {},
     "output_type": "execute_result"
    }
   ],
   "source": [
    "# feature 7 and 8 are binary\n",
    "np.unique(X[:,7]), np.unique(X[:,8])"
   ]
  },
  {
   "cell_type": "code",
   "execution_count": 38,
   "id": "94e191b4-3043-48c8-9ce2-9da4a5b268c2",
   "metadata": {
    "tags": []
   },
   "outputs": [
    {
     "data": {
      "text/plain": [
       "array([False, False, False, False, False, False, False, False, False,\n",
       "       False, False, False, False, False, False, False, False, False,\n",
       "       False, False, False, False, False, False, False, False, False,\n",
       "       False, False, False, False, False, False, False, False, False,\n",
       "       False, False, False, False, False, False, False, False, False,\n",
       "       False, False, False, False, False, False, False, False, False,\n",
       "       False, False, False, False, False, False, False, False, False,\n",
       "       False, False, False, False, False, False, False, False, False,\n",
       "       False, False, False, False, False, False, False, False, False,\n",
       "       False, False, False, False, False, False, False, False, False,\n",
       "       False, False, False, False, False, False, False, False, False,\n",
       "       False])"
      ]
     },
     "execution_count": 38,
     "metadata": {},
     "output_type": "execute_result"
    }
   ],
   "source": [
    "# feature 7 and 8 are mutually exclusive\n",
    "((X[:,7] == 1) & (X[:,8] == 1)).sum()\n",
    "((X[:,7] == 1) & (X[:,8] == 1))"
   ]
  },
  {
   "cell_type": "code",
   "execution_count": 39,
   "id": "f57fa0f9-ad96-4fe7-a8ed-b6c9b39507ed",
   "metadata": {
    "tags": []
   },
   "outputs": [
    {
     "data": {
      "text/plain": [
       "0.9"
      ]
     },
     "execution_count": 39,
     "metadata": {},
     "output_type": "execute_result"
    }
   ],
   "source": [
    "# feature 7 and 8 nearly cover the whole dataset!\n",
    "((X[:,7] == 1) | (X[:,8] == 1)).sum() / X.shape[0]"
   ]
  },
  {
   "cell_type": "markdown",
   "id": "427a7189-cd59-4ee3-a88a-be272018ad31",
   "metadata": {},
   "source": [
    "## Tasks"
   ]
  },
  {
   "cell_type": "markdown",
   "id": "785a310e-b828-476a-b2df-9bf01adc2b6a",
   "metadata": {},
   "source": [
    "Feature 7 and 8 seem to be important features for the model (with coefficients > 30!). However, taking a closer look, they are both binary, mutually exclusive, and nearly cover the whole dataset. Also they are barely correlated to the outcome by themselves. I would not expect them to both have such a high importance for the model and on top of that both positive! What is going on?"
   ]
  },
  {
   "cell_type": "code",
   "execution_count": 11,
   "id": "3983e2fa",
   "metadata": {
    "scrolled": true
   },
   "outputs": [
    {
     "data": {
      "image/png": "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",
      "text/plain": [
       "<Figure size 1000x800 with 2 Axes>"
      ]
     },
     "metadata": {},
     "output_type": "display_data"
    }
   ],
   "source": [
    "import seaborn as sns\n",
    "import matplotlib.pyplot as plt\n",
    "import pandas as pd\n",
    "\n",
    "# Visualize correlations between features\n",
    "plt.figure(figsize=(10, 8))\n",
    "sns.heatmap(pd.DataFrame(X).corr(), annot=True, cmap='coolwarm', fmt=\".2f\", linewidths=.5)\n",
    "plt.title('Correlation Heatmap of Features')\n",
    "plt.show()"
   ]
  },
  {
   "cell_type": "code",
   "execution_count": 85,
   "id": "2aa136db",
   "metadata": {},
   "outputs": [
    {
     "data": {
      "text/plain": [
       "45"
      ]
     },
     "execution_count": 85,
     "metadata": {},
     "output_type": "execute_result"
    }
   ],
   "source": [
    "(X[:,7] == 1).sum()"
   ]
  },
  {
   "cell_type": "code",
   "execution_count": 86,
   "id": "fb484e53",
   "metadata": {
    "scrolled": true
   },
   "outputs": [
    {
     "data": {
      "text/plain": [
       "45"
      ]
     },
     "execution_count": 86,
     "metadata": {},
     "output_type": "execute_result"
    }
   ],
   "source": [
    "(X[:,8] == 1).sum()"
   ]
  },
  {
   "cell_type": "code",
   "execution_count": 13,
   "id": "b64dca88",
   "metadata": {},
   "outputs": [
    {
     "name": "stdout",
     "output_type": "stream",
     "text": [
      "The length of X is: 100\n"
     ]
    }
   ],
   "source": [
    "total_length = len(X)\n",
    "\n",
    "print(f\"The length of X is: {total_length}\")"
   ]
  },
  {
   "cell_type": "code",
   "execution_count": 22,
   "id": "45785908",
   "metadata": {},
   "outputs": [
    {
     "name": "stdout",
     "output_type": "stream",
     "text": [
      "     feature       VIF\n",
      "0  feature_0  1.113460\n",
      "1  feature_1  1.060959\n",
      "2  feature_2  1.038773\n",
      "3  feature_3  1.071619\n",
      "4  feature_4  1.118985\n",
      "5  feature_5  1.032964\n",
      "6  feature_6  1.076627\n",
      "7  feature_7  1.040059\n",
      "8  feature_8  1.056980\n",
      "9  feature_9  1.050990\n"
     ]
    }
   ],
   "source": [
    "from statsmodels.stats.outliers_influence import variance_inflation_factor\n",
    "X_df = pd.DataFrame(X, columns=[f'feature_{i}' for i in range(X.shape[1])])\n",
    "\n",
    "# Calculating VIF\n",
    "vif_data = pd.DataFrame()\n",
    "vif_data['feature'] = X_df.columns\n",
    "vif_data['VIF'] = [variance_inflation_factor(X_df.values, i) for i in range(X_df.shape[1])]\n",
    "\n",
    "print(vif_data)"
   ]
  },
  {
   "cell_type": "code",
   "execution_count": 61,
   "id": "2010906d",
   "metadata": {},
   "outputs": [
    {
     "name": "stdout",
     "output_type": "stream",
     "text": [
      "Corrleation between feature 7 and 8: -0.8181818181818178\n"
     ]
    }
   ],
   "source": [
    "df = pd.DataFrame({'feature_7': X[:,7], 'feature_8': X[:,8]})\n",
    "correlation = df['feature_7'].corr(df['feature_8'])\n",
    "print(f\"Corrleation between feature 7 and 8: {correlation}\")"
   ]
  },
  {
   "cell_type": "markdown",
   "id": "e9b13204",
   "metadata": {},
   "source": [
    "The negative correlation between the two variables indicates that there is multicorrenality. "
   ]
  },
  {
   "cell_type": "markdown",
   "id": "ff77dd9d",
   "metadata": {},
   "source": [
    "One possible explanation for the occurrence of the high coefficient but the low correlation with the outcome variable could be multicorrenality. This is made clear by the high negative correlation between F7 and F8. The reason for this problem could be that we have a categorical variable in which the reference category is only represented in 10% of the observations. The remaining observations are equally distributed across the other two categories, resulting in the strong negative correlation. An example of this could be the variable gender, for which a third category other was introduced, but which was only filled in by a few people. \n",
    "Depending on the problem, you could either remove one of the two dummy variables, which would make the removed dummy variable the reference group. Alternatively, you could also remove the observations from the previous reference group from the study if you do not want to add the removed dummy variable to it. \n",
    "Both variants are carried out once below."
   ]
  },
  {
   "cell_type": "code",
   "execution_count": 80,
   "id": "178831ec",
   "metadata": {},
   "outputs": [
    {
     "data": {
      "text/html": [
       "<div>\n",
       "<style scoped>\n",
       "    .dataframe tbody tr th:only-of-type {\n",
       "        vertical-align: middle;\n",
       "    }\n",
       "\n",
       "    .dataframe tbody tr th {\n",
       "        vertical-align: top;\n",
       "    }\n",
       "\n",
       "    .dataframe thead th {\n",
       "        text-align: right;\n",
       "    }\n",
       "</style>\n",
       "<table border=\"1\" class=\"dataframe\">\n",
       "  <thead>\n",
       "    <tr style=\"text-align: right;\">\n",
       "      <th></th>\n",
       "      <th>coef</th>\n",
       "      <th>correlation r</th>\n",
       "      <th>correlation p</th>\n",
       "    </tr>\n",
       "  </thead>\n",
       "  <tbody>\n",
       "    <tr>\n",
       "      <th>feature 0</th>\n",
       "      <td>7.549104</td>\n",
       "      <td>0.188073</td>\n",
       "      <td>6.095162e-02</td>\n",
       "    </tr>\n",
       "    <tr>\n",
       "      <th>feature 1</th>\n",
       "      <td>0.113974</td>\n",
       "      <td>0.092541</td>\n",
       "      <td>3.598008e-01</td>\n",
       "    </tr>\n",
       "    <tr>\n",
       "      <th>feature 2</th>\n",
       "      <td>38.197013</td>\n",
       "      <td>0.138256</td>\n",
       "      <td>1.701322e-01</td>\n",
       "    </tr>\n",
       "    <tr>\n",
       "      <th>feature 3</th>\n",
       "      <td>84.491373</td>\n",
       "      <td>0.569326</td>\n",
       "      <td>6.374702e-10</td>\n",
       "    </tr>\n",
       "    <tr>\n",
       "      <th>feature 4</th>\n",
       "      <td>88.326266</td>\n",
       "      <td>0.523729</td>\n",
       "      <td>2.252291e-08</td>\n",
       "    </tr>\n",
       "    <tr>\n",
       "      <th>feature 5</th>\n",
       "      <td>-2.902458</td>\n",
       "      <td>-0.105416</td>\n",
       "      <td>2.965699e-01</td>\n",
       "    </tr>\n",
       "    <tr>\n",
       "      <th>feature 6</th>\n",
       "      <td>-2.562496</td>\n",
       "      <td>-0.129693</td>\n",
       "      <td>1.984219e-01</td>\n",
       "    </tr>\n",
       "    <tr>\n",
       "      <th>feature 7</th>\n",
       "      <td>11.661303</td>\n",
       "      <td>0.141958</td>\n",
       "      <td>1.588725e-01</td>\n",
       "    </tr>\n",
       "    <tr>\n",
       "      <th>feature 8</th>\n",
       "      <td>-2.899107</td>\n",
       "      <td>-0.020712</td>\n",
       "      <td>8.379320e-01</td>\n",
       "    </tr>\n",
       "  </tbody>\n",
       "</table>\n",
       "</div>"
      ],
      "text/plain": [
       "                coef  correlation r  correlation p\n",
       "feature 0   7.549104       0.188073   6.095162e-02\n",
       "feature 1   0.113974       0.092541   3.598008e-01\n",
       "feature 2  38.197013       0.138256   1.701322e-01\n",
       "feature 3  84.491373       0.569326   6.374702e-10\n",
       "feature 4  88.326266       0.523729   2.252291e-08\n",
       "feature 5  -2.902458      -0.105416   2.965699e-01\n",
       "feature 6  -2.562496      -0.129693   1.984219e-01\n",
       "feature 7  11.661303       0.141958   1.588725e-01\n",
       "feature 8  -2.899107      -0.020712   8.379320e-01"
      ]
     },
     "execution_count": 80,
     "metadata": {},
     "output_type": "execute_result"
    }
   ],
   "source": [
    "X2 = np.delete(X, 8, axis=1)\n",
    "model = RidgeCV()\n",
    "model.fit(X2, y)\n",
    "correlations_r = [pearsonr(X2[:, i], y)[0] for i in range(X2.shape[1])]\n",
    "correlations_p = [pearsonr(X2[:, i], y)[1] for i in range(X2.shape[1])]\n",
    "df = pd.DataFrame({\n",
    "        \"coef\": model.coef_.flatten(), \n",
    "        \"correlation r\": correlations_r, \n",
    "        \"correlation p\": correlations_p}, \n",
    "    index=[f\"feature {i}\" for i in range(X2.shape[1])])\n",
    "df\n"
   ]
  },
  {
   "cell_type": "code",
   "execution_count": 15,
   "id": "bc91c502",
   "metadata": {},
   "outputs": [],
   "source": [
    "df_X=pd.DataFrame(X)\n",
    "df_X['y'] = y"
   ]
  },
  {
   "cell_type": "code",
   "execution_count": 104,
   "id": "b47c10a6",
   "metadata": {},
   "outputs": [
    {
     "data": {
      "text/html": [
       "<div>\n",
       "<style scoped>\n",
       "    .dataframe tbody tr th:only-of-type {\n",
       "        vertical-align: middle;\n",
       "    }\n",
       "\n",
       "    .dataframe tbody tr th {\n",
       "        vertical-align: top;\n",
       "    }\n",
       "\n",
       "    .dataframe thead th {\n",
       "        text-align: right;\n",
       "    }\n",
       "</style>\n",
       "<table border=\"1\" class=\"dataframe\">\n",
       "  <thead>\n",
       "    <tr style=\"text-align: right;\">\n",
       "      <th></th>\n",
       "      <th>0</th>\n",
       "      <th>1</th>\n",
       "      <th>2</th>\n",
       "      <th>3</th>\n",
       "      <th>4</th>\n",
       "      <th>5</th>\n",
       "      <th>6</th>\n",
       "      <th>7</th>\n",
       "      <th>8</th>\n",
       "      <th>9</th>\n",
       "    </tr>\n",
       "  </thead>\n",
       "  <tbody>\n",
       "    <tr>\n",
       "      <th>88.410998</th>\n",
       "      <td>-1.896928</td>\n",
       "      <td>1.231018</td>\n",
       "      <td>-0.810444</td>\n",
       "      <td>1.157672</td>\n",
       "      <td>0.390553</td>\n",
       "      <td>-0.533551</td>\n",
       "      <td>-0.057197</td>\n",
       "      <td>1.0</td>\n",
       "      <td>0.0</td>\n",
       "      <td>0.031763</td>\n",
       "    </tr>\n",
       "    <tr>\n",
       "      <th>-101.448586</th>\n",
       "      <td>-1.921079</td>\n",
       "      <td>0.008909</td>\n",
       "      <td>0.253760</td>\n",
       "      <td>-0.167768</td>\n",
       "      <td>-1.134035</td>\n",
       "      <td>-0.235852</td>\n",
       "      <td>1.979192</td>\n",
       "      <td>1.0</td>\n",
       "      <td>0.0</td>\n",
       "      <td>0.157767</td>\n",
       "    </tr>\n",
       "    <tr>\n",
       "      <th>60.543820</th>\n",
       "      <td>0.341980</td>\n",
       "      <td>-0.528122</td>\n",
       "      <td>0.039820</td>\n",
       "      <td>0.107511</td>\n",
       "      <td>0.385936</td>\n",
       "      <td>-0.910643</td>\n",
       "      <td>1.449343</td>\n",
       "      <td>1.0</td>\n",
       "      <td>0.0</td>\n",
       "      <td>-1.284536</td>\n",
       "    </tr>\n",
       "    <tr>\n",
       "      <th>-187.009258</th>\n",
       "      <td>1.325157</td>\n",
       "      <td>-1.753854</td>\n",
       "      <td>-1.035807</td>\n",
       "      <td>-0.719374</td>\n",
       "      <td>-0.546500</td>\n",
       "      <td>-0.383988</td>\n",
       "      <td>-1.045878</td>\n",
       "      <td>1.0</td>\n",
       "      <td>0.0</td>\n",
       "      <td>0.422197</td>\n",
       "    </tr>\n",
       "    <tr>\n",
       "      <th>45.960226</th>\n",
       "      <td>0.878682</td>\n",
       "      <td>0.183198</td>\n",
       "      <td>-0.665877</td>\n",
       "      <td>0.644078</td>\n",
       "      <td>0.388354</td>\n",
       "      <td>-0.258774</td>\n",
       "      <td>0.471133</td>\n",
       "      <td>1.0</td>\n",
       "      <td>0.0</td>\n",
       "      <td>-1.132509</td>\n",
       "    </tr>\n",
       "    <tr>\n",
       "      <th>...</th>\n",
       "      <td>...</td>\n",
       "      <td>...</td>\n",
       "      <td>...</td>\n",
       "      <td>...</td>\n",
       "      <td>...</td>\n",
       "      <td>...</td>\n",
       "      <td>...</td>\n",
       "      <td>...</td>\n",
       "      <td>...</td>\n",
       "      <td>...</td>\n",
       "    </tr>\n",
       "    <tr>\n",
       "      <th>-182.405135</th>\n",
       "      <td>0.594217</td>\n",
       "      <td>-0.424430</td>\n",
       "      <td>-0.791374</td>\n",
       "      <td>-1.147904</td>\n",
       "      <td>-0.589355</td>\n",
       "      <td>2.221285</td>\n",
       "      <td>-1.923658</td>\n",
       "      <td>0.0</td>\n",
       "      <td>1.0</td>\n",
       "      <td>-0.171500</td>\n",
       "    </tr>\n",
       "    <tr>\n",
       "      <th>60.430709</th>\n",
       "      <td>0.776156</td>\n",
       "      <td>0.688326</td>\n",
       "      <td>-0.626834</td>\n",
       "      <td>0.900294</td>\n",
       "      <td>-0.058347</td>\n",
       "      <td>0.055437</td>\n",
       "      <td>0.364283</td>\n",
       "      <td>0.0</td>\n",
       "      <td>1.0</td>\n",
       "      <td>0.974359</td>\n",
       "    </tr>\n",
       "    <tr>\n",
       "      <th>55.818262</th>\n",
       "      <td>0.975898</td>\n",
       "      <td>-1.284105</td>\n",
       "      <td>2.996104</td>\n",
       "      <td>-0.840940</td>\n",
       "      <td>0.053096</td>\n",
       "      <td>1.180510</td>\n",
       "      <td>-0.828198</td>\n",
       "      <td>0.0</td>\n",
       "      <td>1.0</td>\n",
       "      <td>-1.663022</td>\n",
       "    </tr>\n",
       "    <tr>\n",
       "      <th>22.089660</th>\n",
       "      <td>0.837520</td>\n",
       "      <td>0.436174</td>\n",
       "      <td>-0.578085</td>\n",
       "      <td>0.208117</td>\n",
       "      <td>0.420575</td>\n",
       "      <td>1.183637</td>\n",
       "      <td>0.040207</td>\n",
       "      <td>0.0</td>\n",
       "      <td>1.0</td>\n",
       "      <td>-0.588244</td>\n",
       "    </tr>\n",
       "    <tr>\n",
       "      <th>-96.988458</th>\n",
       "      <td>-0.291328</td>\n",
       "      <td>-0.055756</td>\n",
       "      <td>0.925708</td>\n",
       "      <td>-0.627156</td>\n",
       "      <td>-0.397481</td>\n",
       "      <td>-0.111384</td>\n",
       "      <td>0.595173</td>\n",
       "      <td>0.0</td>\n",
       "      <td>1.0</td>\n",
       "      <td>-0.024241</td>\n",
       "    </tr>\n",
       "  </tbody>\n",
       "</table>\n",
       "<p>100 rows × 10 columns</p>\n",
       "</div>"
      ],
      "text/plain": [
       "                    0         1         2         3         4         5  \\\n",
       " 88.410998  -1.896928  1.231018 -0.810444  1.157672  0.390553 -0.533551   \n",
       "-101.448586 -1.921079  0.008909  0.253760 -0.167768 -1.134035 -0.235852   \n",
       " 60.543820   0.341980 -0.528122  0.039820  0.107511  0.385936 -0.910643   \n",
       "-187.009258  1.325157 -1.753854 -1.035807 -0.719374 -0.546500 -0.383988   \n",
       " 45.960226   0.878682  0.183198 -0.665877  0.644078  0.388354 -0.258774   \n",
       "...               ...       ...       ...       ...       ...       ...   \n",
       "-182.405135  0.594217 -0.424430 -0.791374 -1.147904 -0.589355  2.221285   \n",
       " 60.430709   0.776156  0.688326 -0.626834  0.900294 -0.058347  0.055437   \n",
       " 55.818262   0.975898 -1.284105  2.996104 -0.840940  0.053096  1.180510   \n",
       " 22.089660   0.837520  0.436174 -0.578085  0.208117  0.420575  1.183637   \n",
       "-96.988458  -0.291328 -0.055756  0.925708 -0.627156 -0.397481 -0.111384   \n",
       "\n",
       "                    6    7    8         9  \n",
       " 88.410998  -0.057197  1.0  0.0  0.031763  \n",
       "-101.448586  1.979192  1.0  0.0  0.157767  \n",
       " 60.543820   1.449343  1.0  0.0 -1.284536  \n",
       "-187.009258 -1.045878  1.0  0.0  0.422197  \n",
       " 45.960226   0.471133  1.0  0.0 -1.132509  \n",
       "...               ...  ...  ...       ...  \n",
       "-182.405135 -1.923658  0.0  1.0 -0.171500  \n",
       " 60.430709   0.364283  0.0  1.0  0.974359  \n",
       " 55.818262  -0.828198  0.0  1.0 -1.663022  \n",
       " 22.089660   0.040207  0.0  1.0 -0.588244  \n",
       "-96.988458   0.595173  0.0  1.0 -0.024241  \n",
       "\n",
       "[100 rows x 10 columns]"
      ]
     },
     "execution_count": 104,
     "metadata": {},
     "output_type": "execute_result"
    }
   ],
   "source": [
    "df_X"
   ]
  },
  {
   "cell_type": "code",
   "execution_count": 16,
   "id": "afb100a3",
   "metadata": {},
   "outputs": [
    {
     "name": "stdout",
     "output_type": "stream",
     "text": [
      "           0         1         2         3         4         5         6    7  \\\n",
      "0  -1.896928  1.231018 -0.810444  1.157672  0.390553 -0.533551 -0.057197  1.0   \n",
      "1  -1.921079  0.008909  0.253760 -0.167768 -1.134035 -0.235852  1.979192  1.0   \n",
      "2   0.341980 -0.528122  0.039820  0.107511  0.385936 -0.910643  1.449343  1.0   \n",
      "3   1.325157 -1.753854 -1.035807 -0.719374 -0.546500 -0.383988 -1.045878  1.0   \n",
      "4   0.878682  0.183198 -0.665877  0.644078  0.388354 -0.258774  0.471133  1.0   \n",
      "..       ...       ...       ...       ...       ...       ...       ...  ...   \n",
      "95  0.594217 -0.424430 -0.791374 -1.147904 -0.589355  2.221285 -1.923658  0.0   \n",
      "96  0.776156  0.688326 -0.626834  0.900294 -0.058347  0.055437  0.364283  0.0   \n",
      "97  0.975898 -1.284105  2.996104 -0.840940  0.053096  1.180510 -0.828198  0.0   \n",
      "98  0.837520  0.436174 -0.578085  0.208117  0.420575  1.183637  0.040207  0.0   \n",
      "99 -0.291328 -0.055756  0.925708 -0.627156 -0.397481 -0.111384  0.595173  0.0   \n",
      "\n",
      "      8         9           y  \n",
      "0   0.0  0.031763   88.410998  \n",
      "1   0.0  0.157767 -101.448586  \n",
      "2   0.0 -1.284536   60.543820  \n",
      "3   0.0  0.422197 -187.009258  \n",
      "4   0.0 -1.132509   45.960226  \n",
      "..  ...       ...         ...  \n",
      "95  1.0 -0.171500 -182.405135  \n",
      "96  1.0  0.974359   60.430709  \n",
      "97  1.0 -1.663022   55.818262  \n",
      "98  1.0 -0.588244   22.089660  \n",
      "99  1.0 -0.024241  -96.988458  \n",
      "\n",
      "[90 rows x 11 columns]\n"
     ]
    }
   ],
   "source": [
    "condition = (df_X[7] == 1) | (df_X[8] == 1)\n",
    "\n",
    "\n",
    "filterd_df_X = df_X[condition]\n",
    "print(filterd_df_X)"
   ]
  },
  {
   "cell_type": "code",
   "execution_count": 17,
   "id": "b1a33ea1",
   "metadata": {},
   "outputs": [
    {
     "name": "stdout",
     "output_type": "stream",
     "text": [
      "length of X 90\n"
     ]
    }
   ],
   "source": [
    "length = len(filterd_df_X)\n",
    "\n",
    "print(f\"length of X {length}\")"
   ]
  },
  {
   "cell_type": "code",
   "execution_count": 18,
   "id": "c4df4d5d",
   "metadata": {},
   "outputs": [
    {
     "name": "stdout",
     "output_type": "stream",
     "text": [
      "           0         1         2         3         4         5         6    7  \\\n",
      "0  -1.896928  1.231018 -0.810444  1.157672  0.390553 -0.533551 -0.057197  1.0   \n",
      "1  -1.921079  0.008909  0.253760 -0.167768 -1.134035 -0.235852  1.979192  1.0   \n",
      "2   0.341980 -0.528122  0.039820  0.107511  0.385936 -0.910643  1.449343  1.0   \n",
      "3   1.325157 -1.753854 -1.035807 -0.719374 -0.546500 -0.383988 -1.045878  1.0   \n",
      "4   0.878682  0.183198 -0.665877  0.644078  0.388354 -0.258774  0.471133  1.0   \n",
      "..       ...       ...       ...       ...       ...       ...       ...  ...   \n",
      "95  0.594217 -0.424430 -0.791374 -1.147904 -0.589355  2.221285 -1.923658  0.0   \n",
      "96  0.776156  0.688326 -0.626834  0.900294 -0.058347  0.055437  0.364283  0.0   \n",
      "97  0.975898 -1.284105  2.996104 -0.840940  0.053096  1.180510 -0.828198  0.0   \n",
      "98  0.837520  0.436174 -0.578085  0.208117  0.420575  1.183637  0.040207  0.0   \n",
      "99 -0.291328 -0.055756  0.925708 -0.627156 -0.397481 -0.111384  0.595173  0.0   \n",
      "\n",
      "           9           y  \n",
      "0   0.031763   88.410998  \n",
      "1   0.157767 -101.448586  \n",
      "2  -1.284536   60.543820  \n",
      "3   0.422197 -187.009258  \n",
      "4  -1.132509   45.960226  \n",
      "..       ...         ...  \n",
      "95 -0.171500 -182.405135  \n",
      "96  0.974359   60.430709  \n",
      "97 -1.663022   55.818262  \n",
      "98 -0.588244   22.089660  \n",
      "99 -0.024241  -96.988458  \n",
      "\n",
      "[90 rows x 10 columns]\n"
     ]
    }
   ],
   "source": [
    "filterd_df_X = filterd_df_X.drop(columns=[8])\n",
    "print(filterd_df_X)"
   ]
  },
  {
   "cell_type": "code",
   "execution_count": 19,
   "id": "af2ed7b4",
   "metadata": {},
   "outputs": [],
   "source": [
    "columns_to_include = [col for col in filterd_df_X.columns if col != 'y']\n",
    "\n",
    "\n",
    "X_1 = filterd_df_X[columns_to_include].values"
   ]
  },
  {
   "cell_type": "code",
   "execution_count": 20,
   "id": "58de5c50",
   "metadata": {},
   "outputs": [
    {
     "name": "stdout",
     "output_type": "stream",
     "text": [
      "0      88.410998\n",
      "1    -101.448586\n",
      "2      60.543820\n",
      "3    -187.009258\n",
      "4      45.960226\n",
      "         ...    \n",
      "95   -182.405135\n",
      "96     60.430709\n",
      "97     55.818262\n",
      "98     22.089660\n",
      "99    -96.988458\n",
      "Name: y, Length: 90, dtype: float64\n"
     ]
    }
   ],
   "source": [
    "column_without_name = filterd_df_X.iloc[:, 0]\n",
    "\n",
    "\n",
    "y = filterd_df_X['y']\n",
    "print(y)"
   ]
  },
  {
   "cell_type": "code",
   "execution_count": 21,
   "id": "68f214c2",
   "metadata": {},
   "outputs": [
    {
     "data": {
      "text/html": [
       "<div>\n",
       "<style scoped>\n",
       "    .dataframe tbody tr th:only-of-type {\n",
       "        vertical-align: middle;\n",
       "    }\n",
       "\n",
       "    .dataframe tbody tr th {\n",
       "        vertical-align: top;\n",
       "    }\n",
       "\n",
       "    .dataframe thead th {\n",
       "        text-align: right;\n",
       "    }\n",
       "</style>\n",
       "<table border=\"1\" class=\"dataframe\">\n",
       "  <thead>\n",
       "    <tr style=\"text-align: right;\">\n",
       "      <th></th>\n",
       "      <th>coef</th>\n",
       "      <th>correlation r</th>\n",
       "      <th>correlation p</th>\n",
       "    </tr>\n",
       "  </thead>\n",
       "  <tbody>\n",
       "    <tr>\n",
       "      <th>feature 0</th>\n",
       "      <td>-0.663449</td>\n",
       "      <td>0.145965</td>\n",
       "      <td>1.698284e-01</td>\n",
       "    </tr>\n",
       "    <tr>\n",
       "      <th>feature 1</th>\n",
       "      <td>4.947243</td>\n",
       "      <td>0.164670</td>\n",
       "      <td>1.209094e-01</td>\n",
       "    </tr>\n",
       "    <tr>\n",
       "      <th>feature 2</th>\n",
       "      <td>41.994668</td>\n",
       "      <td>0.237661</td>\n",
       "      <td>2.409877e-02</td>\n",
       "    </tr>\n",
       "    <tr>\n",
       "      <th>feature 3</th>\n",
       "      <td>79.675236</td>\n",
       "      <td>0.756856</td>\n",
       "      <td>6.199034e-18</td>\n",
       "    </tr>\n",
       "    <tr>\n",
       "      <th>feature 4</th>\n",
       "      <td>71.757447</td>\n",
       "      <td>0.564353</td>\n",
       "      <td>6.915090e-09</td>\n",
       "    </tr>\n",
       "    <tr>\n",
       "      <th>feature 5</th>\n",
       "      <td>-4.818838</td>\n",
       "      <td>-0.148077</td>\n",
       "      <td>1.636692e-01</td>\n",
       "    </tr>\n",
       "    <tr>\n",
       "      <th>feature 6</th>\n",
       "      <td>2.264529</td>\n",
       "      <td>-0.089182</td>\n",
       "      <td>4.032148e-01</td>\n",
       "    </tr>\n",
       "    <tr>\n",
       "      <th>feature 7</th>\n",
       "      <td>-7.506209</td>\n",
       "      <td>0.086365</td>\n",
       "      <td>4.182893e-01</td>\n",
       "    </tr>\n",
       "    <tr>\n",
       "      <th>feature 8</th>\n",
       "      <td>-2.609760</td>\n",
       "      <td>-0.059479</td>\n",
       "      <td>5.776122e-01</td>\n",
       "    </tr>\n",
       "  </tbody>\n",
       "</table>\n",
       "</div>"
      ],
      "text/plain": [
       "                coef  correlation r  correlation p\n",
       "feature 0  -0.663449       0.145965   1.698284e-01\n",
       "feature 1   4.947243       0.164670   1.209094e-01\n",
       "feature 2  41.994668       0.237661   2.409877e-02\n",
       "feature 3  79.675236       0.756856   6.199034e-18\n",
       "feature 4  71.757447       0.564353   6.915090e-09\n",
       "feature 5  -4.818838      -0.148077   1.636692e-01\n",
       "feature 6   2.264529      -0.089182   4.032148e-01\n",
       "feature 7  -7.506209       0.086365   4.182893e-01\n",
       "feature 8  -2.609760      -0.059479   5.776122e-01"
      ]
     },
     "execution_count": 21,
     "metadata": {},
     "output_type": "execute_result"
    }
   ],
   "source": [
    "model = RidgeCV()\n",
    "model.fit(X_1, y)\n",
    "correlations_r = [pearsonr(X_1[:, i], y)[0] for i in range(X_1.shape[1])]\n",
    "correlations_p = [pearsonr(X_1[:, i], y)[1] for i in range(X_1.shape[1])]\n",
    "df = pd.DataFrame({\n",
    "        \"coef\": model.coef_.flatten(), \n",
    "        \"correlation r\": correlations_r, \n",
    "        \"correlation p\": correlations_p}, \n",
    "    index=[f\"feature {i}\" for i in range(X_1.shape[1])])\n",
    "df"
   ]
  },
  {
   "cell_type": "code",
   "execution_count": null,
   "id": "4d6dc17c",
   "metadata": {},
   "outputs": [],
   "source": []
  }
 ],
 "metadata": {
  "kernelspec": {
   "display_name": "Python 3 (ipykernel)",
   "language": "python",
   "name": "python3"
  },
  "language_info": {
   "codemirror_mode": {
    "name": "ipython",
    "version": 3
   },
   "file_extension": ".py",
   "mimetype": "text/x-python",
   "name": "python",
   "nbconvert_exporter": "python",
   "pygments_lexer": "ipython3",
   "version": "3.11.7"
  }
 },
 "nbformat": 4,
 "nbformat_minor": 5
}
{
"cell_type": "markdown",
"id": "ff77dd9d",
   "metadata": {},
   "source": [
    "The tables above show that the removal of the one dummy variable causes the value of the coefficient 7 to fall sharply. This effect is greater in the variant where the original reference group was removed. ."
   ]
  }
